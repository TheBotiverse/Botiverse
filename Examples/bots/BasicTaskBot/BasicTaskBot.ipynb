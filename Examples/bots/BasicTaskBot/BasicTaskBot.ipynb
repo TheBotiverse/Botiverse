{
 "cells": [
  {
   "cell_type": "markdown",
   "metadata": {},
   "source": [
    "# Basic Task Bot Demo"
   ]
  },
  {
   "cell_type": "code",
   "execution_count": 1,
   "metadata": {},
   "outputs": [],
   "source": [
    "from botiverse import chat_gui\n",
    "from botiverse.bots import BasicTaskBot"
   ]
  },
  {
   "cell_type": "markdown",
   "metadata": {},
   "source": [
    "### Define the Grammar"
   ]
  },
  {
   "cell_type": "markdown",
   "metadata": {},
   "source": [
    "#### 1. Decide the Domains (i.e., tasks) and Slots in each"
   ]
  },
  {
   "cell_type": "code",
   "execution_count": 2,
   "metadata": {},
   "outputs": [],
   "source": [
    "domains_slots = {\n",
    "    \"book-flight\": [\"source\", \"destination\", \"day\"]\n",
    "    }"
   ]
  },
  {
   "cell_type": "markdown",
   "metadata": {},
   "source": [
    "#### 2. Decide Chatbot Utterances per Slot"
   ]
  },
  {
   "cell_type": "code",
   "execution_count": 3,
   "metadata": {},
   "outputs": [],
   "source": [
    "\n",
    "templates = {\n",
    "                \"book-flight\":\n",
    "                {\n",
    "                    \"source\": [\"Where do you want to fly from?\",\n",
    "                               \"From where will you take the flight?\"],\n",
    "                    \"destination\": [\"What is your destination?\",\n",
    "                                    \"Where do you want to go?\"],\n",
    "                    \"day\": [\"What day do you want to leave?\"],\n",
    "                    \"ALL-FILLED\": [\"ok done, here is your ticket number: 123456, your booking information is:\"]\n",
    "                }\n",
    "            }"
   ]
  },
  {
   "cell_type": "markdown",
   "metadata": {},
   "source": [
    "#### 3. Write Patterns that Initiate a Task"
   ]
  },
  {
   "cell_type": "code",
   "execution_count": 4,
   "metadata": {},
   "outputs": [],
   "source": [
    "domains_pattern = {\"book-flight\": r\"(i|I) want to (book|reserve) a? flights?\"}"
   ]
  },
  {
   "cell_type": "markdown",
   "metadata": {},
   "source": [
    "#### 4. Write Patterns to Interpret Answers"
   ]
  },
  {
   "cell_type": "code",
   "execution_count": 5,
   "metadata": {},
   "outputs": [],
   "source": [
    "slots_pattern = {\n",
    "                    \"book-flight\":\n",
    "                    {\n",
    "                        \"source\": r\"from(?: city)? (cairo|giza)\",\n",
    "                        \"destination\": r\"to(?: city)? (cairo|giza)\",\n",
    "                        \"day\": r\"(saturday|sunday|monday|tuesday|wednesday|thursday|friday)\"\n",
    "                    }\n",
    "                }"
   ]
  },
  {
   "cell_type": "markdown",
   "metadata": {},
   "source": [
    "### Build the chatbot"
   ]
  },
  {
   "cell_type": "code",
   "execution_count": 6,
   "metadata": {},
   "outputs": [],
   "source": [
    "chatbot = BasicTaskBot(domains_slots, templates, domains_pattern, slots_pattern, verbose=True, append_state=True)"
   ]
  },
  {
   "cell_type": "markdown",
   "metadata": {},
   "source": [
    "### Deploy the Chatbot"
   ]
  },
  {
   "cell_type": "code",
   "execution_count": 7,
   "metadata": {},
   "outputs": [
    {
     "name": "stdout",
     "output_type": "stream",
     "text": [
      " * Serving Flask app 'botiverse.gui.gui'\n",
      " * Debug mode: off\n"
     ]
    },
    {
     "name": "stderr",
     "output_type": "stream",
     "text": [
      "WARNING: This is a development server. Do not use it in a production deployment. Use a production WSGI server instead.\n",
      " * Running on http://127.0.0.1:5000\n",
      "Press CTRL+C to quit\n"
     ]
    },
    {
     "name": "stderr",
     "output_type": "stream",
     "text": [
      "127.0.0.1 - - [27/Jul/2023 18:45:36] \"GET / HTTP/1.1\" 200 -\n",
      "127.0.0.1 - - [27/Jul/2023 18:45:36] \"GET /static/style.css HTTP/1.1\" 304 -\n",
      "127.0.0.1 - - [27/Jul/2023 18:45:36] \"GET /static/logo.png HTTP/1.1\" 304 -\n",
      "127.0.0.1 - - [27/Jul/2023 18:45:36] \"GET /static/icons/Task%20Bot.png HTTP/1.1\" 304 -\n",
      "127.0.0.1 - - [27/Jul/2023 18:45:42] \"POST /get HTTP/1.1\" 200 -\n"
     ]
    },
    {
     "name": "stdout",
     "output_type": "stream",
     "text": [
      "State: {'book-flight': {'source': None, 'destination': None, 'day': None}}\n"
     ]
    },
    {
     "name": "stderr",
     "output_type": "stream",
     "text": [
      "127.0.0.1 - - [27/Jul/2023 18:45:51] \"POST /get HTTP/1.1\" 200 -\n"
     ]
    },
    {
     "name": "stdout",
     "output_type": "stream",
     "text": [
      "State: {'book-flight': {'source': 'cairo', 'destination': 'giza', 'day': None}}\n"
     ]
    },
    {
     "name": "stderr",
     "output_type": "stream",
     "text": [
      "127.0.0.1 - - [27/Jul/2023 18:45:55] \"POST /get HTTP/1.1\" 200 -\n"
     ]
    },
    {
     "name": "stdout",
     "output_type": "stream",
     "text": [
      "State: {'book-flight': {'source': 'cairo', 'destination': 'giza', 'day': 'tuesday'}}\n"
     ]
    },
    {
     "data": {
      "text/plain": [
       "<botiverse.gui.gui.chat_gui at 0x1aa2a51d570>"
      ]
     },
     "execution_count": 7,
     "metadata": {},
     "output_type": "execute_result"
    }
   ],
   "source": [
    "chat_gui('Task Bot', chatbot.infer)"
   ]
  }
 ],
 "metadata": {
  "kernelspec": {
   "display_name": "pytorch",
   "language": "python",
   "name": "python3"
  },
  "language_info": {
   "codemirror_mode": {
    "name": "ipython",
    "version": 3
   },
   "file_extension": ".py",
   "mimetype": "text/x-python",
   "name": "python",
   "nbconvert_exporter": "python",
   "pygments_lexer": "ipython3",
   "version": "3.10.6"
  },
  "orig_nbformat": 4
 },
 "nbformat": 4,
 "nbformat_minor": 2
}
