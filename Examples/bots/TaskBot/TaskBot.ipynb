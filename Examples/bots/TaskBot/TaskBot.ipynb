{
  "cells": [
    {
      "cell_type": "markdown",
      "metadata": {},
      "source": [
        "# Task Bot Guide"
      ]
    },
    {
      "cell_type": "code",
      "execution_count": null,
      "metadata": {},
      "outputs": [],
      "source": [
        "from botiverse import chat_gui\n",
        "from botiverse.bots import TaskBot"
      ]
    },
    {
      "cell_type": "markdown",
      "metadata": {},
      "source": [
        "### Dataset Sample"
      ]
    },
    {
      "cell_type": "markdown",
      "metadata": {},
      "source": [
        "```json\n",
        "{\n",
        "    \"turn_idx\": 4,\n",
        "    \"system_utterance\": \"4 people are going tonight , correct ?\",\n",
        "    \"user_utterance\": \"yes , 4 people are going tonight .\",\n",
        "    \"turn_slots\": {},\n",
        "    \"system_act\": {\n",
        "        \"restaurant-num_people\": [\n",
        "            \"4\"\n",
        "        ],\n",
        "        \"restaurant-date\": [\n",
        "            \"tonight\"\n",
        "        ]\n",
        "    }\n",
        "},\n",
        "    ```  "
      ]
    },
    {
      "cell_type": "markdown",
      "metadata": {},
      "source": [
        "### Setup State Info"
      ]
    },
    {
      "cell_type": "markdown",
      "metadata": {},
      "source": [
        "#### 1. Set the Domain (i.e., task) and its Slots"
      ]
    },
    {
      "cell_type": "code",
      "execution_count": null,
      "metadata": {},
      "outputs": [],
      "source": [
        "# The domains e.g. restaurant, hotel, etc.\n",
        "domains = [\"restaurant\"]\n",
        "\n",
        "# The names of the slots where each slot is prefixed with the domain name e.g. restaurant-name, hotel-name, etc.\n",
        "slot_list = [\n",
        "    \"restaurant-category\",\n",
        "    \"restaurant-rating\",\n",
        "    \"restaurant-num_people\",\n",
        "    \"restaurant-location\",\n",
        "    \"restaurant-restaurant_name\",\n",
        "    \"restaurant-time\",\n",
        "    \"restaurant-date\",\n",
        "    \"restaurant-price_range\",\n",
        "    \"restaurant-meal\"\n",
        "]"
      ]
    },
    {
      "cell_type": "markdown",
      "metadata": {},
      "source": [
        "#### 2. Set Initial Utterance and Chatbot Utterances per Slot"
      ]
    },
    {
      "cell_type": "code",
      "execution_count": null,
      "metadata": {},
      "outputs": [],
      "source": [
        "# The utterances for the system to start the conversation\n",
        "start = [\n",
        "    {\n",
        "        'utterance': 'Hi I am Tody, I can help you reserve a restaurant?',\n",
        "        'slots': [],\n",
        "        'system_act': {}\n",
        "    }\n",
        "]\n",
        "\n",
        "# The templates for generating responses\n",
        "templates = [\n",
        "    {\n",
        "        'utterance': 'what type of food do you want and in what area?',\n",
        "        'slots': ['restaurant-location', 'restaurant-category'],\n",
        "        'system_act': {}\n",
        "    },\n",
        "    {\n",
        "        'utterance': 'what is your preferred price range and rating?',\n",
        "        'slots': ['restaurant-price_range', 'restaurant-rating'],\n",
        "        'system_act': {}\n",
        "    },\n",
        "    {\n",
        "        'utterance': 'how many people will be in your party?',\n",
        "        'slots': ['restaurant-num_people'],\n",
        "        'system_act': {}\n",
        "    },\n",
        "    {\n",
        "        'utterance': 'what time and date would you like to reserve a table for?',\n",
        "        'slots': ['restaurant-time', 'restaurant-date'],\n",
        "        'system_act': {}\n",
        "    },\n",
        "    {\n",
        "        'utterance': 'May I suggest kfc restaurant?',\n",
        "        'slots': ['restaurant-restaurant_name'],\n",
        "        'system_act': {'restaurant-restaurant_name': ['kfc']}\n",
        "    },\n",
        "    {\n",
        "        'utterance': 'ok done, here is your reservation number: 123456',\n",
        "        'slots': [],\n",
        "        'system_act': {}\n",
        "    }\n",
        "]"
      ]
    },
    {
      "cell_type": "markdown",
      "metadata": {
        "id": "nN2fVS6F-zo0"
      },
      "source": [
        "### Initiate Chatbot"
      ]
    },
    {
      "cell_type": "code",
      "execution_count": null,
      "metadata": {
        "colab": {
          "base_uri": "https://localhost:8080/"
        },
        "id": "pUjWVWDwlAuP",
        "outputId": "7bfb5119-534e-46f3-9651-99b79bbe8c72"
      },
      "outputs": [],
      "source": [
        "chatbot = TaskBot(domains, slot_list, start, templates, verbose=True)"
      ]
    },
    {
      "cell_type": "markdown",
      "metadata": {},
      "source": [
        "### Load the Dataset"
      ]
    },
    {
      "cell_type": "code",
      "execution_count": null,
      "metadata": {},
      "outputs": [],
      "source": [
        "train_path = 'sim-R_dataset/train_dials.json'\n",
        "dev_path = 'sim-R_dataset/dev_dials.json'\n",
        "test_path = 'sim-R_dataset/test_dials.json'\n",
        "\n",
        "chatbot.read_data(train_path, dev_path, test_path)"
      ]
    },
    {
      "cell_type": "markdown",
      "metadata": {
        "id": "nM1AWHHX-1fG"
      },
      "source": [
        "### Train the Chatbot"
      ]
    },
    {
      "cell_type": "code",
      "execution_count": null,
      "metadata": {
        "colab": {
          "base_uri": "https://localhost:8080/"
        },
        "id": "QXE8j07VlChR",
        "outputId": "4ff75074-5286-4653-b664-cfc71cc816fb"
      },
      "outputs": [],
      "source": [
        "chatbot.train()"
      ]
    },
    {
      "cell_type": "markdown",
      "metadata": {},
      "source": [
        "### Deploy the Chatbot\n"
      ]
    },
    {
      "cell_type": "code",
      "execution_count": null,
      "metadata": {},
      "outputs": [],
      "source": [
        "chat_gui('Task Bot', chatbot.infer)"
      ]
    }
  ],
  "metadata": {
    "accelerator": "GPU",
    "colab": {
      "collapsed_sections": [
        "uqSL1SM8jTmN",
        "lUwJn3GGkAeJ",
        "xL8SWbdag55U",
        "OGMX4sV0hPm2",
        "OHprhkophXcd",
        "jWPsHYnQhZeC",
        "y0Gj-tIcixed",
        "s1wW97HBi_SR",
        "eZeVgmAYjA1T"
      ],
      "gpuType": "T4",
      "provenance": []
    },
    "kernelspec": {
      "display_name": "Python 3",
      "name": "python3"
    },
    "language_info": {
      "codemirror_mode": {
        "name": "ipython",
        "version": 3
      },
      "file_extension": ".py",
      "mimetype": "text/x-python",
      "name": "python",
      "nbconvert_exporter": "python",
      "pygments_lexer": "ipython3",
      "version": "3.10.6"
    }
  },
  "nbformat": 4,
  "nbformat_minor": 0
}
