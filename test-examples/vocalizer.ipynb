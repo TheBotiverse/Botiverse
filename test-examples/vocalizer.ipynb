{
 "cells": [
  {
   "cell_type": "code",
   "execution_count": 2,
   "metadata": {},
   "outputs": [
    {
     "name": "stderr",
     "output_type": "stream",
     "text": [
      "Recording: 100%|██████████| 46/46 [00:02<00:00, 15.49it/s, Volume=1456, State=Talking] \n"
     ]
    },
    {
     "name": "stdout",
     "output_type": "stream",
     "text": [
      "you said: in mexican and the bot decided that you meant Spanish with a score of 0.5032280683517456\n"
     ]
    },
    {
     "name": "stderr",
     "output_type": "stream",
     "text": [
      "Recording: 100%|██████████| 46/46 [00:02<00:00, 15.49it/s, Volume=1415, State=Talking] \n"
     ]
    },
    {
     "name": "stdout",
     "output_type": "stream",
     "text": [
      "you said: okuey then english and the bot decided that you meant English with a score of 0.5277768969535828\n"
     ]
    },
    {
     "name": "stderr",
     "output_type": "stream",
     "text": [
      "Recording: 100%|██████████| 46/46 [00:02<00:00, 15.48it/s, Volume=1025, State=Talking] \n"
     ]
    },
    {
     "name": "stdout",
     "output_type": "stream",
     "text": [
      "you said: yes exactly and the bot decided that you meant yes with a score of 0.5077362656593323\n"
     ]
    },
    {
     "name": "stderr",
     "output_type": "stream",
     "text": [
      "Recording: 100%|██████████| 78/78 [00:05<00:00, 15.53it/s, Volume=1059, State=Talking] \n"
     ]
    },
    {
     "name": "stdout",
     "output_type": "stream",
     "text": [
      "you said: i'm i'm unable to feel comfortable in my flight and the bot decided that you meant discomfort in flight with a score of 0.18175382912158966\n"
     ]
    },
    {
     "name": "stderr",
     "output_type": "stream",
     "text": [
      "Recording: 100%|██████████| 46/46 [00:02<00:00, 15.50it/s, Volume=1101, State=Talking] \n"
     ]
    },
    {
     "name": "stdout",
     "output_type": "stream",
     "text": [
      "you said: am sir and the bot decided that you meant no with a score of 0.5130637884140015\n"
     ]
    }
   ],
   "source": [
    "from botiverse.bots import Vocalizer\n",
    "\n",
    "call = Vocalizer('call.json')\n",
    "call.simulate_call()"
   ]
  },
  {
   "cell_type": "code",
   "execution_count": 20,
   "metadata": {},
   "outputs": [
    {
     "name": "stdout",
     "output_type": "stream",
     "text": [
      "tensor(-0.0126, grad_fn=<MeanBackward0>)\n"
     ]
    }
   ],
   "source": [
    "\n",
    "from botiverse.preprocessors import BertEmbedder\n",
    "\n",
    "bert = BertEmbedder()\n",
    "print(bert.embed('no').mean())"
   ]
  }
 ],
 "metadata": {
  "kernelspec": {
   "display_name": "M1",
   "language": "python",
   "name": "python3"
  },
  "language_info": {
   "codemirror_mode": {
    "name": "ipython",
    "version": 3
   },
   "file_extension": ".py",
   "mimetype": "text/x-python",
   "name": "python",
   "nbconvert_exporter": "python",
   "pygments_lexer": "ipython3",
   "version": "3.9.16"
  },
  "orig_nbformat": 4
 },
 "nbformat": 4,
 "nbformat_minor": 2
}
