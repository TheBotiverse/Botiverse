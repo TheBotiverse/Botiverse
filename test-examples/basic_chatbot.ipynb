{
 "cells": [
  {
   "cell_type": "code",
   "execution_count": 5,
   "metadata": {},
   "outputs": [
    {
     "name": "stdout",
     "output_type": "stream",
     "text": [
      "Model finished training with accuracy 1.0\n",
      " * Serving Flask app 'botiverse.gui.gui'\n",
      " * Debug mode: off\n"
     ]
    },
    {
     "name": "stderr",
     "output_type": "stream",
     "text": [
      "\u001b[31m\u001b[1mWARNING: This is a development server. Do not use it in a production deployment. Use a production WSGI server instead.\u001b[0m\n",
      " * Running on http://127.0.0.1:5000\n",
      "\u001b[33mPress CTRL+C to quit\u001b[0m\n",
      "127.0.0.1 - - [19/Jul/2023 13:14:09] \"GET / HTTP/1.1\" 200 -\n",
      "127.0.0.1 - - [19/Jul/2023 13:14:09] \"\u001b[36mGET /static/style.css HTTP/1.1\u001b[0m\" 304 -\n",
      "127.0.0.1 - - [19/Jul/2023 13:14:09] \"\u001b[36mGET /static/logo.png HTTP/1.1\u001b[0m\" 304 -\n",
      "127.0.0.1 - - [19/Jul/2023 13:14:09] \"GET /static/icons/Converse%20Bot.png HTTP/1.1\" 200 -\n",
      "127.0.0.1 - - [19/Jul/2023 13:14:09] \"GET /static/favicon.png HTTP/1.1\" 200 -\n",
      "127.0.0.1 - - [19/Jul/2023 13:14:26] \"POST /get HTTP/1.1\" 200 -\n",
      "127.0.0.1 - - [19/Jul/2023 13:14:35] \"POST /get HTTP/1.1\" 200 -\n"
     ]
    },
    {
     "data": {
      "text/plain": [
       "<botiverse.gui.gui.chat_gui at 0x105c6ae20>"
      ]
     },
     "execution_count": 5,
     "metadata": {},
     "output_type": "execute_result"
    }
   ],
   "source": [
    "from botiverse.bots import basic_chatbot\n",
    "from botiverse import chat_gui\n",
    "\n",
    "bot = basic_chatbot(machine='svm', repr='tf-idf')\n",
    "bot.train('dataset.json')\n",
    "\n",
    "chat_gui('Converse Bot', bot.infer)"
   ]
  },
  {
   "cell_type": "code",
   "execution_count": null,
   "metadata": {},
   "outputs": [],
   "source": [
    "\n",
    "#from botiverse.models import TTS\n",
    "from botiverse.models import NeuralNet\n",
    "from botiverse.preprocessors import GloVe\n",
    "#tts = TTS()\n",
    "\n",
    "bot.save('basic_chatbot')\n",
    "\n",
    "# Now this can run on the server\n",
    "bot.infer(\"Which majors do the university offer?\")\n",
    "\n"
   ]
  },
  {
   "cell_type": "code",
   "execution_count": 3,
   "metadata": {},
   "outputs": [
    {
     "name": "stdout",
     "output_type": "stream",
     "text": [
      "Model finished training with accuracy 1.0\n"
     ]
    },
    {
     "name": "stderr",
     "output_type": "stream",
     "text": [
      "Train Acc: 1.0: 100%|██████████| 1000/1000 [00:04<00:00, 200.63it/s]\n"
     ]
    },
    {
     "name": "stdout",
     "output_type": "stream",
     "text": [
      "Model finished training with accuracy 1.0\n"
     ]
    },
    {
     "name": "stderr",
     "output_type": "stream",
     "text": [
      "Train Acc: 1.0: 100%|██████████| 1000/1000 [00:04<00:00, 233.09it/s]\n"
     ]
    },
    {
     "name": "stdout",
     "output_type": "stream",
     "text": [
      "Model finished training with accuracy 1.0\n"
     ]
    },
    {
     "name": "stderr",
     "output_type": "stream",
     "text": [
      "Train Acc: 1.0: 100%|██████████| 1000/1000 [00:04<00:00, 227.29it/s]\n"
     ]
    },
    {
     "name": "stdout",
     "output_type": "stream",
     "text": [
      "Model finished training with accuracy 1.0\n"
     ]
    },
    {
     "name": "stderr",
     "output_type": "stream",
     "text": [
      "Train Acc: 1.0: 100%|██████████| 1000/1000 [00:04<00:00, 230.79it/s]\n"
     ]
    },
    {
     "name": "stdout",
     "output_type": "stream",
     "text": [
      "{('bow', 'svm'): 0.8333333333333334, ('bow', 'nn'): 0.9, ('glove', 'svm'): 0.7666666666666667, ('glove', 'nn'): 0.8, ('tf-idf', 'svm'): 0.6, ('tf-idf', 'nn'): 0.7666666666666667, ('tf-idf-glove', 'svm'): 0.7666666666666667, ('tf-idf-glove', 'nn'): 0.8666666666666667}\n",
      "\n",
      "{('bow', 'svm'): 0.9, ('bow', 'nn'): 0.9666666666666667, ('glove', 'svm'): 0.6666666666666666, ('glove', 'nn'): 0.7333333333333333, ('tf-idf', 'svm'): 0.6333333333333333, ('tf-idf', 'nn'): 0.8666666666666667, ('tf-idf-glove', 'svm'): 0.7666666666666667, ('tf-idf-glove', 'nn'): 0.9333333333333333}\n"
     ]
    }
   ],
   "source": [
    "t1 = [\n",
    "    \"What academic programs does the university provide?\",\n",
    "    \"Could you give me information about the available courses?\",\n",
    "    \"How do I go about applying for admission to the university?\",\n",
    "    \"What are the prerequisites for admission?\",\n",
    "    \"Can you explain the process of submitting an application?\",\n",
    "    \"What is the tuition fee for attending the university?\",\n",
    "    \"Can you please provide details about the costs of tuition?\",\n",
    "    \"Tell me about the financial aspects associated with studying at the university.\",\n",
    "    \"What can you tell me about the campus of the university?\",\n",
    "    \"Describe the amenities and facilities on the university campus.\",\n",
    "    \"How can I get in touch with the university's contact person?\",\n",
    "    \"Please share the contact information for the university.\",\n",
    "    \"Which academic programs are available for students at the university?\",\n",
    "    \"Can you provide information about the majors offered by the university?\",\n",
    "    \"How is your day going?\",\n",
    "    \"Is there someone who can assist me with my queries?\",\n",
    "    \"Hello, can you help me with the questions I have?\",\n",
    "    \"Good day! How may I seek your assistance today?\",\n",
    "    \"I would like to express my gratitude for your help.\",\n",
    "    \"I am thankful for your support.\",\n",
    "    \"Thank you very much for the provided information.\",\n",
    "    \"Goodbye! Take care and have a great day.\",\n",
    "    \"Farewell! Enjoy the rest of your day.\",\n",
    "    \"Have a wonderful day and goodbye.\",\n",
    "    \"Which majors does the university offer to students?\",\n",
    "    \"How can I proceed with the application process for the university?\",\n",
    "    \"Can you guide me through the steps of admission?\",\n",
    "    \"Do you have information about the expenses related to tuition?\",\n",
    "    \"What is the cost of attending the university?\",\n",
    "    \"Tell me about the facilities present on the university campus.\"\n",
    "]\n",
    "\n",
    "t2 = [\n",
    "    \"What are the available majors at the university?\",\n",
    "    \"Could you provide information about the offered courses?\",\n",
    "    \"How do I proceed with my application to the college?\",\n",
    "    \"What are the prerequisites for admission?\",\n",
    "    \"Please explain the process of applying.\",\n",
    "    \"What is the tuition cost for attending the institution?\",\n",
    "    \"Can you give details about the fees for tuition?\",\n",
    "    \"Tell me about the financial aspects of studying at the college.\",\n",
    "    \"What can you tell me about the campus of the school?\",\n",
    "    \"Describe the facilities present on the campus.\",\n",
    "    \"How can I contact the university's representative?\",\n",
    "    \"Please share the contact details for the institution.\",\n",
    "    \"Which academic programs are provided by the school?\",\n",
    "    \"What kind of majors does the college offer?\",\n",
    "    \"How is your day so far?\",\n",
    "    \"Is there someone available to assist me?\",\n",
    "    \"Hello, can you help me with my questions?\",\n",
    "    \"Good day! How can I receive your support today?\",\n",
    "    \"Thank you for your assistance.\",\n",
    "    \"I appreciate your help.\",\n",
    "    \"Thanks a lot for the information.\",\n",
    "    \"Goodbye! Have a great day.\",\n",
    "    \"Farewell! Enjoy the rest of your day.\",\n",
    "    \"Take care and goodbye.\",\n",
    "    \"What majors does the university provide?\",\n",
    "    \"How do I start the application process to the university?\",\n",
    "    \"What is the procedure for admission?\",\n",
    "    \"Can you provide details about the cost of tuition?\",\n",
    "    \"What is the price of attending the school?\",\n",
    "    \"Tell me about the facilities available on the university's campus.\"\n",
    "]\n",
    "\n",
    "\n",
    "y = [\n",
    "    \"programs\",\n",
    "    \"programs\",\n",
    "    \"admissions\",\n",
    "    \"admissions\",\n",
    "    \"admissions\",\n",
    "    \"tuition\",\n",
    "    \"tuition\",\n",
    "    \"tuition\",\n",
    "    \"campus\",\n",
    "    \"campus\",\n",
    "    \"contact\",\n",
    "    \"contact\",\n",
    "    \"programs\",\n",
    "    \"programs\",\n",
    "    \"greeting\",\n",
    "    \"greeting\",\n",
    "    \"greeting\",\n",
    "    \"greeting\",\n",
    "    \"thanks\",\n",
    "    \"thanks\",\n",
    "    \"thanks\",\n",
    "    \"goodbye\",\n",
    "    \"goodbye\",\n",
    "    \"goodbye\",\n",
    "    \"programs\",\n",
    "    \"admissions\",\n",
    "    \"admissions\",\n",
    "    \"tuition\",\n",
    "    \"tuition\",\n",
    "    \"campus\"\n",
    "]\n",
    "\n",
    "\n",
    "def compute_acc(y, y_pred):\n",
    "    correct = 0\n",
    "    for i in range(len(y)):\n",
    "        if y[i] == y_pred[i]: correct += 1\n",
    "    return correct/len(y)\n",
    "\n",
    "# BoW 93.3%, \n",
    "\n",
    "reprs = ['bow', 'glove', 'tf-idf', 'tf-idf-glove']\n",
    "models = ['svm', 'nn']\n",
    "\n",
    "acc_dict_t1 = {}\n",
    "acc_dict_t2 = {}\n",
    "for repr in reprs:\n",
    "    for model in models:\n",
    "        bot = basic_chatbot(machine=model, repr=repr)\n",
    "        bot.train('dataset.json', max_epochs=1000)\n",
    "        \n",
    "        y_pred = []\n",
    "        for i in range(len(t1)):\n",
    "            y_pred.append(bot.infer(t1[i], test=True))\n",
    "        acc_dict_t1[(repr, model)] = compute_acc(y, y_pred)\n",
    "        \n",
    "        y_pred = []\n",
    "        for i in range(len(t2)):\n",
    "            y_pred.append(bot.infer(t2[i], test=True))\n",
    "        acc_dict_t2[(repr, model)] = compute_acc(y, y_pred)\n",
    "        \n",
    "print(acc_dict_t1)\n",
    "print('')\n",
    "print(acc_dict_t2)"
   ]
  },
  {
   "cell_type": "code",
   "execution_count": 14,
   "metadata": {},
   "outputs": [
    {
     "name": "stderr",
     "output_type": "stream",
     "text": [
      "Train Acc: 0.64: 100%|██████████| 30/30 [00:00<00:00, 216.75it/s]\n"
     ]
    }
   ],
   "source": [
    "model = NeuralNet(structure=[50, 12, 8], activation='sigmoid')\n",
    "transform = GloVe()\n",
    "bot = basic_chatbot(machine=model, repr=transform)\n",
    "bot.train('dataset.json', batch_size=1, epochs=30, λ = 0.02, eval_train=True, val_split=0.0)\n",
    "\n",
    "\n",
    "#bot.train('dataset.json', provided_model=model, batch_size=1, epochs=30, λ = 0.02, eval_train=True, val_split=0.0)"
   ]
  },
  {
   "cell_type": "code",
   "execution_count": null,
   "metadata": {},
   "outputs": [],
   "source": [
    "from botiverse import chat_gui\n",
    "from botiverse.models import NeuralNet\n",
    "from botiverse.preprocessors import GloVe\n",
    "from botiverse.bots import basic_chatbot\n",
    "\n",
    "\n",
    "model = NeuralNet(structure=[50, 12, 8], activation='sigmoid')\n",
    "transform = GloVe()\n",
    "bot = basic_chatbot(machine=model, repr=transform)\n",
    "bot.train('dataset.json', batch_size=1, epochs=30, λ=0.02, val_split=0.0)\n",
    "\n",
    "# now this can run on the server\n",
    "chat_gui = chat_gui(bot.infer)\n",
    "chat_gui.run()\n",
    "\n",
    "\n",
    "bot.load('basic_chatbot', 'dataset.json')\n",
    "\n",
    "bot.save('basic_chatbot')\n"
   ]
  },
  {
   "cell_type": "code",
   "execution_count": null,
   "metadata": {},
   "outputs": [],
   "source": [
    "from botiverse.bots import basic_chatbot\n",
    "bot = basic_chatbot(machine='NN', repr='glove')\n",
    "bot.train('dataset.json')\n",
    "bot.infer(\"what are the costs to join this university?\")"
   ]
  }
 ],
 "metadata": {
  "kernelspec": {
   "display_name": "M1",
   "language": "python",
   "name": "python3"
  },
  "language_info": {
   "codemirror_mode": {
    "name": "ipython",
    "version": 3
   },
   "file_extension": ".py",
   "mimetype": "text/x-python",
   "name": "python",
   "nbconvert_exporter": "python",
   "pygments_lexer": "ipython3",
   "version": "3.9.16"
  },
  "orig_nbformat": 4
 },
 "nbformat": 4,
 "nbformat_minor": 2
}
