{
 "cells": [
  {
   "cell_type": "markdown",
   "metadata": {},
   "source": [
    "# Voice Bot Demo"
   ]
  },
  {
   "cell_type": "code",
   "execution_count": null,
   "metadata": {},
   "outputs": [],
   "source": [
    "from botiverse.bots import VoiceBot"
   ]
  },
  {
   "cell_type": "markdown",
   "metadata": {},
   "source": [
    "### Dataset Sample"
   ]
  },
  {
   "cell_type": "markdown",
   "metadata": {},
   "source": [
    "  ```json\n",
    "{\n",
    "    \"A\":{\n",
    "    \"Bot\": \"Thanks for calling Botiverse Airlines. Would you like us to proceed in English or Spanish?\",\n",
    "    \"max_duration\": \"3\",\n",
    "    \"Options\": [\n",
    "        {\n",
    "            \"Intent\": \"English\",\n",
    "            \"Speak\": \"Okay. We will continue in English\",\n",
    "            \"Next\": \"B\"\n",
    "        },\n",
    "        {\n",
    "            \"Intent\": \"Spanish\",\n",
    "            \"Speak\": \"Sorry. But I do not speak spanish yet.\",\n",
    "            \"Next\": \"A\"\n",
    "        }\n",
    "    ]\n",
    "},\n",
    "}\n",
    "``` "
   ]
  },
  {
   "cell_type": "markdown",
   "metadata": {},
   "source": [
    "### Load the Call Finite State Machine"
   ]
  },
  {
   "cell_type": "code",
   "execution_count": null,
   "metadata": {},
   "outputs": [],
   "source": [
    "bot = VoiceBot('call.json')"
   ]
  },
  {
   "cell_type": "markdown",
   "metadata": {},
   "source": [
    "### Simulate a Call"
   ]
  },
  {
   "cell_type": "code",
   "execution_count": null,
   "metadata": {},
   "outputs": [],
   "source": [
    "bot.simulate_call()"
   ]
  }
 ],
 "metadata": {
  "kernelspec": {
   "display_name": "M1",
   "language": "python",
   "name": "python3"
  },
  "language_info": {
   "codemirror_mode": {
    "name": "ipython",
    "version": 3
   },
   "file_extension": ".py",
   "mimetype": "text/x-python",
   "name": "python",
   "nbconvert_exporter": "python",
   "pygments_lexer": "ipython3",
   "version": "3.9.16"
  },
  "orig_nbformat": 4
 },
 "nbformat": 4,
 "nbformat_minor": 2
}
