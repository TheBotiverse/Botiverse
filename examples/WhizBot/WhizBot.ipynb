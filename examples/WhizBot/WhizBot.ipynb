{
 "cells": [
  {
   "cell_type": "code",
   "execution_count": null,
   "metadata": {},
   "outputs": [],
   "source": [
    "from botiverse.bots.WhizBot_BERT.WhizBot_BERT import WhizBot_BERT"
   ]
  },
  {
   "cell_type": "code",
   "execution_count": null,
   "metadata": {},
   "outputs": [],
   "source": [
    "bot = WhizBot_BERT()\n",
    "bot.read_data('./dataset_en.json')\n",
    "bot.train(epochs=10, batch_size=32)\n",
    "bot.infer(\"What courses do you offer\")"
   ]
  },
  {
   "cell_type": "code",
   "execution_count": null,
   "metadata": {},
   "outputs": [],
   "source": [
    "bot = WhizBot_BERT()\n",
    "bot.read_data('./dataset_ar.json')\n",
    "bot.train(epochs=10, batch_size=32)\n",
    "bot.infer(\"ما هي الدورات المتاحة؟\")"
   ]
  }
 ],
 "metadata": {
  "kernelspec": {
   "display_name": "Python 3",
   "language": "python",
   "name": "python3"
  },
  "language_info": {
   "codemirror_mode": {
    "name": "ipython",
    "version": 3
   },
   "file_extension": ".py",
   "mimetype": "text/x-python",
   "name": "python",
   "nbconvert_exporter": "python",
   "pygments_lexer": "ipython3",
   "version": "3.10.8"
  },
  "orig_nbformat": 4
 },
 "nbformat": 4,
 "nbformat_minor": 2
}
