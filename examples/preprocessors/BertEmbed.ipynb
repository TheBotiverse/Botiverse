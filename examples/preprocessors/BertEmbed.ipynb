{
 "cells": [
  {
   "cell_type": "code",
   "execution_count": 1,
   "metadata": {},
   "outputs": [],
   "source": [
    "from botiverse.bots.Vocalizer.utils import voice_input\n",
    "from botiverse.preprocessors import  Wav2Text\n",
    "from botiverse.preprocessors import  BertEmbedder"
   ]
  },
  {
   "cell_type": "markdown",
   "metadata": {},
   "source": [
    "### BERT Embeddings for Sentence Similarity"
   ]
  },
  {
   "cell_type": "code",
   "execution_count": 2,
   "metadata": {},
   "outputs": [
    {
     "name": "stderr",
     "output_type": "stream",
     "text": [
      "Recording: 100%|██████████| 62/62 [00:04<00:00, 15.47it/s, Volume=453, State=Silence]  \n"
     ]
    }
   ],
   "source": [
    "sentence_list = [\n",
    "    \"Flight Delay\",\n",
    "    \"Missing Luggage\",\n",
    "    \"Ticket Problem\",\n",
    "    \"food problem\",\n",
    "    \"bad attitude from staff\",\n",
    "    \"discomfort in flight\"\n",
    "]\n",
    "\n",
    "path = voice_input(record_time=4)"
   ]
  },
  {
   "cell_type": "code",
   "execution_count": 3,
   "metadata": {},
   "outputs": [
    {
     "name": "stdout",
     "output_type": "stream",
     "text": [
      "food problem 0.1784022\n"
     ]
    }
   ],
   "source": [
    "\n",
    "wav2text = Wav2Text()\n",
    "transcription = wav2text.transcribe(path)\n",
    "\n",
    "bert_embeddings = BertEmbedder()\n",
    "\n",
    "sentence, score = bert_embeddings.closest_sentence(transcription, sentence_list)\n",
    "print(sentence, score)"
   ]
  }
 ],
 "metadata": {
  "kernelspec": {
   "display_name": "M1",
   "language": "python",
   "name": "python3"
  },
  "language_info": {
   "codemirror_mode": {
    "name": "ipython",
    "version": 3
   },
   "file_extension": ".py",
   "mimetype": "text/x-python",
   "name": "python",
   "nbconvert_exporter": "python",
   "pygments_lexer": "ipython3",
   "version": "3.9.16"
  },
  "orig_nbformat": 4
 },
 "nbformat": 4,
 "nbformat_minor": 2
}
