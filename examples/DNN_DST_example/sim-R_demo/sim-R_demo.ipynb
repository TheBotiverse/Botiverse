{
 "cells": [
  {
   "cell_type": "markdown",
   "metadata": {},
   "source": [
    "# Imports"
   ]
  },
  {
   "cell_type": "code",
   "execution_count": 1,
   "metadata": {},
   "outputs": [],
   "source": [
    "from botiverse import chat_gui\n",
    "from botiverse.bots import DeepTODS\n",
    "from botiverse.models import BERTConfig, TRIPPYConfig\n",
    "import gdown\n",
    "import os"
   ]
  },
  {
   "attachments": {},
   "cell_type": "markdown",
   "metadata": {},
   "source": [
    "# Download necessary files to run the example"
   ]
  },
  {
   "cell_type": "code",
   "execution_count": 2,
   "metadata": {},
   "outputs": [
    {
     "name": "stdout",
     "output_type": "stream",
     "text": [
      "Ontology already exists. Skipping download.\n"
     ]
    }
   ],
   "source": [
    "# Download ontology\n",
    "f_id = '1tRprClzgNCtVks-SgZilBD7fdc5W3XxY'\n",
    "file_url = f'https://drive.google.com/uc?export=download&confirm=pbef&id={f_id}'\n",
    "output_file = 'ontology.json'\n",
    "if not os.path.exists(output_file):\n",
    "    gdown.download(file_url, output_file)\n",
    "    print('Ontology downloaded successfully.')\n",
    "else:\n",
    "    print('Ontology already exists. Skipping download.')"
   ]
  },
  {
   "cell_type": "code",
   "execution_count": 3,
   "metadata": {},
   "outputs": [
    {
     "name": "stdout",
     "output_type": "stream",
     "text": [
      "Label maps already exists. Skipping download.\n"
     ]
    }
   ],
   "source": [
    "# Download label maps\n",
    "f_id = '15guVrztM12KMMDp6jgu53ivUU945iRNp'\n",
    "file_url = f'https://drive.google.com/uc?export=download&confirm=pbef&id={f_id}'\n",
    "output_file = 'label_maps.json'\n",
    "if not os.path.exists(output_file):\n",
    "    gdown.download(file_url, output_file)\n",
    "    print('Label maps downloaded successfully.')\n",
    "else:\n",
    "    print('Label maps already exists. Skipping download.')"
   ]
  },
  {
   "cell_type": "code",
   "execution_count": 4,
   "metadata": {},
   "outputs": [
    {
     "name": "stdout",
     "output_type": "stream",
     "text": [
      "Model already exists. Skipping download.\n"
     ]
    }
   ],
   "source": [
    "# Download DST weights trained on sim-R\n",
    "f_id = '1POjBULmqxBrebvINfl989bskAstV3Zld'\n",
    "file_url = f'https://drive.google.com/uc?export=download&confirm=pbef&id={f_id}'\n",
    "output_file = 'model.pt'\n",
    "if not os.path.exists(output_file):\n",
    "    gdown.download(file_url, output_file)\n",
    "    print('Model downloaded successfully.')\n",
    "else:\n",
    "    print('Model already exists. Skipping download.')"
   ]
  },
  {
   "attachments": {},
   "cell_type": "markdown",
   "metadata": {},
   "source": [
    "# Const"
   ]
  },
  {
   "cell_type": "code",
   "execution_count": 5,
   "metadata": {},
   "outputs": [],
   "source": [
    "CHATBOT_NAME = 'Tody'\n",
    "\n",
    "DOMAINS = [\"restaurant\"]\n",
    "\n",
    "ONTOLOGY_PATH = './ontology.json'\n",
    "\n",
    "LABEL_MAPS_PATH = './label_maps.json'\n",
    "\n",
    "POLICY = 'Priority' # Priority or Random\n",
    "\n",
    "START = [\n",
    "    {\n",
    "        'utterance': 'Hi I am Tody, I can help you reserve a restaurant?',\n",
    "        'slots': [],\n",
    "        'system_act': {}\n",
    "    }\n",
    "]\n",
    "\n",
    "TEMPLATES = [\n",
    "    {\n",
    "        'utterance': 'what type of food do you want and in what area?',\n",
    "        'slots': ['restaurant-location', 'restaurant-category'],\n",
    "        'system_act': {}\n",
    "    },\n",
    "    {\n",
    "        'utterance': 'what is your preferred price range and rating?',\n",
    "        'slots': ['restaurant-price_range', 'ressaurant-rating'],\n",
    "        'system_act': {}\n",
    "    },\n",
    "    {\n",
    "        'utterance': 'how many people will be in your party?',\n",
    "        'slots': ['restaurant-num_people'],\n",
    "        'system_act': {}\n",
    "    },\n",
    "    {\n",
    "        'utterance': 'what time and date would you like to reserve a table for?',\n",
    "        'slots': ['restaurant-time', 'restaurant-date'],\n",
    "        'system_act': {}\n",
    "    },\n",
    "    {\n",
    "        'utterance': 'May I suggest kfc restaurant?',\n",
    "        'slots': ['restaurant-restaurant_name'],\n",
    "        'system_act': {'restaurant-restaurant_name': ['kfc']}\n",
    "    }\n",
    "\n",
    "]\n",
    "\n",
    "NON_REFERABLE_SLOTS = []\n",
    "\n",
    "NON_REFERABLE_PAIRS = []\n",
    "\n",
    "FROM_SCRATCH = True\n",
    "\n",
    "MODEL_PATH = './model.pt'\n",
    "\n",
    "TRIPPY_CONFIG = TRIPPYConfig(multiwoz=False)\n",
    "\n",
    "BERT_CONFIG = BERTConfig()"
   ]
  },
  {
   "attachments": {},
   "cell_type": "markdown",
   "metadata": {},
   "source": [
    "# Build model & Load weights"
   ]
  },
  {
   "cell_type": "code",
   "execution_count": 6,
   "metadata": {},
   "outputs": [
    {
     "name": "stderr",
     "output_type": "stream",
     "text": [
      "Some weights of the model checkpoint at bert-base-uncased were not used when initializing BertModel: ['cls.predictions.bias', 'cls.seq_relationship.bias', 'cls.seq_relationship.weight', 'cls.predictions.transform.dense.weight', 'cls.predictions.transform.LayerNorm.bias', 'cls.predictions.transform.LayerNorm.weight', 'cls.predictions.transform.dense.bias', 'cls.predictions.decoder.weight']\n",
      "- This IS expected if you are initializing BertModel from the checkpoint of a model trained on another task or with another architecture (e.g. initializing a BertForSequenceClassification model from a BertForPreTraining model).\n",
      "- This IS NOT expected if you are initializing BertModel from the checkpoint of a model that you expect to be exactly identical (initializing a BertForSequenceClassification model from a BertForSequenceClassification model).\n"
     ]
    },
    {
     "name": "stdout",
     "output_type": "stream",
     "text": [
      "Model loaded successfully.\n"
     ]
    }
   ],
   "source": [
    "tods = DeepTODS(CHATBOT_NAME, DOMAINS, ONTOLOGY_PATH, LABEL_MAPS_PATH, POLICY, START, TEMPLATES, NON_REFERABLE_SLOTS, NON_REFERABLE_PAIRS, FROM_SCRATCH, BERT_CONFIG, TRIPPY_CONFIG)\n",
    "tods.load_dst_model(MODEL_PATH)"
   ]
  },
  {
   "attachments": {},
   "cell_type": "markdown",
   "metadata": {},
   "source": [
    "# Conversation"
   ]
  },
  {
   "cell_type": "code",
   "execution_count": 7,
   "metadata": {},
   "outputs": [],
   "source": [
    "chat_gui = chat_gui(tods.infer)\n",
    "chat_gui.run()"
   ]
  },
  {
   "cell_type": "code",
   "execution_count": 8,
   "metadata": {},
   "outputs": [
    {
     "name": "stdout",
     "output_type": "stream",
     "text": [
      "{}\n"
     ]
    }
   ],
   "source": [
    "tods.reset()\n",
    "print(tods.get_dialogue_state())"
   ]
  },
  {
   "cell_type": "code",
   "execution_count": 9,
   "metadata": {},
   "outputs": [
    {
     "name": "stdout",
     "output_type": "stream",
     "text": [
      "{}\n",
      "Hi I am Tody, I can help you reserve a restaurant?\n"
     ]
    }
   ],
   "source": [
    "response = tods.infer('')\n",
    "print(tods.get_dialogue_state())\n",
    "print(response)"
   ]
  },
  {
   "cell_type": "code",
   "execution_count": 10,
   "metadata": {},
   "outputs": [
    {
     "name": "stdout",
     "output_type": "stream",
     "text": [
      "{'restaurant-meal': 'lunch'}\n",
      "what type of food do you want and in what area?\n"
     ]
    }
   ],
   "source": [
    "response = tods.infer('Hi, I want to book a table for lunch.')\n",
    "print(tods.get_dialogue_state())\n",
    "print(response)"
   ]
  },
  {
   "cell_type": "code",
   "execution_count": 11,
   "metadata": {},
   "outputs": [
    {
     "name": "stdout",
     "output_type": "stream",
     "text": [
      "{'restaurant-meal': 'lunch', 'restaurant-category': 'egyptian', 'restaurant-location': 'cairo'}\n",
      "what is your preferred price range and rating?\n"
     ]
    }
   ],
   "source": [
    "response = tods.infer('I would like to have egyptian food in cairo.')\n",
    "print(tods.get_dialogue_state())\n",
    "print(response)"
   ]
  },
  {
   "cell_type": "code",
   "execution_count": 12,
   "metadata": {},
   "outputs": [
    {
     "name": "stdout",
     "output_type": "stream",
     "text": [
      "{'restaurant-meal': 'lunch', 'restaurant-category': 'egyptian', 'restaurant-location': 'cairo', 'restaurant-price_range': 'cheap', 'restaurant-rating': 'good'}\n",
      "how many people will be in your party?\n"
     ]
    }
   ],
   "source": [
    "response = tods.infer('I want a cheap restaurant with good rating.')\n",
    "print(tods.get_dialogue_state())\n",
    "print(response)"
   ]
  },
  {
   "cell_type": "code",
   "execution_count": 13,
   "metadata": {},
   "outputs": [
    {
     "name": "stdout",
     "output_type": "stream",
     "text": [
      "{'restaurant-meal': 'lunch', 'restaurant-category': 'egyptian', 'restaurant-location': 'cairo', 'restaurant-price_range': 'cheap', 'restaurant-rating': 'good', 'restaurant-num_people': '4'}\n",
      "what time and date would you like to reserve a table for?\n"
     ]
    }
   ],
   "source": [
    "response = tods.infer('I have 4 people in my party.')\n",
    "print(tods.get_dialogue_state())\n",
    "print(response)"
   ]
  },
  {
   "cell_type": "code",
   "execution_count": 15,
   "metadata": {},
   "outputs": [
    {
     "name": "stdout",
     "output_type": "stream",
     "text": [
      "{'restaurant-meal': 'lunch', 'restaurant-category': 'egyptian', 'restaurant-location': 'cairo', 'restaurant-price_range': 'cheap', 'restaurant-rating': 'good', 'restaurant-num_people': '4', 'restaurant-date': 'tuesday', 'restaurant-time': '4 am'}\n",
      "May I suggest kfc restaurant?\n"
     ]
    }
   ],
   "source": [
    "response = tods.infer('4 am on the tuesday.')\n",
    "print(tods.get_dialogue_state())\n",
    "print(response)"
   ]
  },
  {
   "cell_type": "code",
   "execution_count": 16,
   "metadata": {},
   "outputs": [
    {
     "name": "stdout",
     "output_type": "stream",
     "text": [
      "{'restaurant-meal': 'lunch', 'restaurant-category': 'egyptian', 'restaurant-location': 'cairo', 'restaurant-price_range': 'cheap', 'restaurant-rating': 'good', 'restaurant-num_people': '4', 'restaurant-date': 'tuesday', 'restaurant-time': '4 am'}\n",
      "May I suggest kfc restaurant?\n"
     ]
    }
   ],
   "source": [
    "response = tods.infer('No, I hate kfc.')\n",
    "print(tods.get_dialogue_state())\n",
    "print(response)"
   ]
  },
  {
   "cell_type": "code",
   "execution_count": 17,
   "metadata": {},
   "outputs": [
    {
     "name": "stdout",
     "output_type": "stream",
     "text": [
      "{'restaurant-meal': 'lunch', 'restaurant-category': 'egyptian', 'restaurant-location': 'cairo', 'restaurant-price_range': 'cheap', 'restaurant-rating': 'good', 'restaurant-num_people': '4', 'restaurant-date': 'tuesday', 'restaurant-time': '4 am', 'restaurant-restaurant_name': '§§kfc'}\n",
      "None\n"
     ]
    }
   ],
   "source": [
    "response = tods.infer('Yes, I would love that.')\n",
    "print(tods.get_dialogue_state())\n",
    "print(response)"
   ]
  },
  {
   "cell_type": "code",
   "execution_count": null,
   "metadata": {},
   "outputs": [],
   "source": []
  }
 ],
 "metadata": {
  "kernelspec": {
   "display_name": "pytorch",
   "language": "python",
   "name": "python3"
  },
  "language_info": {
   "codemirror_mode": {
    "name": "ipython",
    "version": 3
   },
   "file_extension": ".py",
   "mimetype": "text/x-python",
   "name": "python",
   "nbconvert_exporter": "python",
   "pygments_lexer": "ipython3",
   "version": "3.10.6"
  },
  "orig_nbformat": 4
 },
 "nbformat": 4,
 "nbformat_minor": 2
}
