{
 "cells": [
  {
   "cell_type": "code",
   "execution_count": 1,
   "metadata": {},
   "outputs": [
    {
     "name": "stderr",
     "output_type": "stream",
     "text": [
      "Train Acc: 0.99 | Val Acc: 1.0: 100%|██████████| 50/50 [00:02<00:00, 18.21it/s]\n"
     ]
    },
    {
     "name": "stdout",
     "output_type": "stream",
     "text": [
      "1.0\n",
      "MLP \n",
      "\n",
      "Iteration 1, loss = 0.32013253\n",
      "Iteration 2, loss = 0.05802267\n",
      "Iteration 3, loss = 0.04906237\n",
      "Iteration 4, loss = 0.05201151\n",
      "Iteration 5, loss = 0.05410946\n",
      "Iteration 6, loss = 0.05516915\n",
      "Iteration 7, loss = 0.05518285\n",
      "Iteration 8, loss = 0.05453412\n",
      "Iteration 9, loss = 0.05365916\n",
      "Iteration 10, loss = 0.05279018\n",
      "Iteration 11, loss = 0.05154421\n",
      "Iteration 12, loss = 0.05083297\n",
      "Iteration 13, loss = 0.05036381\n",
      "Iteration 14, loss = 0.04927305\n",
      "Training loss did not improve more than tol=0.000100 for 10 consecutive epochs. Stopping.\n"
     ]
    },
    {
     "data": {
      "text/plain": [
       "0.9925"
      ]
     },
     "execution_count": 1,
     "metadata": {},
     "output_type": "execute_result"
    }
   ],
   "source": [
    "from botiverse.models import NeuralNet\n",
    "from utils import illustrate_features_2D\n",
    "from sklearn.model_selection import train_test_split\n",
    "from sklearn.datasets import make_classification\n",
    "\n",
    "\n",
    "# import train test split from sklearn\n",
    "model = NeuralNet([2, 100, 2], activation='relu', optimizer='ADAM')\n",
    "X, y = make_classification(n_samples=1000, n_features=2, n_redundant=0, n_informative=2, n_classes=2, random_state=42, class_sep=5)\n",
    "# split the data into training and test\n",
    "\n",
    "X, X_v, y, y_v = train_test_split(X, y, test_size=0.2, random_state=42)\n",
    "model.fit(X, y, batch_size=32, epochs=50, λ=0.05, val_split=0.2, eval_train=True)\n",
    "print(model.evaluate(X_v, y_v))\n",
    "\n",
    "#illustrate_features_2D(X, y, model)\n",
    "\n",
    "\n",
    "# compare with sklearn's MLPClassifier\n",
    "print(\"MLP \\n\")\n",
    "from sklearn.neural_network import MLPClassifier\n",
    "clf = MLPClassifier(hidden_layer_sizes=(100,), max_iter=20, alpha=0, solver='sgd', verbose=10, learning_rate_init=0.04, learning_rate='constant')\n",
    "clf.fit(X, y)\n",
    "clf.score(X, y)"
   ]
  }
 ],
 "metadata": {
  "kernelspec": {
   "display_name": "M1",
   "language": "python",
   "name": "python3"
  },
  "language_info": {
   "codemirror_mode": {
    "name": "ipython",
    "version": 3
   },
   "file_extension": ".py",
   "mimetype": "text/x-python",
   "name": "python",
   "nbconvert_exporter": "python",
   "pygments_lexer": "ipython3",
   "version": "3.9.16"
  },
  "orig_nbformat": 4
 },
 "nbformat": 4,
 "nbformat_minor": 2
}
