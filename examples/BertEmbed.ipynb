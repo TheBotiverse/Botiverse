{
 "cells": [
  {
   "cell_type": "code",
   "execution_count": 3,
   "metadata": {},
   "outputs": [],
   "source": [
    "from botiverse.bots.Vocalizer.utils import voice_input\n",
    "from botiverse.preprocessors import  Wav2Text\n",
    "from botiverse.preprocessors import  BertEmbedder"
   ]
  },
  {
   "cell_type": "code",
   "execution_count": 6,
   "metadata": {},
   "outputs": [
    {
     "name": "stderr",
     "output_type": "stream",
     "text": [
      "Recording: 100%|██████████| 46/46 [00:02<00:00, 15.47it/s, Volume=732, State=Silence]  \n"
     ]
    },
    {
     "name": "stdout",
     "output_type": "stream",
     "text": [
      "Flight Delay 0.17920457\n"
     ]
    }
   ],
   "source": [
    "sentence_list = [\n",
    "    \"Flight Delay\",\n",
    "    \"Missing Luggage\",\n",
    "    \"Ticket Problem\",\n",
    "    \"food problem\",\n",
    "    \"bad attitude from staff\",\n",
    "    \"discomfort in flight\"\n",
    "]\n",
    "\n",
    "path = voice_input()\n",
    "\n",
    "wav2text = Wav2Text()\n",
    "transcription = wav2text.transcribe(path)\n",
    "\n",
    "bert_embeddings = BertEmbedder()\n",
    "\n",
    "sentence, score = bert_embeddings.closest_sentence(transcription, sentence_list)\n",
    "print(sentence, score)"
   ]
  }
 ],
 "metadata": {
  "kernelspec": {
   "display_name": "M1",
   "language": "python",
   "name": "python3"
  },
  "language_info": {
   "codemirror_mode": {
    "name": "ipython",
    "version": 3
   },
   "file_extension": ".py",
   "mimetype": "text/x-python",
   "name": "python",
   "nbconvert_exporter": "python",
   "pygments_lexer": "ipython3",
   "version": "3.9.16"
  },
  "orig_nbformat": 4
 },
 "nbformat": 4,
 "nbformat_minor": 2
}
