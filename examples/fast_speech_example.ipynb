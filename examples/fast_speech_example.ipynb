{
 "cells": [
  {
   "cell_type": "code",
   "execution_count": 1,
   "metadata": {},
   "outputs": [
    {
     "ename": "UnboundLocalError",
     "evalue": "local variable 'curr_dir' referenced before assignment",
     "output_type": "error",
     "traceback": [
      "\u001b[0;31m---------------------------------------------------------------------------\u001b[0m",
      "\u001b[0;31mUnboundLocalError\u001b[0m                         Traceback (most recent call last)",
      "Cell \u001b[0;32mIn[1], line 5\u001b[0m\n\u001b[1;32m      2\u001b[0m sys\u001b[39m.\u001b[39mpath\u001b[39m.\u001b[39mappend(\u001b[39m'\u001b[39m\u001b[39m../\u001b[39m\u001b[39m'\u001b[39m)\n\u001b[1;32m      3\u001b[0m \u001b[39mfrom\u001b[39;00m \u001b[39mbotiverse\u001b[39;00m\u001b[39m.\u001b[39;00m\u001b[39mmodels\u001b[39;00m \u001b[39mimport\u001b[39;00m TTS\n\u001b[0;32m----> 5\u001b[0m inf \u001b[39m=\u001b[39m TTS()\n\u001b[1;32m      7\u001b[0m audio \u001b[39m=\u001b[39m inf\u001b[39m.\u001b[39mspeak(\u001b[39m\"\u001b[39m\u001b[39mYou are powerful.\u001b[39m\u001b[39m\"\u001b[39m, play\u001b[39m=\u001b[39m\u001b[39mTrue\u001b[39;00m)\n",
      "File \u001b[0;32m~/Documents/GitHub/Botiverse/botiverse/models/FastSpeech1/FastSpeech.py:668\u001b[0m, in \u001b[0;36mTTS.__init__\u001b[0;34m(self, force_download_wg, force_download_fs)\u001b[0m\n\u001b[1;32m    661\u001b[0m \u001b[39m\u001b[39m\u001b[39m'''\u001b[39;00m\n\u001b[1;32m    662\u001b[0m \u001b[39mInitialize the FastSpeech 1.0 model and the WaveGlow model. \u001b[39;00m\n\u001b[1;32m    663\u001b[0m \u001b[39mforce_download_wg: whether to force download the WaveGlow weights in case they already seems to exist \u001b[39;00m\n\u001b[1;32m    664\u001b[0m \u001b[39mforce_download_fs: whether to force download the FastSpeech 1.0 wieghts in case they already seems to exist\u001b[39;00m\n\u001b[1;32m    665\u001b[0m \u001b[39m'''\u001b[39;00m\n\u001b[1;32m    666\u001b[0m \u001b[39m# see if there is a WaveGlow folder in the current directory\u001b[39;00m\n\u001b[1;32m    667\u001b[0m \u001b[39m# print file and folder names in the current directory\u001b[39;00m\n\u001b[0;32m--> 668\u001b[0m \u001b[39mif\u001b[39;00m \u001b[39mnot\u001b[39;00m os\u001b[39m.\u001b[39mpath\u001b[39m.\u001b[39mexists(curr_dir \u001b[39m+\u001b[39m \u001b[39m'\u001b[39m\u001b[39m/weights.pth\u001b[39m\u001b[39m'\u001b[39m) \u001b[39mor\u001b[39;00m force_download_fs:\n\u001b[1;32m    669\u001b[0m     \u001b[39mprint\u001b[39m(\u001b[39m\"\u001b[39m\u001b[39mWeights not found. Downloading FastSpeech 1.0 weights...\u001b[39m\u001b[39m\"\u001b[39m)\n\u001b[1;32m    670\u001b[0m     \u001b[39m# if not, download the WaveGlow folder\u001b[39;00m\n",
      "\u001b[0;31mUnboundLocalError\u001b[0m: local variable 'curr_dir' referenced before assignment"
     ]
    }
   ],
   "source": [
    "import sys\n",
    "sys.path.append('../')\n",
    "from botiverse.models import TTS\n",
    "\n",
    "inf = TTS()\n",
    "\n",
    "audio = inf.speak(\"You are powerful.\", play=True)"
   ]
  }
 ],
 "metadata": {
  "kernelspec": {
   "display_name": "M1",
   "language": "python",
   "name": "python3"
  },
  "language_info": {
   "codemirror_mode": {
    "name": "ipython",
    "version": 3
   },
   "file_extension": ".py",
   "mimetype": "text/x-python",
   "name": "python",
   "nbconvert_exporter": "python",
   "pygments_lexer": "ipython3",
   "version": "3.9.16"
  },
  "orig_nbformat": 4
 },
 "nbformat": 4,
 "nbformat_minor": 2
}
