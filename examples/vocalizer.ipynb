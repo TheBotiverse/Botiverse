{
 "cells": [
  {
   "cell_type": "code",
   "execution_count": 2,
   "metadata": {},
   "outputs": [
    {
     "name": "stderr",
     "output_type": "stream",
     "text": [
      "Recording: 100%|██████████| 46/46 [00:02<00:00, 15.51it/s, Volume=799, State=Silence]  \n"
     ]
    },
    {
     "name": "stdout",
     "output_type": "stream",
     "text": [
      "you said: mexican and the bot decided that you meant Spanish\n"
     ]
    },
    {
     "name": "stderr",
     "output_type": "stream",
     "text": [
      "Recording: 100%|██████████| 46/46 [00:02<00:00, 15.47it/s, Volume=824, State=Silence]  \n"
     ]
    },
    {
     "name": "stdout",
     "output_type": "stream",
     "text": [
      "you said: boque english and the bot decided that you meant English\n"
     ]
    },
    {
     "name": "stderr",
     "output_type": "stream",
     "text": [
      "Recording: 100%|██████████| 46/46 [00:02<00:00, 15.48it/s, Volume=902, State=Talking]  \n"
     ]
    },
    {
     "name": "stdout",
     "output_type": "stream",
     "text": [
      "you said: yes and the bot decided that you meant Yes\n"
     ]
    },
    {
     "name": "stderr",
     "output_type": "stream",
     "text": [
      "Recording: 100%|██████████| 78/78 [00:05<00:00, 15.55it/s, Volume=788, State=Silence]  \n"
     ]
    },
    {
     "name": "stdout",
     "output_type": "stream",
     "text": [
      "you said: i could not find any of my baggage and the bot decided that you meant missing luggage\n"
     ]
    },
    {
     "name": "stderr",
     "output_type": "stream",
     "text": [
      "Recording: 100%|██████████| 46/46 [00:02<00:00, 15.47it/s, Volume=1210, State=Talking] \n"
     ]
    },
    {
     "name": "stdout",
     "output_type": "stream",
     "text": [
      "you said: i'm sure and the bot decided that you meant Yes\n"
     ]
    },
    {
     "name": "stderr",
     "output_type": "stream",
     "text": [
      "Recording: 100%|██████████| 46/46 [00:02<00:00, 15.48it/s, Volume=953, State=Talking]  \n"
     ]
    },
    {
     "name": "stdout",
     "output_type": "stream",
     "text": [
      "you said: four and the bot decided that you meant Four\n"
     ]
    }
   ],
   "source": [
    "from botiverse.bots import Vocalizer\n",
    "\n",
    "call = Vocalizer('call.json')\n",
    "call.simulate_call()"
   ]
  }
 ],
 "metadata": {
  "kernelspec": {
   "display_name": "M1",
   "language": "python",
   "name": "python3"
  },
  "language_info": {
   "codemirror_mode": {
    "name": "ipython",
    "version": 3
   },
   "file_extension": ".py",
   "mimetype": "text/x-python",
   "name": "python",
   "nbconvert_exporter": "python",
   "pygments_lexer": "ipython3",
   "version": "3.9.16"
  },
  "orig_nbformat": 4
 },
 "nbformat": 4,
 "nbformat_minor": 2
}
