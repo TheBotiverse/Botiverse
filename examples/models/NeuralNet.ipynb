{
 "cells": [
  {
   "cell_type": "markdown",
   "metadata": {},
   "source": [
    "### Implemented Neural Network"
   ]
  },
  {
   "cell_type": "code",
   "execution_count": 1,
   "metadata": {},
   "outputs": [
    {
     "name": "stderr",
     "output_type": "stream",
     "text": [
      "Train Acc: 0.99 | Val Acc: 0.99 | Val Loss: 34.4652184174282:  62%|██████▏   | 123/200 [00:09<00:05, 13.04it/s]  \n"
     ]
    },
    {
     "name": "stdout",
     "output_type": "stream",
     "text": [
      "50 epochs have passed without improvement. Early stopping... \n",
      "\n",
      "Using optimal epochs: 90 found from an earlier run.\n"
     ]
    },
    {
     "name": "stderr",
     "output_type": "stream",
     "text": [
      "Train Acc: 0.99: 100%|██████████| 90/90 [00:06<00:00, 13.98it/s]\n"
     ]
    },
    {
     "data": {
      "text/plain": [
       "1.0"
      ]
     },
     "execution_count": 1,
     "metadata": {},
     "output_type": "execute_result"
    }
   ],
   "source": [
    "from botiverse.models import NeuralNet\n",
    "from sklearn.model_selection import train_test_split\n",
    "from sklearn.datasets import make_classification\n",
    "\n",
    "# import train test split from sklearn\n",
    "model = NeuralNet([2, 100, 2], activation='relu', optimizer='ADAM')\n",
    "X, y = make_classification(n_samples=1000, n_features=2, n_redundant=0, n_informative=2, n_classes=2, random_state=42, class_sep=5)\n",
    "# split the data into training and test\n",
    "\n",
    "X, X_v, y, y_v = train_test_split(X, y, test_size=0.2, random_state=42)\n",
    "model.fit(X, y, batch_size=32, epochs=200, λ=0.05, val_split=0.2, eval_train=True)\n",
    "model.fit(X, y, batch_size=32, epochs=200, λ=0.05, val_split=0.0, eval_train=True)\n",
    "\n",
    "model.evaluate(X_v, y_v)\n",
    "\n"
   ]
  },
  {
   "cell_type": "markdown",
   "metadata": {},
   "source": [
    "### Neuralnet from Sci-kit Learn"
   ]
  },
  {
   "cell_type": "code",
   "execution_count": 2,
   "metadata": {},
   "outputs": [
    {
     "name": "stdout",
     "output_type": "stream",
     "text": [
      "Iteration 1, loss = 0.33226653\n",
      "Iteration 2, loss = 0.05404048\n",
      "Iteration 3, loss = 0.04607708\n",
      "Iteration 4, loss = 0.05174504\n",
      "Iteration 5, loss = 0.05675322\n",
      "Iteration 6, loss = 0.05753222\n",
      "Iteration 7, loss = 0.05710278\n",
      "Iteration 8, loss = 0.05570200\n",
      "Iteration 9, loss = 0.05438966\n",
      "Iteration 10, loss = 0.05199720\n",
      "Iteration 11, loss = 0.04999373\n",
      "Iteration 12, loss = 0.04823392\n",
      "Iteration 13, loss = 0.04697699\n",
      "Iteration 14, loss = 0.04597966\n",
      "Training loss did not improve more than tol=0.000100 for 10 consecutive epochs. Stopping.\n"
     ]
    },
    {
     "data": {
      "text/plain": [
       "0.9925"
      ]
     },
     "execution_count": 2,
     "metadata": {},
     "output_type": "execute_result"
    }
   ],
   "source": [
    "from sklearn.neural_network import MLPClassifier\n",
    "clf = MLPClassifier(hidden_layer_sizes=(100,), max_iter=20, alpha=0, solver='sgd', verbose=10, learning_rate_init=0.04, learning_rate='constant')\n",
    "clf.fit(X, y)\n",
    "clf.score(X, y)"
   ]
  }
 ],
 "metadata": {
  "kernelspec": {
   "display_name": "M1",
   "language": "python",
   "name": "python3"
  },
  "language_info": {
   "codemirror_mode": {
    "name": "ipython",
    "version": 3
   },
   "file_extension": ".py",
   "mimetype": "text/x-python",
   "name": "python",
   "nbconvert_exporter": "python",
   "pygments_lexer": "ipython3",
   "version": "3.9.16"
  },
  "orig_nbformat": 4
 },
 "nbformat": 4,
 "nbformat_minor": 2
}
