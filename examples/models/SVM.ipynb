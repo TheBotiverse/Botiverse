{
 "cells": [
  {
   "cell_type": "code",
   "execution_count": 1,
   "metadata": {},
   "outputs": [
    {
     "name": "stdout",
     "output_type": "stream",
     "text": [
      "Model finished training with accuracy 1.0\n",
      "Accuracy: 1.0\n"
     ]
    }
   ],
   "source": [
    "from utils import illustrate_features_2D\n",
    "from sklearn.model_selection import train_test_split\n",
    "from sklearn.datasets import make_classification\n",
    "import numpy as np\n",
    "import sys\n",
    "from botiverse.models import SVM\n",
    "\n",
    "# Load the dataset\n",
    "np.random.seed(1)\n",
    "X, y = make_classification(n_samples=250, n_features=5, n_redundant=0, n_informative=5, n_classes=4)\n",
    "\n",
    "# Test SVM\n",
    "svm = SVM(kernel='rbf', k=10)\n",
    "svm.fit(X, y, eval_train=True)\n",
    "\n",
    "\n",
    "y_pred, _ = svm.predict(X)\n",
    "print(f\"Accuracy: {np.sum(y==y_pred)/y.shape[0]}\")"
   ]
  },
  {
   "cell_type": "code",
   "execution_count": 3,
   "metadata": {},
   "outputs": [
    {
     "name": "stdout",
     "output_type": "stream",
     "text": [
      "Accuracy: 1.0\n"
     ]
    }
   ],
   "source": [
    "# Test with Scikit\n",
    "from sklearn.svm import SVC\n",
    "clf = SVC(kernel='rbf', C=1, gamma=10)\n",
    "clf.fit(X, y)\n",
    "y_pred = clf.predict(X)\n",
    "print(f\"Accuracy: {sum(y==y_pred)/y.shape[0]}\")"
   ]
  }
 ],
 "metadata": {
  "kernelspec": {
   "display_name": "M1",
   "language": "python",
   "name": "python3"
  },
  "language_info": {
   "codemirror_mode": {
    "name": "ipython",
    "version": 3
   },
   "file_extension": ".py",
   "mimetype": "text/x-python",
   "name": "python",
   "nbconvert_exporter": "python",
   "pygments_lexer": "ipython3",
   "version": "3.9.16"
  },
  "orig_nbformat": 4
 },
 "nbformat": 4,
 "nbformat_minor": 2
}
