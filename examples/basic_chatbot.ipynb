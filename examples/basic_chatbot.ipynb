{
 "cells": [
  {
   "cell_type": "code",
   "execution_count": 2,
   "metadata": {},
   "outputs": [
    {
     "name": "stderr",
     "output_type": "stream",
     "text": [
      "Train Acc: 1.0: 100%|██████████| 1000/1000 [00:04<00:00, 215.77it/s]\n"
     ]
    }
   ],
   "source": [
    "from botiverse import chat_gui\n",
    "from botiverse.bots import basic_chatbot\n",
    "#from botiverse.models import TTS\n",
    "\n",
    "#tts = TTS()\n",
    "bot = basic_chatbot(machine='NN', repr='tf-idf')\n",
    "bot.train('dataset.json')"
   ]
  },
  {
   "cell_type": "code",
   "execution_count": 2,
   "metadata": {},
   "outputs": [],
   "source": [
    "chat_gui = chat_gui(bot.infer)\n",
    "chat_gui.run()"
   ]
  }
 ],
 "metadata": {
  "kernelspec": {
   "display_name": "M1",
   "language": "python",
   "name": "python3"
  },
  "language_info": {
   "codemirror_mode": {
    "name": "ipython",
    "version": 3
   },
   "file_extension": ".py",
   "mimetype": "text/x-python",
   "name": "python",
   "nbconvert_exporter": "python",
   "pygments_lexer": "ipython3",
   "version": "3.9.16"
  },
  "orig_nbformat": 4
 },
 "nbformat": 4,
 "nbformat_minor": 2
}
