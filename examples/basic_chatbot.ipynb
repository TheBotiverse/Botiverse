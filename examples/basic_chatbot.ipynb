{
 "cells": [
  {
   "cell_type": "code",
   "execution_count": 13,
   "metadata": {},
   "outputs": [
    {
     "name": "stderr",
     "output_type": "stream",
     "text": [
      "Train Acc: 1.0: 100%|██████████| 400/400 [00:02<00:00, 157.09it/s] \n"
     ]
    }
   ],
   "source": [
    "from botiverse import chat_gui\n",
    "from botiverse.bots import basic_chatbot\n",
    "#from botiverse.models import TTS\n",
    "from botiverse.models import NeuralNet\n",
    "from botiverse.preprocessors import GloVe\n",
    "#tts = TTS()\n",
    "bot = basic_chatbot(machine='NN', repr='glove')\n",
    "bot.train('dataset.json')\n",
    "\n",
    "bot.save('basic_chatbot')"
   ]
  },
  {
   "cell_type": "code",
   "execution_count": 18,
   "metadata": {},
   "outputs": [
    {
     "ename": "",
     "evalue": "",
     "output_type": "error",
     "traceback": [
      "\u001b[1;31mCannot execute code, session has been disposed. Please try restarting the Kernel."
     ]
    },
    {
     "ename": "",
     "evalue": "",
     "output_type": "error",
     "traceback": [
      "\u001b[1;31mThe Kernel crashed while executing code in the the current cell or a previous cell. Please review the code in the cell(s) to identify a possible cause of the failure. Click <a href='https://aka.ms/vscodeJupyterKernelCrash'>here</a> for more info. View Jupyter <a href='command:jupyter.viewOutput'>log</a> for further details."
     ]
    }
   ],
   "source": [
    "bot = basic_chatbot(machine='NN', repr='glove')\n",
    "bot.load('basic_chatbot', 'dataset.json')\n",
    "\n",
    "chat_gui = chat_gui(bot.infer)\n",
    "chat_gui.run()"
   ]
  },
  {
   "cell_type": "code",
   "execution_count": 14,
   "metadata": {},
   "outputs": [
    {
     "name": "stderr",
     "output_type": "stream",
     "text": [
      "Train Acc: 0.64: 100%|██████████| 30/30 [00:00<00:00, 216.75it/s]\n"
     ]
    }
   ],
   "source": [
    "model = NeuralNet(structure=[50, 12, 8], activation='sigmoid')\n",
    "transform = GloVe()\n",
    "bot = basic_chatbot(machine=model, repr=transform)\n",
    "bot.train('dataset.json', batch_size=1, epochs=30, λ = 0.02, eval_train=True, val_split=0.0)\n",
    "\n",
    "\n",
    "#bot.train('dataset.json', provided_model=model, batch_size=1, epochs=30, λ = 0.02, eval_train=True, val_split=0.0)"
   ]
  }
 ],
 "metadata": {
  "kernelspec": {
   "display_name": "M1",
   "language": "python",
   "name": "python3"
  },
  "language_info": {
   "codemirror_mode": {
    "name": "ipython",
    "version": 3
   },
   "file_extension": ".py",
   "mimetype": "text/x-python",
   "name": "python",
   "nbconvert_exporter": "python",
   "pygments_lexer": "ipython3",
   "version": "3.9.16"
  },
  "orig_nbformat": 4
 },
 "nbformat": 4,
 "nbformat_minor": 2
}
