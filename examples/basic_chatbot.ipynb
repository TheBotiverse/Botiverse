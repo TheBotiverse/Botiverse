{
 "cells": [
  {
   "cell_type": "code",
   "execution_count": 1,
   "metadata": {},
   "outputs": [
    {
     "name": "stderr",
     "output_type": "stream",
     "text": [
      "Train Acc: 1.0: 100%|██████████| 400/400 [00:01<00:00, 208.47it/s] \n"
     ]
    }
   ],
   "source": [
    "from botiverse import chat_gui\n",
    "from botiverse.bots import basic_chatbot\n",
    "#from botiverse.models import TTS\n",
    "from botiverse.models import NeuralNet\n",
    "from botiverse.preprocessors import GloVe\n",
    "#tts = TTS()\n",
    "bot = basic_chatbot(machine='nn', repr='bow')\n",
    "bot.train('dataset.json')\n",
    "\n",
    "bot.save('basic_chatbot')"
   ]
  },
  {
   "cell_type": "code",
   "execution_count": 2,
   "metadata": {},
   "outputs": [
    {
     "name": "stdout",
     "output_type": "stream",
     "text": [
      "Hi there! How can I assist you with your inquiries?\n"
     ]
    }
   ],
   "source": [
    "bot = basic_chatbot(machine='nn', repr='bow')\n",
    "bot.load('basic_chatbot', 'dataset.json')\n",
    "print(bot.infer(\"How are you doing my friend?\"))\n",
    "chat_gui = chat_gui(bot.infer)\n",
    "chat_gui.run()"
   ]
  },
  {
   "cell_type": "code",
   "execution_count": 14,
   "metadata": {},
   "outputs": [
    {
     "name": "stderr",
     "output_type": "stream",
     "text": [
      "Train Acc: 0.64: 100%|██████████| 30/30 [00:00<00:00, 216.75it/s]\n"
     ]
    }
   ],
   "source": [
    "model = NeuralNet(structure=[50, 12, 8], activation='sigmoid')\n",
    "transform = GloVe()\n",
    "bot = basic_chatbot(machine=model, repr=transform)\n",
    "bot.train('dataset.json', batch_size=1, epochs=30, λ = 0.02, eval_train=True, val_split=0.0)\n",
    "\n",
    "\n",
    "#bot.train('dataset.json', provided_model=model, batch_size=1, epochs=30, λ = 0.02, eval_train=True, val_split=0.0)"
   ]
  },
  {
   "cell_type": "code",
   "execution_count": null,
   "metadata": {},
   "outputs": [],
   "source": [
    "from botiverse import chat_gui\n",
    "from botiverse.models import NeuralNet\n",
    "from botiverse.preprocessors import GloVe\n",
    "from botiverse.bots import basic_chatbot\n",
    "\n",
    "\n",
    "model = NeuralNet(structure=[50, 12, 8], activation='sigmoid')\n",
    "transform = GloVe()\n",
    "bot = basic_chatbot(machine=model, repr=transform)\n",
    "bot.train('dataset.json',batch_size=1,epochs=30,λ=0.02, val_split=0.0)\n",
    "bot.save('basic_chatbot')\n",
    "\n",
    "# now this can run on the server\n",
    "bot.load('basic_chatbot', 'dataset.json')\n",
    "chat_gui = chat_gui(bot.infer)\n",
    "chat_gui.run()"
   ]
  },
  {
   "cell_type": "code",
   "execution_count": null,
   "metadata": {},
   "outputs": [],
   "source": [
    "from botiverse.bots import basic_chatbot\n",
    "bot = basic_chatbot(machine='NN', repr='glove')\n",
    "bot.train('dataset.json')\n",
    "bot.infer(\"what are the costs to join this university?\")"
   ]
  }
 ],
 "metadata": {
  "kernelspec": {
   "display_name": "M1",
   "language": "python",
   "name": "python3"
  },
  "language_info": {
   "codemirror_mode": {
    "name": "ipython",
    "version": 3
   },
   "file_extension": ".py",
   "mimetype": "text/x-python",
   "name": "python",
   "nbconvert_exporter": "python",
   "pygments_lexer": "ipython3",
   "version": "3.9.16"
  },
  "orig_nbformat": 4
 },
 "nbformat": 4,
 "nbformat_minor": 2
}
