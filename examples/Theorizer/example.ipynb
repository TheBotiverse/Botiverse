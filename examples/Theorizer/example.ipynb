{
 "cells": [
  {
   "cell_type": "code",
   "execution_count": null,
   "metadata": {},
   "outputs": [],
   "source": [
    "from botiverse.Theorizer.generate import generate\n",
    "import json\n"
   ]
  },
  {
   "cell_type": "code",
   "execution_count": 8,
   "metadata": {},
   "outputs": [
    {
     "name": "stderr",
     "output_type": "stream",
     "text": [
      "Some weights of MyGPT2LMHeadModel were not initialized from the model checkpoint at /home/karim/FECU/Botiverse/botiverse/Theorizer/model/pretrained-model and are newly initialized because the shapes did not match:\n",
      "- lm_head.weight: found shape torch.Size([50265, 768]) in the checkpoint and torch.Size([50265, 2048]) in the model instantiated\n",
      "You should probably TRAIN this model on a down-stream task to be able to use it for predictions and inference.\n"
     ]
    },
    {
     "name": "stdout",
     "output_type": "stream",
     "text": [
      "{\n",
      "    \"context\": \"Bob is eating a delicious cake in Vancouver.\",\n",
      "    \"qa\": [\n",
      "        [\n",
      "            \"other countries who are asked to go up with a big number of people who do what type of soldiers who eat the food?\",\n",
      "            \".\"\n",
      "        ],\n",
      "        [\n",
      "            \"other German philosopher is doing what?\",\n",
      "            \"is\"\n",
      "        ],\n",
      "        [\n",
      "            \"boolean was in charge of what type of emperor?\",\n",
      "            \"is eating a delicious cake in Vancouver\"\n",
      "        ],\n",
      "        [\n",
      "            \"where does the gun arrive in New Haven Harbor?\",\n",
      "            \"is eating a delicious cake in Vancouver\"\n",
      "        ],\n",
      "        [\n",
      "            \"boolean's invention was used to treat what?\",\n",
      "            \".\"\n",
      "        ],\n",
      "        [\n",
      "            \"other parts of the world are called what?\",\n",
      "            \".\"\n",
      "        ],\n",
      "        [\n",
      "            \"how is it called when the first Roman emperor was killed?\",\n",
      "            \"is\"\n",
      "        ],\n",
      "        [\n",
      "            \"where is the first part of the original constitution created?\",\n",
      "            \"is eating a delicious cake in Vancouver\"\n",
      "        ],\n",
      "        [\n",
      "            \"boolean's invention was used to create what famous figure?\",\n",
      "            \"is eating a delicious cake in Vancouver\"\n",
      "        ],\n",
      "        [\n",
      "            \"how is the phrase that is used to describe the person who lives in Germany?\",\n",
      "            \"is\"\n",
      "        ],\n",
      "        [\n",
      "            \"boolean was used to treat what famous figure?\",\n",
      "            \".\"\n",
      "        ],\n",
      "        [\n",
      "            \"other parts of the world are called what?\",\n",
      "            \"is\"\n",
      "        ]\n",
      "    ]\n",
      "}\n"
     ]
    }
   ],
   "source": [
    "context = \"Bob is eating a delicious cake in Vancouver.\" \n",
    "\n",
    "qa_dict = generate(context)\n",
    "print(json.dumps(qa_dict,indent=4))"
   ]
  }
 ],
 "metadata": {
  "kernelspec": {
   "display_name": "Python 3",
   "language": "python",
   "name": "python3"
  },
  "language_info": {
   "codemirror_mode": {
    "name": "ipython",
    "version": 3
   },
   "file_extension": ".py",
   "mimetype": "text/x-python",
   "name": "python",
   "nbconvert_exporter": "python",
   "pygments_lexer": "ipython3",
   "version": "3.10.6"
  },
  "orig_nbformat": 4
 },
 "nbformat": 4,
 "nbformat_minor": 2
}
