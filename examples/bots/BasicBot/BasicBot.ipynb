{
 "cells": [
  {
   "cell_type": "markdown",
   "metadata": {},
   "source": [
    "### Basic Bot with GUI"
   ]
  },
  {
   "cell_type": "code",
   "execution_count": 1,
   "metadata": {},
   "outputs": [
    {
     "ename": "ModuleNotFoundError",
     "evalue": "No module named 'BasicBot'",
     "output_type": "error",
     "traceback": [
      "\u001b[0;31m---------------------------------------------------------------------------\u001b[0m",
      "\u001b[0;31mModuleNotFoundError\u001b[0m                       Traceback (most recent call last)",
      "Cell \u001b[0;32mIn[1], line 1\u001b[0m\n\u001b[0;32m----> 1\u001b[0m \u001b[39mfrom\u001b[39;00m \u001b[39mbotiverse\u001b[39;00m\u001b[39m.\u001b[39;00m\u001b[39mbots\u001b[39;00m \u001b[39mimport\u001b[39;00m BasicBot\n\u001b[1;32m      2\u001b[0m \u001b[39mfrom\u001b[39;00m \u001b[39mbotiverse\u001b[39;00m \u001b[39mimport\u001b[39;00m chat_gui\n\u001b[1;32m      4\u001b[0m bot \u001b[39m=\u001b[39m BasicBot(machine\u001b[39m=\u001b[39m\u001b[39m'\u001b[39m\u001b[39msvm\u001b[39m\u001b[39m'\u001b[39m, \u001b[39mrepr\u001b[39m\u001b[39m=\u001b[39m\u001b[39m'\u001b[39m\u001b[39mtf-idf\u001b[39m\u001b[39m'\u001b[39m)\n",
      "File \u001b[0;32m~/Documents/GitHub/Botiverse/botiverse/bots/__init__.py:1\u001b[0m\n\u001b[0;32m----> 1\u001b[0m \u001b[39mfrom\u001b[39;00m \u001b[39mBasicBot\u001b[39;00m\u001b[39m.\u001b[39;00m\u001b[39mBasicBot\u001b[39;00m \u001b[39mimport\u001b[39;00m BasicBot\n\u001b[1;32m      2\u001b[0m \u001b[39mfrom\u001b[39;00m \u001b[39mWhizBot\u001b[39;00m\u001b[39m.\u001b[39;00m\u001b[39mWhizBot\u001b[39;00m \u001b[39mimport\u001b[39;00m WhizBot\n\u001b[1;32m      3\u001b[0m \u001b[39mfrom\u001b[39;00m \u001b[39mConverseBot\u001b[39;00m\u001b[39m.\u001b[39;00m\u001b[39mConverseBot\u001b[39;00m \u001b[39mimport\u001b[39;00m ConverseBot\n",
      "\u001b[0;31mModuleNotFoundError\u001b[0m: No module named 'BasicBot'"
     ]
    }
   ],
   "source": [
    "from botiverse.bots import BasicBot\n",
    "from botiverse import chat_gui\n",
    "\n",
    "bot = BasicBot(machine='svm', repr='tf-idf')\n",
    "bot.read_data('dataset.json')\n",
    "bot.train()\n",
    "bot.infer(\"What are the tuition fees for college?\")"
   ]
  },
  {
   "cell_type": "markdown",
   "metadata": {},
   "source": [
    "#### GUI"
   ]
  },
  {
   "cell_type": "code",
   "execution_count": 14,
   "metadata": {},
   "outputs": [
    {
     "name": "stdout",
     "output_type": "stream",
     "text": [
      " * Serving Flask app 'botiverse.gui.gui'\n",
      " * Debug mode: off\n"
     ]
    },
    {
     "name": "stderr",
     "output_type": "stream",
     "text": [
      "\u001b[31m\u001b[1mWARNING: This is a development server. Do not use it in a production deployment. Use a production WSGI server instead.\u001b[0m\n",
      " * Running on http://127.0.0.1:5000\n",
      "\u001b[33mPress CTRL+C to quit\u001b[0m\n",
      "127.0.0.1 - - [24/Jul/2023 17:44:35] \"GET / HTTP/1.1\" 200 -\n",
      "127.0.0.1 - - [24/Jul/2023 17:44:35] \"\u001b[36mGET /static/style.css HTTP/1.1\u001b[0m\" 304 -\n",
      "127.0.0.1 - - [24/Jul/2023 17:44:35] \"\u001b[36mGET /static/logo.png HTTP/1.1\u001b[0m\" 304 -\n",
      "127.0.0.1 - - [24/Jul/2023 17:44:35] \"\u001b[36mGET /static/icons/Basic%20Bot.png HTTP/1.1\u001b[0m\" 304 -\n",
      "127.0.0.1 - - [24/Jul/2023 17:44:38] \"POST /get HTTP/1.1\" 200 -\n"
     ]
    },
    {
     "data": {
      "text/plain": [
       "<botiverse.gui.gui.chat_gui at 0x2e49b0820>"
      ]
     },
     "execution_count": 14,
     "metadata": {},
     "output_type": "execute_result"
    }
   ],
   "source": [
    "chat_gui('Basic Bot', bot.infer)"
   ]
  },
  {
   "cell_type": "markdown",
   "metadata": {},
   "source": [
    "### Using a Custom Model and Transform"
   ]
  },
  {
   "cell_type": "code",
   "execution_count": 2,
   "metadata": {},
   "outputs": [],
   "source": [
    "from botiverse.models import NeuralNet\n",
    "from botiverse.preprocessors import GloVe"
   ]
  },
  {
   "cell_type": "code",
   "execution_count": 3,
   "metadata": {},
   "outputs": [
    {
     "name": "stderr",
     "output_type": "stream",
     "text": [
      "Train Acc: 0.57: 100%|██████████| 30/30 [00:00<00:00, 218.58it/s]\n"
     ]
    }
   ],
   "source": [
    "model = NeuralNet(structure=[50, 12, 8], activation='sigmoid')\n",
    "transform = GloVe()\n",
    "bot = BasicBot(machine=model, repr=transform)\n",
    "bot.read_data('dataset.json')\n",
    "bot.train(batch_size=1, epochs=30, λ = 0.02, eval_train=True, val_split=0.0)\n"
   ]
  },
  {
   "cell_type": "markdown",
   "metadata": {},
   "source": [
    "#### GUI"
   ]
  },
  {
   "cell_type": "code",
   "execution_count": null,
   "metadata": {},
   "outputs": [],
   "source": [
    "chat_gui('Basic Bot', bot.infer)"
   ]
  }
 ],
 "metadata": {
  "kernelspec": {
   "display_name": "M1",
   "language": "python",
   "name": "python3"
  },
  "language_info": {
   "codemirror_mode": {
    "name": "ipython",
    "version": 3
   },
   "file_extension": ".py",
   "mimetype": "text/x-python",
   "name": "python",
   "nbconvert_exporter": "python",
   "pygments_lexer": "ipython3",
   "version": "3.9.16"
  },
  "orig_nbformat": 4
 },
 "nbformat": 4,
 "nbformat_minor": 2
}
