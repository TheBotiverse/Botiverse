{
 "cells": [
  {
   "cell_type": "markdown",
   "metadata": {},
   "source": [
    "### Basic Bot with GUI"
   ]
  },
  {
   "cell_type": "code",
   "execution_count": 1,
   "metadata": {},
   "outputs": [
    {
     "name": "stdout",
     "output_type": "stream",
     "text": [
      "Model finished training with accuracy 1.0\n"
     ]
    },
    {
     "data": {
      "text/plain": [
       "\"The tuition fees for our university vary depending on the program and academic level. You can find detailed information about the costs on our website's 'Tuition and Financial Aid' section. Additionally, we provide various financial aid options to assist eligible students in managing their education expenses.\""
      ]
     },
     "execution_count": 1,
     "metadata": {},
     "output_type": "execute_result"
    }
   ],
   "source": [
    "from botiverse.bots import BasicBot\n",
    "from botiverse import chat_gui\n",
    "\n",
    "bot = BasicBot(machine='svm', repr='tf-idf')\n",
    "bot.read_data('dataset.json')\n",
    "bot.train()\n",
    "bot.infer(\"What are the tuition fees for college?\")"
   ]
  },
  {
   "cell_type": "markdown",
   "metadata": {},
   "source": [
    "#### GUI"
   ]
  },
  {
   "cell_type": "code",
   "execution_count": 2,
   "metadata": {},
   "outputs": [
    {
     "name": "stdout",
     "output_type": "stream",
     "text": [
      " * Serving Flask app 'botiverse.gui.gui'\n",
      " * Debug mode: off\n"
     ]
    },
    {
     "name": "stderr",
     "output_type": "stream",
     "text": [
      "\u001b[31m\u001b[1mWARNING: This is a development server. Do not use it in a production deployment. Use a production WSGI server instead.\u001b[0m\n",
      " * Running on http://127.0.0.1:5000\n",
      "\u001b[33mPress CTRL+C to quit\u001b[0m\n",
      "127.0.0.1 - - [26/Jul/2023 12:59:30] \"GET / HTTP/1.1\" 200 -\n",
      "127.0.0.1 - - [26/Jul/2023 12:59:30] \"\u001b[36mGET /static/style.css HTTP/1.1\u001b[0m\" 304 -\n",
      "127.0.0.1 - - [26/Jul/2023 12:59:30] \"\u001b[36mGET /static/logo.png HTTP/1.1\u001b[0m\" 304 -\n",
      "127.0.0.1 - - [26/Jul/2023 12:59:30] \"\u001b[36mGET /static/icons/Basic%20Bot.png HTTP/1.1\u001b[0m\" 304 -\n",
      "127.0.0.1 - - [26/Jul/2023 12:59:33] \"POST /get HTTP/1.1\" 200 -\n"
     ]
    },
    {
     "data": {
      "text/plain": [
       "<botiverse.gui.gui.chat_gui at 0x2ac3076d0>"
      ]
     },
     "execution_count": 2,
     "metadata": {},
     "output_type": "execute_result"
    }
   ],
   "source": [
    "chat_gui('Basic Bot', bot.infer)"
   ]
  },
  {
   "cell_type": "markdown",
   "metadata": {},
   "source": [
    "### Using a Custom Model and Transform"
   ]
  },
  {
   "cell_type": "code",
   "execution_count": null,
   "metadata": {},
   "outputs": [],
   "source": [
    "from botiverse.models import NeuralNet\n",
    "from botiverse.preprocessors import GloVe"
   ]
  },
  {
   "cell_type": "code",
   "execution_count": null,
   "metadata": {},
   "outputs": [],
   "source": [
    "model = NeuralNet(structure=[50, 12, 8], activation='sigmoid')\n",
    "transform = GloVe()\n",
    "bot = BasicBot(machine=model, repr=transform)\n",
    "bot.read_data('dataset.json')\n",
    "bot.train(batch_size=1, epochs=30, λ = 0.02, eval_train=True, val_split=0.0)\n"
   ]
  },
  {
   "cell_type": "markdown",
   "metadata": {},
   "source": [
    "#### GUI"
   ]
  },
  {
   "cell_type": "code",
   "execution_count": null,
   "metadata": {},
   "outputs": [],
   "source": [
    "chat_gui('Basic Bot', bot.infer)"
   ]
  }
 ],
 "metadata": {
  "kernelspec": {
   "display_name": "M1",
   "language": "python",
   "name": "python3"
  },
  "language_info": {
   "codemirror_mode": {
    "name": "ipython",
    "version": 3
   },
   "file_extension": ".py",
   "mimetype": "text/x-python",
   "name": "python",
   "nbconvert_exporter": "python",
   "pygments_lexer": "ipython3",
   "version": "3.9.16"
  },
  "orig_nbformat": 4
 },
 "nbformat": 4,
 "nbformat_minor": 2
}
