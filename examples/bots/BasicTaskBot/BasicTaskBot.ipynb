{
 "cells": [
  {
   "cell_type": "markdown",
   "metadata": {},
   "source": [
    "# Imports"
   ]
  },
  {
   "cell_type": "code",
   "execution_count": 1,
   "metadata": {},
   "outputs": [],
   "source": [
    "from botiverse import chat_gui\n",
    "from botiverse.bots import BasicTaskBot"
   ]
  },
  {
   "cell_type": "markdown",
   "metadata": {},
   "source": [
    "# Constants"
   ]
  },
  {
   "cell_type": "code",
   "execution_count": 2,
   "metadata": {},
   "outputs": [],
   "source": [
    "domains_slots = {\"book-flight\": [\"source\", \"destination\", \"day\"]}\n",
    "\n",
    "templates = {\n",
    "                \"book-flight\":\n",
    "                {\n",
    "                    \"source\": [\"Where do you want to fly from?\",\n",
    "                               \"From where will you take the flight?\"],\n",
    "                    \"destination\": [\"What is your destination?\",\n",
    "                                    \"Where do you want to go?\"],\n",
    "                    \"day\": [\"What day do you want to leave?\"]\n",
    "                }\n",
    "            }\n",
    "\n",
    "domains_pattern = {\"book-flight\": r\"(i|I) want to (book|reserve) a? flights?\"}\n",
    "\n",
    "slots_pattern = {\n",
    "                    \"book-flight\":\n",
    "                    {\n",
    "                        \"source\": r\"from(?: city)? (cairo|giza)\",\n",
    "                        \"destination\": r\"to(?: city)? (cairo|giza)\",\n",
    "                        \"day\": r\"(saturday|sunday|monday|tuesday|wednesday|thursday|friday)\"\n",
    "                    }\n",
    "                }"
   ]
  },
  {
   "cell_type": "markdown",
   "metadata": {},
   "source": [
    "# Create chatbot"
   ]
  },
  {
   "cell_type": "code",
   "execution_count": 3,
   "metadata": {},
   "outputs": [],
   "source": [
    "chatbot = BasicTaskBot(domains_slots, templates, domains_pattern, slots_pattern, verbose=True)"
   ]
  },
  {
   "cell_type": "markdown",
   "metadata": {},
   "source": [
    "# Run chatbot using GUI from botiverse"
   ]
  },
  {
   "cell_type": "code",
   "execution_count": 4,
   "metadata": {},
   "outputs": [
    {
     "name": "stdout",
     "output_type": "stream",
     "text": [
      " * Serving Flask app 'botiverse.gui.gui'\n",
      " * Debug mode: off\n"
     ]
    },
    {
     "name": "stderr",
     "output_type": "stream",
     "text": [
      "WARNING: This is a development server. Do not use it in a production deployment. Use a production WSGI server instead.\n",
      " * Running on http://127.0.0.1:5000\n",
      "Press CTRL+C to quit\n"
     ]
    },
    {
     "name": "stderr",
     "output_type": "stream",
     "text": [
      "127.0.0.1 - - [25/Jul/2023 00:02:41] \"GET / HTTP/1.1\" 200 -\n",
      "127.0.0.1 - - [25/Jul/2023 00:02:41] \"GET /static/style.css HTTP/1.1\" 304 -\n",
      "127.0.0.1 - - [25/Jul/2023 00:02:41] \"GET /static/logo.png HTTP/1.1\" 304 -\n",
      "127.0.0.1 - - [25/Jul/2023 00:02:41] \"GET /static/icons/Task%20bot.png HTTP/1.1\" 304 -\n",
      "127.0.0.1 - - [25/Jul/2023 00:02:48] \"POST /get HTTP/1.1\" 200 -\n"
     ]
    },
    {
     "name": "stdout",
     "output_type": "stream",
     "text": [
      "State: {'book-flight': {'source': None, 'destination': None, 'day': None}}\n"
     ]
    },
    {
     "name": "stderr",
     "output_type": "stream",
     "text": [
      "127.0.0.1 - - [25/Jul/2023 00:02:55] \"POST /get HTTP/1.1\" 200 -\n"
     ]
    },
    {
     "name": "stdout",
     "output_type": "stream",
     "text": [
      "State: {'book-flight': {'source': 'cairo', 'destination': None, 'day': None}}\n"
     ]
    },
    {
     "name": "stderr",
     "output_type": "stream",
     "text": [
      "127.0.0.1 - - [25/Jul/2023 00:02:58] \"POST /get HTTP/1.1\" 200 -\n"
     ]
    },
    {
     "name": "stdout",
     "output_type": "stream",
     "text": [
      "State: {'book-flight': {'source': 'cairo', 'destination': 'giza', 'day': None}}\n"
     ]
    },
    {
     "name": "stderr",
     "output_type": "stream",
     "text": [
      "127.0.0.1 - - [25/Jul/2023 00:03:04] \"POST /get HTTP/1.1\" 200 -\n"
     ]
    },
    {
     "name": "stdout",
     "output_type": "stream",
     "text": [
      "State: {'book-flight': {'source': 'cairo', 'destination': 'giza', 'day': 'monday'}}\n"
     ]
    },
    {
     "name": "stderr",
     "output_type": "stream",
     "text": [
      "127.0.0.1 - - [25/Jul/2023 00:17:11] \"GET / HTTP/1.1\" 200 -\n",
      "127.0.0.1 - - [25/Jul/2023 00:17:12] \"GET /static/style.css HTTP/1.1\" 304 -\n",
      "127.0.0.1 - - [25/Jul/2023 00:17:12] \"GET /static/logo.png HTTP/1.1\" 304 -\n",
      "127.0.0.1 - - [25/Jul/2023 00:17:12] \"GET /static/icons/Task%20bot.png HTTP/1.1\" 304 -\n",
      "127.0.0.1 - - [25/Jul/2023 00:17:15] \"POST /get HTTP/1.1\" 200 -\n"
     ]
    },
    {
     "name": "stdout",
     "output_type": "stream",
     "text": [
      "State: {'book-flight': {'source': 'cairo', 'destination': 'giza', 'day': 'monday'}}\n"
     ]
    },
    {
     "name": "stderr",
     "output_type": "stream",
     "text": [
      "127.0.0.1 - - [25/Jul/2023 00:17:43] \"POST /get HTTP/1.1\" 200 -\n"
     ]
    },
    {
     "name": "stdout",
     "output_type": "stream",
     "text": [
      "State: {'book-flight': {'source': 'cairo', 'destination': 'giza', 'day': 'monday'}}\n"
     ]
    },
    {
     "name": "stderr",
     "output_type": "stream",
     "text": [
      "127.0.0.1 - - [25/Jul/2023 00:17:43] \"POST /get HTTP/1.1\" 200 -\n"
     ]
    },
    {
     "name": "stdout",
     "output_type": "stream",
     "text": [
      "State: {'book-flight': {'source': 'cairo', 'destination': 'giza', 'day': 'monday'}}\n"
     ]
    },
    {
     "name": "stderr",
     "output_type": "stream",
     "text": [
      "127.0.0.1 - - [25/Jul/2023 00:17:43] \"POST /get HTTP/1.1\" 200 -\n",
      "127.0.0.1 - - [25/Jul/2023 00:17:44] \"POST /get HTTP/1.1\" 200 -\n"
     ]
    },
    {
     "name": "stdout",
     "output_type": "stream",
     "text": [
      "State: {'book-flight': {'source': 'cairo', 'destination': 'giza', 'day': 'monday'}}\n",
      "State: {'book-flight': {'source': 'cairo', 'destination': 'giza', 'day': 'monday'}}\n"
     ]
    },
    {
     "name": "stderr",
     "output_type": "stream",
     "text": [
      "127.0.0.1 - - [25/Jul/2023 00:17:44] \"POST /get HTTP/1.1\" 200 -\n"
     ]
    },
    {
     "name": "stdout",
     "output_type": "stream",
     "text": [
      "State: {'book-flight': {'source': 'cairo', 'destination': 'giza', 'day': 'monday'}}\n"
     ]
    },
    {
     "name": "stderr",
     "output_type": "stream",
     "text": [
      "127.0.0.1 - - [25/Jul/2023 00:17:44] \"POST /get HTTP/1.1\" 200 -\n"
     ]
    },
    {
     "name": "stdout",
     "output_type": "stream",
     "text": [
      "State: {'book-flight': {'source': 'cairo', 'destination': 'giza', 'day': 'monday'}}\n"
     ]
    },
    {
     "name": "stderr",
     "output_type": "stream",
     "text": [
      "127.0.0.1 - - [25/Jul/2023 00:17:45] \"POST /get HTTP/1.1\" 200 -\n"
     ]
    },
    {
     "name": "stdout",
     "output_type": "stream",
     "text": [
      "State: {'book-flight': {'source': 'cairo', 'destination': 'giza', 'day': 'monday'}}\n"
     ]
    },
    {
     "name": "stderr",
     "output_type": "stream",
     "text": [
      "127.0.0.1 - - [25/Jul/2023 00:18:20] \"GET / HTTP/1.1\" 200 -\n",
      "127.0.0.1 - - [25/Jul/2023 00:18:20] \"GET /static/style.css HTTP/1.1\" 304 -\n",
      "127.0.0.1 - - [25/Jul/2023 00:18:20] \"GET /static/logo.png HTTP/1.1\" 304 -\n",
      "127.0.0.1 - - [25/Jul/2023 00:18:20] \"GET /static/icons/Task%20bot.png HTTP/1.1\" 304 -\n",
      "127.0.0.1 - - [25/Jul/2023 00:18:24] \"POST /get HTTP/1.1\" 200 -\n"
     ]
    },
    {
     "name": "stdout",
     "output_type": "stream",
     "text": [
      "State: {'book-flight': {'source': 'cairo', 'destination': 'giza', 'day': 'monday'}}\n"
     ]
    },
    {
     "ename": "AttributeError",
     "evalue": "'chat_gui' object has no attribute 'run'",
     "output_type": "error",
     "traceback": [
      "\u001b[1;31m---------------------------------------------------------------------------\u001b[0m",
      "\u001b[1;31mAttributeError\u001b[0m                            Traceback (most recent call last)",
      "\u001b[1;32md:\\programing\\faculty of engineering\\5_fourth year in cmp\\GP\\Botiverse\\examples\\basic_TODS_example\\bastic_TODS_example.ipynb Cell 8\u001b[0m in \u001b[0;36m2\n\u001b[0;32m      <a href='vscode-notebook-cell:/d%3A/programing/faculty%20of%20engineering/5_fourth%20year%20in%20cmp/GP/Botiverse/examples/basic_TODS_example/bastic_TODS_example.ipynb#X10sZmlsZQ%3D%3D?line=0'>1</a>\u001b[0m chat_gui \u001b[39m=\u001b[39m chat_gui(\u001b[39m'\u001b[39m\u001b[39mTask bot\u001b[39m\u001b[39m'\u001b[39m, chatbot\u001b[39m.\u001b[39minfer)\n\u001b[1;32m----> <a href='vscode-notebook-cell:/d%3A/programing/faculty%20of%20engineering/5_fourth%20year%20in%20cmp/GP/Botiverse/examples/basic_TODS_example/bastic_TODS_example.ipynb#X10sZmlsZQ%3D%3D?line=1'>2</a>\u001b[0m chat_gui\u001b[39m.\u001b[39;49mrun()\n",
      "\u001b[1;31mAttributeError\u001b[0m: 'chat_gui' object has no attribute 'run'"
     ]
    }
   ],
   "source": [
    "chat_gui('Task Bot', chatbot.infer)"
   ]
  }
 ],
 "metadata": {
  "kernelspec": {
   "display_name": "pytorch",
   "language": "python",
   "name": "python3"
  },
  "language_info": {
   "codemirror_mode": {
    "name": "ipython",
    "version": 3
   },
   "file_extension": ".py",
   "mimetype": "text/x-python",
   "name": "python",
   "nbconvert_exporter": "python",
   "pygments_lexer": "ipython3",
   "version": "3.10.6"
  },
  "orig_nbformat": 4
 },
 "nbformat": 4,
 "nbformat_minor": 2
}
