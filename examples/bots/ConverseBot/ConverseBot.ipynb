{
 "cells": [
  {
   "cell_type": "markdown",
   "metadata": {},
   "source": [
    "# Converse Bot Demo"
   ]
  },
  {
   "cell_type": "code",
   "execution_count": 8,
   "metadata": {},
   "outputs": [],
   "source": [
    "from botiverse.bots import ConverseBot\n",
    "from botiverse import chat_gui"
   ]
  },
  {
   "cell_type": "markdown",
   "metadata": {},
   "source": [
    "#### Dataset Sample"
   ]
  },
  {
   "cell_type": "markdown",
   "metadata": {},
   "source": [
    "```json\n",
    "[\n",
    "  [\n",
    "    \"how long does it take for an order cancellation to process?\",\n",
    "    \"Great question! Generally, if an order hasn't begun processing, the ...\"\n",
    "  ],\n",
    "  [\n",
    "    \"how can I report an undelivered package with no tracking updates or news from the shipping company?\",\n",
    "    \"Greetings! Who is the carrier and what is the current status of your package listed here: [URL] ? ^TL\"\n",
    "  ],\n",
    "  [\n",
    "    \"i have been waiting for a parcel which has been dispatched and said to arrive on Friday ...?\",\n",
    "    \"Uh no! That is not what we expect! We would like to take a closer look into this, in ...\"\n",
    "  ],\n",
    "]\n",
    "```"
   ]
  },
  {
   "cell_type": "markdown",
   "metadata": {},
   "source": [
    "### Read the Data"
   ]
  },
  {
   "cell_type": "code",
   "execution_count": 9,
   "metadata": {},
   "outputs": [],
   "source": [
    "bot = ConverseBot()\n",
    "bot.read_data(\"conversations.json\")"
   ]
  },
  {
   "cell_type": "markdown",
   "metadata": {},
   "source": [
    "### Train and save the chatbot"
   ]
  },
  {
   "cell_type": "code",
   "execution_count": 10,
   "metadata": {},
   "outputs": [
    {
     "name": "stderr",
     "output_type": "stream",
     "text": [
      "Train Acc: 0.93: 100%|██████████| 240/240 [00:01<00:00, 220.21it/s]\n"
     ]
    }
   ],
   "source": [
    "bot.train(epochs=1, batch_size=1)\n",
    "bot.save_model(\"conversebot.pt\")"
   ]
  },
  {
   "cell_type": "markdown",
   "metadata": {},
   "source": [
    "### Infer"
   ]
  },
  {
   "cell_type": "code",
   "execution_count": 11,
   "metadata": {},
   "outputs": [
    {
     "data": {
      "text/plain": [
       "\"Hello! Welcome to our university's website.\""
      ]
     },
     "execution_count": 11,
     "metadata": {},
     "output_type": "execute_result"
    }
   ],
   "source": [
    "bot.infer(\"What is Wikipedia?\")"
   ]
  },
  {
   "cell_type": "markdown",
   "metadata": {},
   "source": [
    "### Deploy the Chatbot"
   ]
  },
  {
   "cell_type": "code",
   "execution_count": 7,
   "metadata": {},
   "outputs": [
    {
     "name": "stdout",
     "output_type": "stream",
     "text": [
      " * Serving Flask app 'botiverse.gui.gui'\n",
      " * Debug mode: off\n"
     ]
    },
    {
     "name": "stderr",
     "output_type": "stream",
     "text": [
      "\u001b[31m\u001b[1mWARNING: This is a development server. Do not use it in a production deployment. Use a production WSGI server instead.\u001b[0m\n",
      " * Running on http://127.0.0.1:5000\n",
      "\u001b[33mPress CTRL+C to quit\u001b[0m\n",
      "127.0.0.1 - - [27/Jul/2023 14:44:23] \"GET / HTTP/1.1\" 200 -\n",
      "127.0.0.1 - - [27/Jul/2023 14:44:23] \"\u001b[36mGET /static/style.css HTTP/1.1\u001b[0m\" 304 -\n",
      "127.0.0.1 - - [27/Jul/2023 14:44:23] \"\u001b[36mGET /static/logo.png HTTP/1.1\u001b[0m\" 304 -\n",
      "127.0.0.1 - - [27/Jul/2023 14:44:23] \"GET /static/icons/Basic%20Bot.png HTTP/1.1\" 200 -\n",
      "127.0.0.1 - - [27/Jul/2023 14:44:25] \"POST /get HTTP/1.1\" 200 -\n",
      "127.0.0.1 - - [27/Jul/2023 14:44:25] \"\u001b[36mGET /static/icons/Basic%20Bot.png HTTP/1.1\u001b[0m\" 304 -\n",
      "127.0.0.1 - - [27/Jul/2023 14:44:29] \"POST /get HTTP/1.1\" 200 -\n"
     ]
    },
    {
     "data": {
      "text/plain": [
       "<botiverse.gui.gui.chat_gui at 0x2b9d23ca0>"
      ]
     },
     "execution_count": 7,
     "metadata": {},
     "output_type": "execute_result"
    }
   ],
   "source": [
    "chat_gui('Converse Bot', bot.infer, server=True)"
   ]
  }
 ],
 "metadata": {
  "kernelspec": {
   "display_name": "M1",
   "language": "python",
   "name": "python3"
  },
  "language_info": {
   "codemirror_mode": {
    "name": "ipython",
    "version": 3
   },
   "file_extension": ".py",
   "mimetype": "text/x-python",
   "name": "python",
   "nbconvert_exporter": "python",
   "pygments_lexer": "ipython3",
   "version": "3.9.16"
  },
  "orig_nbformat": 4
 },
 "nbformat": 4,
 "nbformat_minor": 2
}
