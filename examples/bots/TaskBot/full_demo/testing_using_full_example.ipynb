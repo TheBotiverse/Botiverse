{
  "cells": [
    {
      "cell_type": "markdown",
      "metadata": {},
      "source": [
        "# Imports"
      ]
    },
    {
      "cell_type": "code",
      "execution_count": 1,
      "metadata": {},
      "outputs": [],
      "source": [
        "from botiverse import chat_gui\n",
        "from botiverse.bots import TaskBot"
      ]
    },
    {
      "cell_type": "markdown",
      "metadata": {
        "id": "x7gpppja-weh"
      },
      "source": [
        "## Constants"
      ]
    },
    {
      "cell_type": "code",
      "execution_count": 2,
      "metadata": {
        "id": "KFNex6XNjHiy"
      },
      "outputs": [],
      "source": [
        "# The domains e.g. restaurant, hotel, etc.\n",
        "domains = [\"restaurant\"]\n",
        "\n",
        "# The names of the slots where each slot is prefixed with the domain name e.g. restaurant-name, hotel-name, etc.\n",
        "slot_list = [\n",
        "    \"restaurant-category\",\n",
        "    \"restaurant-rating\",\n",
        "    \"restaurant-num_people\",\n",
        "    \"restaurant-location\",\n",
        "    \"restaurant-restaurant_name\",\n",
        "    \"restaurant-time\",\n",
        "    \"restaurant-date\",\n",
        "    \"restaurant-price_range\",\n",
        "    \"restaurant-meal\"\n",
        "]\n",
        "\n",
        "# The utterances for the system to start the conversation\n",
        "start = [\n",
        "    {\n",
        "        'utterance': 'Hi I am Tody, I can help you reserve a restaurant?',\n",
        "        'slots': [],\n",
        "        'system_act': {}\n",
        "    }\n",
        "]\n",
        "\n",
        "# The templates for generating responses\n",
        "templates = [\n",
        "    {\n",
        "        'utterance': 'what type of food do you want and in what area?',\n",
        "        'slots': ['restaurant-location', 'restaurant-category'],\n",
        "        'system_act': {}\n",
        "    },\n",
        "    {\n",
        "        'utterance': 'what is your preferred price range and rating?',\n",
        "        'slots': ['restaurant-price_range', 'restaurant-rating'],\n",
        "        'system_act': {}\n",
        "    },\n",
        "    {\n",
        "        'utterance': 'how many people will be in your party?',\n",
        "        'slots': ['restaurant-num_people'],\n",
        "        'system_act': {}\n",
        "    },\n",
        "    {\n",
        "        'utterance': 'what time and date would you like to reserve a table for?',\n",
        "        'slots': ['restaurant-time', 'restaurant-date'],\n",
        "        'system_act': {}\n",
        "    },\n",
        "    {\n",
        "        'utterance': 'May I suggest kfc restaurant?',\n",
        "        'slots': ['restaurant-restaurant_name'],\n",
        "        'system_act': {'restaurant-restaurant_name': ['kfc']}\n",
        "    },\n",
        "    {\n",
        "        'utterance': 'ok done, here is your reservation number: 123456',\n",
        "        'slots': [],\n",
        "        'system_act': {}\n",
        "    }\n",
        "]"
      ]
    },
    {
      "cell_type": "markdown",
      "metadata": {
        "id": "nN2fVS6F-zo0"
      },
      "source": [
        "## Create chatbot"
      ]
    },
    {
      "cell_type": "code",
      "execution_count": 3,
      "metadata": {
        "colab": {
          "base_uri": "https://localhost:8080/"
        },
        "id": "pUjWVWDwlAuP",
        "outputId": "7bfb5119-534e-46f3-9651-99b79bbe8c72"
      },
      "outputs": [
        {
          "name": "stderr",
          "output_type": "stream",
          "text": [
            "Some weights of the model checkpoint at bert-base-uncased were not used when initializing BertModel: ['cls.seq_relationship.bias', 'cls.predictions.transform.dense.weight', 'cls.predictions.transform.LayerNorm.weight', 'cls.predictions.bias', 'cls.predictions.decoder.weight', 'cls.predictions.transform.LayerNorm.bias', 'cls.seq_relationship.weight', 'cls.predictions.transform.dense.bias']\n",
            "- This IS expected if you are initializing BertModel from the checkpoint of a model trained on another task or with another architecture (e.g. initializing a BertForSequenceClassification model from a BertForPreTraining model).\n",
            "- This IS NOT expected if you are initializing BertModel from the checkpoint of a model that you expect to be exactly identical (initializing a BertForSequenceClassification model from a BertForSequenceClassification model).\n"
          ]
        }
      ],
      "source": [
        "chatbot = TaskBot(domains, slot_list, start, templates, verbose=True)"
      ]
    },
    {
      "cell_type": "markdown",
      "metadata": {},
      "source": [
        "# Give data to the chatbot"
      ]
    },
    {
      "cell_type": "code",
      "execution_count": 4,
      "metadata": {},
      "outputs": [],
      "source": [
        "train_path = 'small_dataset/train_dials.json'\n",
        "dev_path = 'small_dataset/dev_dials.json'\n",
        "test_path = 'small_dataset/test_dials.json'\n",
        "\n",
        "chatbot.read_data(train_path, dev_path, test_path)"
      ]
    },
    {
      "cell_type": "markdown",
      "metadata": {
        "id": "nM1AWHHX-1fG"
      },
      "source": [
        "# Train the chatbot"
      ]
    },
    {
      "cell_type": "code",
      "execution_count": 5,
      "metadata": {
        "colab": {
          "base_uri": "https://localhost:8080/"
        },
        "id": "QXE8j07VlChR",
        "outputId": "4ff75074-5286-4653-b664-cfc71cc816fb"
      },
      "outputs": [
        {
          "name": "stdout",
          "output_type": "stream",
          "text": [
            "Preprocessing train set...\n"
          ]
        },
        {
          "name": "stderr",
          "output_type": "stream",
          "text": [
            "100%|██████████| 6/6 [00:00<00:00, 1017.38it/s]\n"
          ]
        },
        {
          "name": "stdout",
          "output_type": "stream",
          "text": [
            "Preprocessing dev set...\n"
          ]
        },
        {
          "name": "stderr",
          "output_type": "stream",
          "text": [
            "100%|██████████| 6/6 [00:00<00:00, 934.49it/s]\n"
          ]
        },
        {
          "name": "stdout",
          "output_type": "stream",
          "text": [
            "Preprocessing test set...\n"
          ]
        },
        {
          "name": "stderr",
          "output_type": "stream",
          "text": [
            "100%|██████████| 6/6 [00:00<00:00, 781.52it/s]\n"
          ]
        },
        {
          "name": "stdout",
          "output_type": "stream",
          "text": [
            "\n",
            "Epoch: 0 ---------------------------------------------------------------\n",
            "Training the model...\n"
          ]
        },
        {
          "name": "stderr",
          "output_type": "stream",
          "text": [
            "100%|██████████| 1/1 [00:05<00:00,  5.77s/it, loss=97.2]\n"
          ]
        },
        {
          "name": "stdout",
          "output_type": "stream",
          "text": [
            "Evaluating the model on dev set...\n"
          ]
        },
        {
          "name": "stderr",
          "output_type": "stream",
          "text": [
            "100%|██████████| 6/6 [00:01<00:00,  3.07it/s]\n"
          ]
        },
        {
          "name": "stdout",
          "output_type": "stream",
          "text": [
            "Joint Goal Acc: 0.0\n",
            "Per Slot Acc: {'restaurant-category': 0.0, 'restaurant-date': 0.3333333333333333, 'restaurant-location': 1.0, 'restaurant-meal': 0.16666666666666666, 'restaurant-num_people': 0.0, 'restaurant-price_range': 0.0, 'restaurant-rating': 0.0, 'restaurant-restaurant_name': 0.16666666666666666, 'restaurant-time': 0.16666666666666666}\n",
            "Macro F1 Score: 0.03737373737373737\n",
            "All f1 score = [0.09090909 0.         0.13333333 0.         0.         0.        ]\n",
            "\n",
            "Epoch: 1 ---------------------------------------------------------------\n",
            "Training the model...\n"
          ]
        },
        {
          "name": "stderr",
          "output_type": "stream",
          "text": [
            "100%|██████████| 1/1 [00:05<00:00,  5.31s/it, loss=96.8]\n"
          ]
        },
        {
          "name": "stdout",
          "output_type": "stream",
          "text": [
            "Evaluating the model on dev set...\n"
          ]
        },
        {
          "name": "stderr",
          "output_type": "stream",
          "text": [
            "100%|██████████| 6/6 [00:01<00:00,  3.26it/s]\n"
          ]
        },
        {
          "name": "stdout",
          "output_type": "stream",
          "text": [
            "Joint Goal Acc: 0.0\n",
            "Per Slot Acc: {'restaurant-category': 0.6666666666666666, 'restaurant-date': 0.6666666666666666, 'restaurant-location': 0.3333333333333333, 'restaurant-meal': 0.0, 'restaurant-num_people': 0.16666666666666666, 'restaurant-price_range': 0.0, 'restaurant-rating': 0.0, 'restaurant-restaurant_name': 0.16666666666666666, 'restaurant-time': 0.16666666666666666}\n",
            "Macro F1 Score: 0.04538939321548017\n",
            "All f1 score = [0.23076923 0.         0.         0.         0.         0.\n",
            " 0.08695652]\n",
            "\n",
            "Epoch: 2 ---------------------------------------------------------------\n",
            "Training the model...\n"
          ]
        },
        {
          "name": "stderr",
          "output_type": "stream",
          "text": [
            "100%|██████████| 1/1 [00:05<00:00,  5.55s/it, loss=89.7]\n"
          ]
        },
        {
          "name": "stdout",
          "output_type": "stream",
          "text": [
            "Evaluating the model on dev set...\n"
          ]
        },
        {
          "name": "stderr",
          "output_type": "stream",
          "text": [
            "100%|██████████| 6/6 [00:01<00:00,  3.11it/s]\n"
          ]
        },
        {
          "name": "stdout",
          "output_type": "stream",
          "text": [
            "Joint Goal Acc: 0.0\n",
            "Per Slot Acc: {'restaurant-category': 0.5, 'restaurant-date': 0.5, 'restaurant-location': 0.3333333333333333, 'restaurant-meal': 0.0, 'restaurant-num_people': 0.16666666666666666, 'restaurant-price_range': 0.0, 'restaurant-rating': 0.0, 'restaurant-restaurant_name': 0.16666666666666666, 'restaurant-time': 0.16666666666666666}\n",
            "Macro F1 Score: 0.06441102756892232\n",
            "All f1 score = [0.35087719 0.         0.         0.         0.         0.\n",
            " 0.1       ]\n",
            "\n",
            "Epoch: 3 ---------------------------------------------------------------\n",
            "Training the model...\n"
          ]
        },
        {
          "name": "stderr",
          "output_type": "stream",
          "text": [
            "100%|██████████| 1/1 [00:05<00:00,  5.87s/it, loss=82.8]\n"
          ]
        },
        {
          "name": "stdout",
          "output_type": "stream",
          "text": [
            "Evaluating the model on dev set...\n"
          ]
        },
        {
          "name": "stderr",
          "output_type": "stream",
          "text": [
            "100%|██████████| 6/6 [00:01<00:00,  3.19it/s]\n"
          ]
        },
        {
          "name": "stdout",
          "output_type": "stream",
          "text": [
            "Joint Goal Acc: 0.0\n",
            "Per Slot Acc: {'restaurant-category': 1.0, 'restaurant-date': 0.5, 'restaurant-location': 0.3333333333333333, 'restaurant-meal': 1.0, 'restaurant-num_people': 0.3333333333333333, 'restaurant-price_range': 0.0, 'restaurant-rating': 0.0, 'restaurant-restaurant_name': 0.16666666666666666, 'restaurant-time': 0.3333333333333333}\n",
            "Macro F1 Score: 0.11152339723768294\n",
            "All f1 score = [0.50793651 0.         0.         0.         0.         0.\n",
            " 0.27272727]\n",
            "\n",
            "Epoch: 4 ---------------------------------------------------------------\n",
            "Training the model...\n"
          ]
        },
        {
          "name": "stderr",
          "output_type": "stream",
          "text": [
            "100%|██████████| 1/1 [00:05<00:00,  5.48s/it, loss=81.7]\n"
          ]
        },
        {
          "name": "stdout",
          "output_type": "stream",
          "text": [
            "Evaluating the model on dev set...\n"
          ]
        },
        {
          "name": "stderr",
          "output_type": "stream",
          "text": [
            "100%|██████████| 6/6 [00:01<00:00,  3.24it/s]\n"
          ]
        },
        {
          "name": "stdout",
          "output_type": "stream",
          "text": [
            "Joint Goal Acc: 0.0\n",
            "Per Slot Acc: {'restaurant-category': 0.0, 'restaurant-date': 0.6666666666666666, 'restaurant-location': 0.8333333333333334, 'restaurant-meal': 1.0, 'restaurant-num_people': 0.3333333333333333, 'restaurant-price_range': 0.0, 'restaurant-rating': 0.0, 'restaurant-restaurant_name': 0.16666666666666666, 'restaurant-time': 0.5}\n",
            "Macro F1 Score: 0.15238095238095237\n",
            "All f1 score = [0.68571429 0.         0.         0.         0.         0.\n",
            " 0.38095238]\n",
            "\n",
            "Epoch: 5 ---------------------------------------------------------------\n",
            "Training the model...\n"
          ]
        },
        {
          "name": "stderr",
          "output_type": "stream",
          "text": [
            "100%|██████████| 1/1 [00:05<00:00,  5.57s/it, loss=75.9]\n"
          ]
        },
        {
          "name": "stdout",
          "output_type": "stream",
          "text": [
            "Evaluating the model on dev set...\n"
          ]
        },
        {
          "name": "stderr",
          "output_type": "stream",
          "text": [
            "100%|██████████| 6/6 [00:01<00:00,  3.09it/s]\n"
          ]
        },
        {
          "name": "stdout",
          "output_type": "stream",
          "text": [
            "Joint Goal Acc: 0.0\n",
            "Per Slot Acc: {'restaurant-category': 1.0, 'restaurant-date': 0.6666666666666666, 'restaurant-location': 0.8333333333333334, 'restaurant-meal': 1.0, 'restaurant-num_people': 0.16666666666666666, 'restaurant-price_range': 0.0, 'restaurant-rating': 1.0, 'restaurant-restaurant_name': 0.16666666666666666, 'restaurant-time': 0.8333333333333334}\n",
            "Macro F1 Score: 0.20590717299578057\n",
            "All f1 score = [0.83544304 0.         0.         0.         0.         0.4       ]\n",
            "\n",
            "Epoch: 6 ---------------------------------------------------------------\n",
            "Training the model...\n"
          ]
        },
        {
          "name": "stderr",
          "output_type": "stream",
          "text": [
            "100%|██████████| 1/1 [00:05<00:00,  5.49s/it, loss=71.8]\n"
          ]
        },
        {
          "name": "stdout",
          "output_type": "stream",
          "text": [
            "Evaluating the model on dev set...\n"
          ]
        },
        {
          "name": "stderr",
          "output_type": "stream",
          "text": [
            "100%|██████████| 6/6 [00:01<00:00,  3.22it/s]\n"
          ]
        },
        {
          "name": "stdout",
          "output_type": "stream",
          "text": [
            "Joint Goal Acc: 0.16666666666666666\n",
            "Per Slot Acc: {'restaurant-category': 1.0, 'restaurant-date': 0.6666666666666666, 'restaurant-location': 0.6666666666666666, 'restaurant-meal': 1.0, 'restaurant-num_people': 0.16666666666666666, 'restaurant-price_range': 1.0, 'restaurant-rating': 1.0, 'restaurant-restaurant_name': 0.16666666666666666, 'restaurant-time': 0.5}\n",
            "Macro F1 Score: 0.3515237420269312\n",
            "All f1 score = [0.81927711 0.         0.23529412]\n",
            "\n",
            "Epoch: 7 ---------------------------------------------------------------\n",
            "Training the model...\n"
          ]
        },
        {
          "name": "stderr",
          "output_type": "stream",
          "text": [
            "100%|██████████| 1/1 [00:05<00:00,  5.31s/it, loss=67.2]\n"
          ]
        },
        {
          "name": "stdout",
          "output_type": "stream",
          "text": [
            "Evaluating the model on dev set...\n"
          ]
        },
        {
          "name": "stderr",
          "output_type": "stream",
          "text": [
            "100%|██████████| 6/6 [00:01<00:00,  3.20it/s]\n"
          ]
        },
        {
          "name": "stdout",
          "output_type": "stream",
          "text": [
            "Joint Goal Acc: 0.16666666666666666\n",
            "Per Slot Acc: {'restaurant-category': 1.0, 'restaurant-date': 0.6666666666666666, 'restaurant-location': 0.6666666666666666, 'restaurant-meal': 1.0, 'restaurant-num_people': 0.16666666666666666, 'restaurant-price_range': 1.0, 'restaurant-rating': 1.0, 'restaurant-restaurant_name': 0.16666666666666666, 'restaurant-time': 0.5}\n",
            "Macro F1 Score: 0.45942684766214176\n",
            "All f1 score = [0.87058824 0.2        0.30769231]\n",
            "\n",
            "Epoch: 8 ---------------------------------------------------------------\n",
            "Training the model...\n"
          ]
        },
        {
          "name": "stderr",
          "output_type": "stream",
          "text": [
            "100%|██████████| 1/1 [00:06<00:00,  6.28s/it, loss=66.6]\n"
          ]
        },
        {
          "name": "stdout",
          "output_type": "stream",
          "text": [
            "Evaluating the model on dev set...\n"
          ]
        },
        {
          "name": "stderr",
          "output_type": "stream",
          "text": [
            "100%|██████████| 6/6 [00:02<00:00,  2.95it/s]\n"
          ]
        },
        {
          "name": "stdout",
          "output_type": "stream",
          "text": [
            "Joint Goal Acc: 0.16666666666666666\n",
            "Per Slot Acc: {'restaurant-category': 1.0, 'restaurant-date': 0.6666666666666666, 'restaurant-location': 1.0, 'restaurant-meal': 1.0, 'restaurant-num_people': 0.16666666666666666, 'restaurant-price_range': 1.0, 'restaurant-rating': 1.0, 'restaurant-restaurant_name': 0.16666666666666666, 'restaurant-time': 0.5}\n",
            "Macro F1 Score: 0.4974747474747474\n",
            "All f1 score = [0.90909091 0.25       0.33333333]\n",
            "\n",
            "Epoch: 9 ---------------------------------------------------------------\n",
            "Training the model...\n"
          ]
        },
        {
          "name": "stderr",
          "output_type": "stream",
          "text": [
            "100%|██████████| 1/1 [00:06<00:00,  6.04s/it, loss=63.7]\n"
          ]
        },
        {
          "name": "stdout",
          "output_type": "stream",
          "text": [
            "Evaluating the model on dev set...\n"
          ]
        },
        {
          "name": "stderr",
          "output_type": "stream",
          "text": [
            "100%|██████████| 6/6 [00:01<00:00,  3.17it/s]\n"
          ]
        },
        {
          "name": "stdout",
          "output_type": "stream",
          "text": [
            "Joint Goal Acc: 0.16666666666666666\n",
            "Per Slot Acc: {'restaurant-category': 1.0, 'restaurant-date': 0.6666666666666666, 'restaurant-location': 1.0, 'restaurant-meal': 1.0, 'restaurant-num_people': 0.16666666666666666, 'restaurant-price_range': 1.0, 'restaurant-rating': 1.0, 'restaurant-restaurant_name': 0.16666666666666666, 'restaurant-time': 0.5}\n",
            "Macro F1 Score: 0.43120567375886526\n",
            "All f1 score = [0.89361702 0.         0.4       ]\n",
            "\n",
            "Epoch: 10 ---------------------------------------------------------------\n",
            "Training the model...\n"
          ]
        },
        {
          "name": "stderr",
          "output_type": "stream",
          "text": [
            "100%|██████████| 1/1 [00:05<00:00,  5.62s/it, loss=58.9]\n"
          ]
        },
        {
          "name": "stdout",
          "output_type": "stream",
          "text": [
            "Evaluating the model on dev set...\n"
          ]
        },
        {
          "name": "stderr",
          "output_type": "stream",
          "text": [
            "100%|██████████| 6/6 [00:01<00:00,  3.12it/s]\n"
          ]
        },
        {
          "name": "stdout",
          "output_type": "stream",
          "text": [
            "Joint Goal Acc: 0.16666666666666666\n",
            "Per Slot Acc: {'restaurant-category': 1.0, 'restaurant-date': 0.6666666666666666, 'restaurant-location': 1.0, 'restaurant-meal': 1.0, 'restaurant-num_people': 0.16666666666666666, 'restaurant-price_range': 1.0, 'restaurant-rating': 1.0, 'restaurant-restaurant_name': 0.16666666666666666, 'restaurant-time': 0.5}\n",
            "Macro F1 Score: 0.43120567375886526\n",
            "All f1 score = [0.89361702 0.         0.4       ]\n",
            "\n",
            "Epoch: 11 ---------------------------------------------------------------\n",
            "Training the model...\n"
          ]
        },
        {
          "name": "stderr",
          "output_type": "stream",
          "text": [
            "100%|██████████| 1/1 [00:05<00:00,  5.65s/it, loss=57.3]\n"
          ]
        },
        {
          "name": "stdout",
          "output_type": "stream",
          "text": [
            "Evaluating the model on dev set...\n"
          ]
        },
        {
          "name": "stderr",
          "output_type": "stream",
          "text": [
            "100%|██████████| 6/6 [00:02<00:00,  2.81it/s]\n"
          ]
        },
        {
          "name": "stdout",
          "output_type": "stream",
          "text": [
            "Joint Goal Acc: 0.16666666666666666\n",
            "Per Slot Acc: {'restaurant-category': 1.0, 'restaurant-date': 0.6666666666666666, 'restaurant-location': 1.0, 'restaurant-meal': 1.0, 'restaurant-num_people': 0.16666666666666666, 'restaurant-price_range': 1.0, 'restaurant-rating': 1.0, 'restaurant-restaurant_name': 0.16666666666666666, 'restaurant-time': 0.5}\n",
            "Macro F1 Score: 0.43120567375886526\n",
            "All f1 score = [0.89361702 0.         0.4       ]\n",
            "\n",
            "Epoch: 12 ---------------------------------------------------------------\n",
            "Training the model...\n"
          ]
        },
        {
          "name": "stderr",
          "output_type": "stream",
          "text": [
            "100%|██████████| 1/1 [00:05<00:00,  5.71s/it, loss=55.4]\n"
          ]
        },
        {
          "name": "stdout",
          "output_type": "stream",
          "text": [
            "Evaluating the model on dev set...\n"
          ]
        },
        {
          "name": "stderr",
          "output_type": "stream",
          "text": [
            "100%|██████████| 6/6 [00:01<00:00,  3.24it/s]\n"
          ]
        },
        {
          "name": "stdout",
          "output_type": "stream",
          "text": [
            "Joint Goal Acc: 0.16666666666666666\n",
            "Per Slot Acc: {'restaurant-category': 1.0, 'restaurant-date': 0.6666666666666666, 'restaurant-location': 1.0, 'restaurant-meal': 1.0, 'restaurant-num_people': 0.16666666666666666, 'restaurant-price_range': 1.0, 'restaurant-rating': 1.0, 'restaurant-restaurant_name': 0.16666666666666666, 'restaurant-time': 0.5}\n",
            "Macro F1 Score: 0.43120567375886526\n",
            "All f1 score = [0.89361702 0.         0.4       ]\n",
            "\n",
            "Epoch: 13 ---------------------------------------------------------------\n",
            "Training the model...\n"
          ]
        },
        {
          "name": "stderr",
          "output_type": "stream",
          "text": [
            "100%|██████████| 1/1 [00:05<00:00,  5.47s/it, loss=54.6]\n"
          ]
        },
        {
          "name": "stdout",
          "output_type": "stream",
          "text": [
            "Evaluating the model on dev set...\n"
          ]
        },
        {
          "name": "stderr",
          "output_type": "stream",
          "text": [
            "100%|██████████| 6/6 [00:01<00:00,  3.21it/s]\n"
          ]
        },
        {
          "name": "stdout",
          "output_type": "stream",
          "text": [
            "Joint Goal Acc: 0.16666666666666666\n",
            "Per Slot Acc: {'restaurant-category': 1.0, 'restaurant-date': 0.6666666666666666, 'restaurant-location': 1.0, 'restaurant-meal': 1.0, 'restaurant-num_people': 0.16666666666666666, 'restaurant-price_range': 1.0, 'restaurant-rating': 1.0, 'restaurant-restaurant_name': 0.16666666666666666, 'restaurant-time': 0.5}\n",
            "Macro F1 Score: 0.43120567375886526\n",
            "All f1 score = [0.89361702 0.         0.4       ]\n",
            "\n",
            "Epoch: 14 ---------------------------------------------------------------\n",
            "Training the model...\n"
          ]
        },
        {
          "name": "stderr",
          "output_type": "stream",
          "text": [
            "100%|██████████| 1/1 [00:05<00:00,  5.60s/it, loss=53.5]\n"
          ]
        },
        {
          "name": "stdout",
          "output_type": "stream",
          "text": [
            "Evaluating the model on dev set...\n"
          ]
        },
        {
          "name": "stderr",
          "output_type": "stream",
          "text": [
            "100%|██████████| 6/6 [00:01<00:00,  3.27it/s]\n"
          ]
        },
        {
          "name": "stdout",
          "output_type": "stream",
          "text": [
            "Joint Goal Acc: 0.16666666666666666\n",
            "Per Slot Acc: {'restaurant-category': 1.0, 'restaurant-date': 0.6666666666666666, 'restaurant-location': 1.0, 'restaurant-meal': 1.0, 'restaurant-num_people': 0.16666666666666666, 'restaurant-price_range': 1.0, 'restaurant-rating': 1.0, 'restaurant-restaurant_name': 0.16666666666666666, 'restaurant-time': 0.5}\n",
            "Macro F1 Score: 0.43120567375886526\n",
            "All f1 score = [0.89361702 0.         0.4       ]\n",
            "Loading best model on dev set...\n",
            "Evaluating the model on test set...\n"
          ]
        },
        {
          "name": "stderr",
          "output_type": "stream",
          "text": [
            "100%|██████████| 6/6 [00:01<00:00,  3.33it/s]"
          ]
        },
        {
          "name": "stdout",
          "output_type": "stream",
          "text": [
            "Joint Goal Acc: 0.16666666666666666\n",
            "Per Slot Acc: {'restaurant-category': 1.0, 'restaurant-date': 0.6666666666666666, 'restaurant-location': 0.6666666666666666, 'restaurant-meal': 1.0, 'restaurant-num_people': 0.16666666666666666, 'restaurant-price_range': 1.0, 'restaurant-rating': 1.0, 'restaurant-restaurant_name': 0.16666666666666666, 'restaurant-time': 0.5}\n",
            "Macro F1 Score: 0.3515237420269312\n",
            "All f1 score = [0.81927711 0.         0.23529412]\n"
          ]
        },
        {
          "name": "stderr",
          "output_type": "stream",
          "text": [
            "\n"
          ]
        }
      ],
      "source": [
        "chatbot.train()"
      ]
    },
    {
      "cell_type": "markdown",
      "metadata": {},
      "source": [
        "# Save the trained chatbot."
      ]
    },
    {
      "cell_type": "code",
      "execution_count": 6,
      "metadata": {},
      "outputs": [],
      "source": [
        "save_path = 'model.pt'\n",
        "chatbot.save_model(save_path)"
      ]
    },
    {
      "cell_type": "markdown",
      "metadata": {
        "id": "soaqWfYk-7DN"
      },
      "source": [
        "# load saved model"
      ]
    },
    {
      "cell_type": "code",
      "execution_count": 7,
      "metadata": {
        "colab": {
          "base_uri": "https://localhost:8080/"
        },
        "id": "AXKYKWEHld5I",
        "outputId": "b24f8803-a754-4afa-878a-278fe92f9746"
      },
      "outputs": [
        {
          "name": "stdout",
          "output_type": "stream",
          "text": [
            "Model loaded successfully.\n",
            "Preprocessing the data...\n"
          ]
        },
        {
          "name": "stderr",
          "output_type": "stream",
          "text": [
            "100%|██████████| 6/6 [00:00<00:00, 1044.10it/s]\n"
          ]
        },
        {
          "name": "stdout",
          "output_type": "stream",
          "text": [
            "Evaluating the model on the data...\n"
          ]
        },
        {
          "name": "stderr",
          "output_type": "stream",
          "text": [
            "100%|██████████| 6/6 [00:02<00:00,  2.78it/s]"
          ]
        },
        {
          "name": "stdout",
          "output_type": "stream",
          "text": [
            "Joint Goal Acc: 0.16666666666666666\n",
            "Per Slot Acc: {'restaurant-category': 1.0, 'restaurant-date': 0.6666666666666666, 'restaurant-location': 0.6666666666666666, 'restaurant-meal': 1.0, 'restaurant-num_people': 0.16666666666666666, 'restaurant-price_range': 1.0, 'restaurant-rating': 1.0, 'restaurant-restaurant_name': 0.16666666666666666, 'restaurant-time': 0.5}\n",
            "Macro F1 Score: 0.3515237420269312\n",
            "All f1 score = [0.81927711 0.         0.23529412]\n"
          ]
        },
        {
          "name": "stderr",
          "output_type": "stream",
          "text": [
            "\n"
          ]
        }
      ],
      "source": [
        "chatbot.load_dst_model(save_path, test_path=test_path)"
      ]
    },
    {
      "cell_type": "markdown",
      "metadata": {},
      "source": [
        "# Run chatbot using GUI from botiverse\n"
      ]
    },
    {
      "cell_type": "code",
      "execution_count": 8,
      "metadata": {},
      "outputs": [
        {
          "name": "stdout",
          "output_type": "stream",
          "text": [
            " * Serving Flask app 'botiverse.gui.gui'\n",
            " * Debug mode: off\n"
          ]
        },
        {
          "name": "stderr",
          "output_type": "stream",
          "text": [
            "WARNING: This is a development server. Do not use it in a production deployment. Use a production WSGI server instead.\n",
            " * Running on http://127.0.0.1:5000\n",
            "Press CTRL+C to quit\n"
          ]
        },
        {
          "name": "stderr",
          "output_type": "stream",
          "text": [
            "127.0.0.1 - - [25/Jul/2023 00:30:17] \"GET / HTTP/1.1\" 200 -\n",
            "127.0.0.1 - - [25/Jul/2023 00:30:18] \"GET /static/style.css HTTP/1.1\" 304 -\n",
            "127.0.0.1 - - [25/Jul/2023 00:30:18] \"GET /static/logo.png HTTP/1.1\" 304 -\n",
            "127.0.0.1 - - [25/Jul/2023 00:30:18] \"GET /static/icons/Task%20bot.png HTTP/1.1\" 304 -\n",
            "127.0.0.1 - - [25/Jul/2023 00:30:21] \"POST /get HTTP/1.1\" 200 -\n"
          ]
        },
        {
          "name": "stdout",
          "output_type": "stream",
          "text": [
            "State: {}\n"
          ]
        },
        {
          "name": "stderr",
          "output_type": "stream",
          "text": [
            "127.0.0.1 - - [25/Jul/2023 00:30:26] \"POST /get HTTP/1.1\" 200 -\n"
          ]
        },
        {
          "name": "stdout",
          "output_type": "stream",
          "text": [
            "State: {}\n"
          ]
        },
        {
          "name": "stderr",
          "output_type": "stream",
          "text": [
            "127.0.0.1 - - [25/Jul/2023 00:30:47] \"POST /get HTTP/1.1\" 200 -\n"
          ]
        },
        {
          "name": "stdout",
          "output_type": "stream",
          "text": [
            "State: {}\n"
          ]
        },
        {
          "ename": "AttributeError",
          "evalue": "'chat_gui' object has no attribute 'run'",
          "output_type": "error",
          "traceback": [
            "\u001b[1;31m---------------------------------------------------------------------------\u001b[0m",
            "\u001b[1;31mAttributeError\u001b[0m                            Traceback (most recent call last)",
            "\u001b[1;32md:\\programing\\faculty of engineering\\5_fourth year in cmp\\GP\\Botiverse\\examples\\DNN_DST_example\\full_demo\\testing_using_full_example.ipynb Cell 16\u001b[0m in \u001b[0;36m2\n\u001b[0;32m      <a href='vscode-notebook-cell:/d%3A/programing/faculty%20of%20engineering/5_fourth%20year%20in%20cmp/GP/Botiverse/examples/DNN_DST_example/full_demo/testing_using_full_example.ipynb#X21sZmlsZQ%3D%3D?line=0'>1</a>\u001b[0m chat_gui \u001b[39m=\u001b[39m chat_gui(\u001b[39m'\u001b[39m\u001b[39mTask bot\u001b[39m\u001b[39m'\u001b[39m, chatbot\u001b[39m.\u001b[39minfer)\n\u001b[1;32m----> <a href='vscode-notebook-cell:/d%3A/programing/faculty%20of%20engineering/5_fourth%20year%20in%20cmp/GP/Botiverse/examples/DNN_DST_example/full_demo/testing_using_full_example.ipynb#X21sZmlsZQ%3D%3D?line=1'>2</a>\u001b[0m chat_gui\u001b[39m.\u001b[39;49mrun()\n",
            "\u001b[1;31mAttributeError\u001b[0m: 'chat_gui' object has no attribute 'run'"
          ]
        }
      ],
      "source": [
        "chat_gui('Task Bot', chatbot.infer)"
      ]
    },
    {
      "cell_type": "code",
      "execution_count": null,
      "metadata": {},
      "outputs": [],
      "source": []
    }
  ],
  "metadata": {
    "accelerator": "GPU",
    "colab": {
      "collapsed_sections": [
        "uqSL1SM8jTmN",
        "lUwJn3GGkAeJ",
        "xL8SWbdag55U",
        "OGMX4sV0hPm2",
        "OHprhkophXcd",
        "jWPsHYnQhZeC",
        "y0Gj-tIcixed",
        "s1wW97HBi_SR",
        "eZeVgmAYjA1T"
      ],
      "gpuType": "T4",
      "provenance": []
    },
    "kernelspec": {
      "display_name": "Python 3",
      "name": "python3"
    },
    "language_info": {
      "codemirror_mode": {
        "name": "ipython",
        "version": 3
      },
      "file_extension": ".py",
      "mimetype": "text/x-python",
      "name": "python",
      "nbconvert_exporter": "python",
      "pygments_lexer": "ipython3",
      "version": "3.10.6"
    }
  },
  "nbformat": 4,
  "nbformat_minor": 0
}
