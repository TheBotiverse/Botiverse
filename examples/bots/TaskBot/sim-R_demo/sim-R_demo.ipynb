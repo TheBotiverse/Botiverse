{
 "cells": [
  {
   "cell_type": "markdown",
   "metadata": {},
   "source": [
    "# Imports"
   ]
  },
  {
   "cell_type": "code",
   "execution_count": 1,
   "metadata": {},
   "outputs": [
    {
     "ename": "OSError",
     "evalue": "[WinError 127] The specified procedure could not be found",
     "output_type": "error",
     "traceback": [
      "\u001b[1;31m---------------------------------------------------------------------------\u001b[0m",
      "\u001b[1;31mOSError\u001b[0m                                   Traceback (most recent call last)",
      "\u001b[1;32md:\\programing\\faculty of engineering\\5_fourth year in cmp\\GP\\Botiverse\\examples\\bots\\TaskBot\\sim-R_demo\\sim-R_demo.ipynb Cell 2\u001b[0m in \u001b[0;36m2\n\u001b[0;32m      <a href='vscode-notebook-cell:/d%3A/programing/faculty%20of%20engineering/5_fourth%20year%20in%20cmp/GP/Botiverse/examples/bots/TaskBot/sim-R_demo/sim-R_demo.ipynb#W1sZmlsZQ%3D%3D?line=0'>1</a>\u001b[0m \u001b[39mfrom\u001b[39;00m \u001b[39mbotiverse\u001b[39;00m \u001b[39mimport\u001b[39;00m chat_gui\n\u001b[1;32m----> <a href='vscode-notebook-cell:/d%3A/programing/faculty%20of%20engineering/5_fourth%20year%20in%20cmp/GP/Botiverse/examples/bots/TaskBot/sim-R_demo/sim-R_demo.ipynb#W1sZmlsZQ%3D%3D?line=1'>2</a>\u001b[0m \u001b[39mfrom\u001b[39;00m \u001b[39mbotiverse\u001b[39;00m\u001b[39m.\u001b[39;00m\u001b[39mbots\u001b[39;00m \u001b[39mimport\u001b[39;00m TaskBot\n",
      "File \u001b[1;32md:\\programing\\faculty of engineering\\5_fourth year in cmp\\gp\\botiverse\\botiverse\\bots\\__init__.py:1\u001b[0m\n\u001b[1;32m----> 1\u001b[0m \u001b[39mfrom\u001b[39;00m \u001b[39mbotiverse\u001b[39;00m\u001b[39m.\u001b[39;00m\u001b[39mbots\u001b[39;00m\u001b[39m.\u001b[39;00m\u001b[39mBasicBot\u001b[39;00m\u001b[39m.\u001b[39;00m\u001b[39mBasicBot\u001b[39;00m \u001b[39mimport\u001b[39;00m BasicBot\n\u001b[0;32m      2\u001b[0m \u001b[39mfrom\u001b[39;00m \u001b[39mbotiverse\u001b[39;00m\u001b[39m.\u001b[39;00m\u001b[39mbots\u001b[39;00m\u001b[39m.\u001b[39;00m\u001b[39mWhizBot\u001b[39;00m\u001b[39m.\u001b[39;00m\u001b[39mWhizBot\u001b[39;00m \u001b[39mimport\u001b[39;00m WhizBot\n\u001b[0;32m      3\u001b[0m \u001b[39mfrom\u001b[39;00m \u001b[39mbotiverse\u001b[39;00m\u001b[39m.\u001b[39;00m\u001b[39mbots\u001b[39;00m\u001b[39m.\u001b[39;00m\u001b[39mBasicTaskBot\u001b[39;00m\u001b[39m.\u001b[39;00m\u001b[39mBasicTaskBot\u001b[39;00m \u001b[39mimport\u001b[39;00m BasicTaskBot\n",
      "File \u001b[1;32md:\\programing\\faculty of engineering\\5_fourth year in cmp\\gp\\botiverse\\botiverse\\bots\\BasicBot\\BasicBot.py:6\u001b[0m\n\u001b[0;32m      4\u001b[0m \u001b[39mimport\u001b[39;00m \u001b[39mnumpy\u001b[39;00m \u001b[39mas\u001b[39;00m \u001b[39mnp\u001b[39;00m\n\u001b[0;32m      5\u001b[0m \u001b[39mfrom\u001b[39;00m \u001b[39mbotiverse\u001b[39;00m\u001b[39m.\u001b[39;00m\u001b[39mmodels\u001b[39;00m \u001b[39mimport\u001b[39;00m SVM, NeuralNet\n\u001b[1;32m----> 6\u001b[0m \u001b[39mfrom\u001b[39;00m \u001b[39mbotiverse\u001b[39;00m\u001b[39m.\u001b[39;00m\u001b[39mpreprocessors\u001b[39;00m \u001b[39mimport\u001b[39;00m GloVe, TF_IDF, TF_IDF_GLOVE, BoW\n\u001b[0;32m      7\u001b[0m \u001b[39mfrom\u001b[39;00m \u001b[39mnltk\u001b[39;00m\u001b[39m.\u001b[39;00m\u001b[39mstem\u001b[39;00m\u001b[39m.\u001b[39;00m\u001b[39mporter\u001b[39;00m \u001b[39mimport\u001b[39;00m PorterStemmer\n\u001b[0;32m      8\u001b[0m stemmer \u001b[39m=\u001b[39m PorterStemmer()\n",
      "File \u001b[1;32md:\\programing\\faculty of engineering\\5_fourth year in cmp\\gp\\botiverse\\botiverse\\preprocessors\\__init__.py:2\u001b[0m\n\u001b[0;32m      1\u001b[0m \u001b[39mfrom\u001b[39;00m \u001b[39mbotiverse\u001b[39;00m\u001b[39m.\u001b[39;00m\u001b[39mpreprocessors\u001b[39;00m\u001b[39m.\u001b[39;00m\u001b[39mVocalize\u001b[39;00m\u001b[39m.\u001b[39;00m\u001b[39mVocalize\u001b[39;00m \u001b[39mimport\u001b[39;00m Vocalize\n\u001b[1;32m----> 2\u001b[0m \u001b[39mfrom\u001b[39;00m \u001b[39mbotiverse\u001b[39;00m\u001b[39m.\u001b[39;00m\u001b[39mpreprocessors\u001b[39;00m\u001b[39m.\u001b[39;00m\u001b[39mWav2Vec\u001b[39;00m\u001b[39m.\u001b[39;00m\u001b[39mWav2Vec\u001b[39;00m \u001b[39mimport\u001b[39;00m Wav2Vec\n\u001b[0;32m      3\u001b[0m \u001b[39mfrom\u001b[39;00m \u001b[39mbotiverse\u001b[39;00m\u001b[39m.\u001b[39;00m\u001b[39mpreprocessors\u001b[39;00m\u001b[39m.\u001b[39;00m\u001b[39mWav2Vec\u001b[39;00m\u001b[39m.\u001b[39;00m\u001b[39mWav2Vec\u001b[39;00m \u001b[39mimport\u001b[39;00m Wav2Text\n\u001b[0;32m      4\u001b[0m \u001b[39mfrom\u001b[39;00m \u001b[39mbotiverse\u001b[39;00m\u001b[39m.\u001b[39;00m\u001b[39mpreprocessors\u001b[39;00m\u001b[39m.\u001b[39;00m\u001b[39mBertEmbeddings\u001b[39;00m\u001b[39m.\u001b[39;00m\u001b[39mBertEmbeddings\u001b[39;00m \u001b[39mimport\u001b[39;00m BertEmbedder, BertSentenceEmbedder\n",
      "File \u001b[1;32md:\\programing\\faculty of engineering\\5_fourth year in cmp\\gp\\botiverse\\botiverse\\preprocessors\\Wav2Vec\\Wav2Vec.py:5\u001b[0m\n\u001b[0;32m      3\u001b[0m \u001b[39mimport\u001b[39;00m \u001b[39mos\u001b[39;00m\n\u001b[0;32m      4\u001b[0m \u001b[39mimport\u001b[39;00m \u001b[39mtorch\u001b[39;00m\n\u001b[1;32m----> 5\u001b[0m \u001b[39mimport\u001b[39;00m \u001b[39mtorchaudio\u001b[39;00m\n\u001b[0;32m      6\u001b[0m \u001b[39mfrom\u001b[39;00m \u001b[39mtqdm\u001b[39;00m \u001b[39mimport\u001b[39;00m tqdm\n\u001b[0;32m      7\u001b[0m \u001b[39mimport\u001b[39;00m \u001b[39mnumpy\u001b[39;00m \u001b[39mas\u001b[39;00m \u001b[39mnp\u001b[39;00m\n",
      "File \u001b[1;32m~\\AppData\\Roaming\\Python\\Python310\\site-packages\\torchaudio\\__init__.py:1\u001b[0m\n\u001b[1;32m----> 1\u001b[0m \u001b[39mfrom\u001b[39;00m \u001b[39mtorchaudio\u001b[39;00m \u001b[39mimport\u001b[39;00m (  \u001b[39m# noqa: F401\u001b[39;00m\n\u001b[0;32m      2\u001b[0m     _extension,\n\u001b[0;32m      3\u001b[0m     compliance,\n\u001b[0;32m      4\u001b[0m     datasets,\n\u001b[0;32m      5\u001b[0m     functional,\n\u001b[0;32m      6\u001b[0m     io,\n\u001b[0;32m      7\u001b[0m     kaldi_io,\n\u001b[0;32m      8\u001b[0m     models,\n\u001b[0;32m      9\u001b[0m     pipelines,\n\u001b[0;32m     10\u001b[0m     sox_effects,\n\u001b[0;32m     11\u001b[0m     transforms,\n\u001b[0;32m     12\u001b[0m     utils,\n\u001b[0;32m     13\u001b[0m )\n\u001b[0;32m     15\u001b[0m \u001b[39mfrom\u001b[39;00m \u001b[39mtorchaudio\u001b[39;00m\u001b[39m.\u001b[39;00m\u001b[39mbackend\u001b[39;00m \u001b[39mimport\u001b[39;00m get_audio_backend, list_audio_backends, set_audio_backend\n\u001b[0;32m     17\u001b[0m \u001b[39mtry\u001b[39;00m:\n",
      "File \u001b[1;32m~\\AppData\\Roaming\\Python\\Python310\\site-packages\\torchaudio\\_extension\\__init__.py:43\u001b[0m\n\u001b[0;32m     41\u001b[0m _IS_KALDI_AVAILABLE \u001b[39m=\u001b[39m \u001b[39mFalse\u001b[39;00m\n\u001b[0;32m     42\u001b[0m \u001b[39mif\u001b[39;00m _IS_TORCHAUDIO_EXT_AVAILABLE:\n\u001b[1;32m---> 43\u001b[0m     _load_lib(\u001b[39m\"\u001b[39;49m\u001b[39mlibtorchaudio\u001b[39;49m\u001b[39m\"\u001b[39;49m)\n\u001b[0;32m     45\u001b[0m     \u001b[39mimport\u001b[39;00m \u001b[39mtorchaudio\u001b[39;00m\u001b[39m.\u001b[39;00m\u001b[39mlib\u001b[39;00m\u001b[39m.\u001b[39;00m\u001b[39m_torchaudio\u001b[39;00m  \u001b[39m# noqa\u001b[39;00m\n\u001b[0;32m     47\u001b[0m     _check_cuda_version()\n",
      "File \u001b[1;32m~\\AppData\\Roaming\\Python\\Python310\\site-packages\\torchaudio\\_extension\\utils.py:61\u001b[0m, in \u001b[0;36m_load_lib\u001b[1;34m(lib)\u001b[0m\n\u001b[0;32m     59\u001b[0m \u001b[39mif\u001b[39;00m \u001b[39mnot\u001b[39;00m path\u001b[39m.\u001b[39mexists():\n\u001b[0;32m     60\u001b[0m     \u001b[39mreturn\u001b[39;00m \u001b[39mFalse\u001b[39;00m\n\u001b[1;32m---> 61\u001b[0m torch\u001b[39m.\u001b[39;49mops\u001b[39m.\u001b[39;49mload_library(path)\n\u001b[0;32m     62\u001b[0m torch\u001b[39m.\u001b[39mclasses\u001b[39m.\u001b[39mload_library(path)\n\u001b[0;32m     63\u001b[0m \u001b[39mreturn\u001b[39;00m \u001b[39mTrue\u001b[39;00m\n",
      "File \u001b[1;32md:\\programing\\programs\\anaconda\\envs\\pytorch\\lib\\site-packages\\torch\\_ops.py:255\u001b[0m, in \u001b[0;36m_Ops.load_library\u001b[1;34m(self, path)\u001b[0m\n\u001b[0;32m    250\u001b[0m path \u001b[39m=\u001b[39m torch\u001b[39m.\u001b[39m_utils_internal\u001b[39m.\u001b[39mresolve_library_path(path)\n\u001b[0;32m    251\u001b[0m \u001b[39mwith\u001b[39;00m dl_open_guard():\n\u001b[0;32m    252\u001b[0m     \u001b[39m# Import the shared library into the process, thus running its\u001b[39;00m\n\u001b[0;32m    253\u001b[0m     \u001b[39m# static (global) initialization code in order to register custom\u001b[39;00m\n\u001b[0;32m    254\u001b[0m     \u001b[39m# operators with the JIT.\u001b[39;00m\n\u001b[1;32m--> 255\u001b[0m     ctypes\u001b[39m.\u001b[39;49mCDLL(path)\n\u001b[0;32m    256\u001b[0m \u001b[39mself\u001b[39m\u001b[39m.\u001b[39mloaded_libraries\u001b[39m.\u001b[39madd(path)\n",
      "File \u001b[1;32md:\\programing\\programs\\anaconda\\envs\\pytorch\\lib\\ctypes\\__init__.py:374\u001b[0m, in \u001b[0;36mCDLL.__init__\u001b[1;34m(self, name, mode, handle, use_errno, use_last_error, winmode)\u001b[0m\n\u001b[0;32m    371\u001b[0m \u001b[39mself\u001b[39m\u001b[39m.\u001b[39m_FuncPtr \u001b[39m=\u001b[39m _FuncPtr\n\u001b[0;32m    373\u001b[0m \u001b[39mif\u001b[39;00m handle \u001b[39mis\u001b[39;00m \u001b[39mNone\u001b[39;00m:\n\u001b[1;32m--> 374\u001b[0m     \u001b[39mself\u001b[39m\u001b[39m.\u001b[39m_handle \u001b[39m=\u001b[39m _dlopen(\u001b[39mself\u001b[39;49m\u001b[39m.\u001b[39;49m_name, mode)\n\u001b[0;32m    375\u001b[0m \u001b[39melse\u001b[39;00m:\n\u001b[0;32m    376\u001b[0m     \u001b[39mself\u001b[39m\u001b[39m.\u001b[39m_handle \u001b[39m=\u001b[39m handle\n",
      "\u001b[1;31mOSError\u001b[0m: [WinError 127] The specified procedure could not be found"
     ]
    }
   ],
   "source": [
    "from botiverse import chat_gui\n",
    "from botiverse.bots import TaskBot"
   ]
  },
  {
   "attachments": {},
   "cell_type": "markdown",
   "metadata": {},
   "source": [
    "# Constants"
   ]
  },
  {
   "cell_type": "code",
   "execution_count": null,
   "metadata": {},
   "outputs": [],
   "source": [
    "# The domains e.g. restaurant, hotel, etc.\n",
    "domains = [\"restaurant\"]\n",
    "\n",
    "# The names of the slots where each slot is prefixed with the domain name e.g. restaurant-name, hotel-name, etc.\n",
    "slot_list = [\n",
    "    \"restaurant-category\",\n",
    "    \"restaurant-rating\",\n",
    "    \"restaurant-num_people\",\n",
    "    \"restaurant-location\",\n",
    "    \"restaurant-restaurant_name\",\n",
    "    \"restaurant-time\",\n",
    "    \"restaurant-date\",\n",
    "    \"restaurant-price_range\",\n",
    "    \"restaurant-meal\"\n",
    "]\n",
    "\n",
    "# The utterances for the system to start the conversation\n",
    "start = [\n",
    "    {\n",
    "        'utterance': 'Hi I am Tody, I can help you reserve a restaurant?',\n",
    "        'slots': [],\n",
    "        'system_act': {}\n",
    "    }\n",
    "]\n",
    "\n",
    "# The templates for generating responses\n",
    "templates = [\n",
    "    {\n",
    "        'utterance': 'what type of food do you want and in what area?',\n",
    "        'slots': ['restaurant-location', 'restaurant-category'],\n",
    "        'system_act': {}\n",
    "    },\n",
    "    {\n",
    "        'utterance': 'what is your preferred price range and rating?',\n",
    "        'slots': ['restaurant-price_range', 'restaurant-rating'],\n",
    "        'system_act': {}\n",
    "    },\n",
    "    {\n",
    "        'utterance': 'how many people will be in your party?',\n",
    "        'slots': ['restaurant-num_people'],\n",
    "        'system_act': {}\n",
    "    },\n",
    "    {\n",
    "        'utterance': 'what time and date would you like to reserve a table for?',\n",
    "        'slots': ['restaurant-time', 'restaurant-date'],\n",
    "        'system_act': {}\n",
    "    },\n",
    "    {\n",
    "        'utterance': 'May I suggest kfc restaurant?',\n",
    "        'slots': ['restaurant-restaurant_name'],\n",
    "        'system_act': {'restaurant-restaurant_name': ['kfc']}\n",
    "    },\n",
    "    {\n",
    "        'utterance': 'ok done, here is your reservation number: 123456',\n",
    "        'slots': [],\n",
    "        'system_act': {}\n",
    "    }\n",
    "]"
   ]
  },
  {
   "attachments": {},
   "cell_type": "markdown",
   "metadata": {},
   "source": [
    "# Create chatbot"
   ]
  },
  {
   "cell_type": "code",
   "execution_count": null,
   "metadata": {},
   "outputs": [
    {
     "name": "stderr",
     "output_type": "stream",
     "text": [
      "Some weights of the model checkpoint at bert-base-uncased were not used when initializing BertModel: ['cls.predictions.transform.LayerNorm.bias', 'cls.predictions.bias', 'cls.seq_relationship.weight', 'cls.predictions.decoder.weight', 'cls.predictions.transform.dense.weight', 'cls.predictions.transform.LayerNorm.weight', 'cls.predictions.transform.dense.bias', 'cls.seq_relationship.bias']\n",
      "- This IS expected if you are initializing BertModel from the checkpoint of a model trained on another task or with another architecture (e.g. initializing a BertForSequenceClassification model from a BertForPreTraining model).\n",
      "- This IS NOT expected if you are initializing BertModel from the checkpoint of a model that you expect to be exactly identical (initializing a BertForSequenceClassification model from a BertForSequenceClassification model).\n"
     ]
    }
   ],
   "source": [
    "chatbot = TaskBot(domains, slot_list, start, templates, verbose=True)"
   ]
  },
  {
   "cell_type": "markdown",
   "metadata": {},
   "source": [
    "# Load pre-trained model on sim-R dataset from botiverse"
   ]
  },
  {
   "cell_type": "code",
   "execution_count": null,
   "metadata": {},
   "outputs": [
    {
     "name": "stdout",
     "output_type": "stream",
     "text": [
      "Model already exists. Skipping download.\n",
      "Model loaded successfully.\n"
     ]
    }
   ],
   "source": [
    "chatbot.load_dst_model(pretrained='sim-R')"
   ]
  },
  {
   "attachments": {},
   "cell_type": "markdown",
   "metadata": {},
   "source": [
    "# Run chatbot using GUI from botiverse\n"
   ]
  },
  {
   "cell_type": "code",
   "execution_count": null,
   "metadata": {},
   "outputs": [
    {
     "name": "stdout",
     "output_type": "stream",
     "text": [
      " * Serving Flask app 'botiverse.gui.gui'\n",
      " * Debug mode: off\n"
     ]
    },
    {
     "name": "stderr",
     "output_type": "stream",
     "text": [
      "WARNING: This is a development server. Do not use it in a production deployment. Use a production WSGI server instead.\n",
      " * Running on http://127.0.0.1:5000\n",
      "Press CTRL+C to quit\n"
     ]
    },
    {
     "name": "stderr",
     "output_type": "stream",
     "text": [
      "127.0.0.1 - - [25/Jul/2023 00:26:03] \"GET / HTTP/1.1\" 200 -\n",
      "127.0.0.1 - - [25/Jul/2023 00:26:03] \"GET /static/style.css HTTP/1.1\" 304 -\n",
      "127.0.0.1 - - [25/Jul/2023 00:26:03] \"GET /static/logo.png HTTP/1.1\" 304 -\n",
      "127.0.0.1 - - [25/Jul/2023 00:26:03] \"GET /static/icons/Task%20bot.png HTTP/1.1\" 304 -\n",
      "127.0.0.1 - - [25/Jul/2023 00:26:06] \"POST /get HTTP/1.1\" 200 -\n"
     ]
    },
    {
     "name": "stdout",
     "output_type": "stream",
     "text": [
      "hiiiiiiiiiiiiiiiiiiii\n",
      "State: {}\n",
      "hiiiiiiiiiiiiiiiiiiii\n"
     ]
    },
    {
     "name": "stderr",
     "output_type": "stream",
     "text": [
      "127.0.0.1 - - [25/Jul/2023 00:26:29] \"POST /get HTTP/1.1\" 200 -\n"
     ]
    },
    {
     "name": "stdout",
     "output_type": "stream",
     "text": [
      "State: {'restaurant-meal': 'lunch'}\n"
     ]
    },
    {
     "ename": "AttributeError",
     "evalue": "'chat_gui' object has no attribute 'run'",
     "output_type": "error",
     "traceback": [
      "\u001b[1;31m---------------------------------------------------------------------------\u001b[0m",
      "\u001b[1;31mAttributeError\u001b[0m                            Traceback (most recent call last)",
      "\u001b[1;32md:\\programing\\faculty of engineering\\5_fourth year in cmp\\GP\\Botiverse\\examples\\DNN_DST_example\\sim-R_demo\\sim-R_demo.ipynb Cell 10\u001b[0m in \u001b[0;36m2\n\u001b[0;32m      <a href='vscode-notebook-cell:/d%3A/programing/faculty%20of%20engineering/5_fourth%20year%20in%20cmp/GP/Botiverse/examples/DNN_DST_example/sim-R_demo/sim-R_demo.ipynb#X12sZmlsZQ%3D%3D?line=0'>1</a>\u001b[0m chat_gui \u001b[39m=\u001b[39m chat_gui(\u001b[39m'\u001b[39m\u001b[39mTask bot\u001b[39m\u001b[39m'\u001b[39m, chatbot\u001b[39m.\u001b[39minfer)\n\u001b[1;32m----> <a href='vscode-notebook-cell:/d%3A/programing/faculty%20of%20engineering/5_fourth%20year%20in%20cmp/GP/Botiverse/examples/DNN_DST_example/sim-R_demo/sim-R_demo.ipynb#X12sZmlsZQ%3D%3D?line=1'>2</a>\u001b[0m chat_gui\u001b[39m.\u001b[39;49mrun()\n",
      "\u001b[1;31mAttributeError\u001b[0m: 'chat_gui' object has no attribute 'run'"
     ]
    }
   ],
   "source": [
    "chat_gui('Task bot', chatbot.infer)"
   ]
  },
  {
   "cell_type": "code",
   "execution_count": null,
   "metadata": {},
   "outputs": [
    {
     "name": "stdout",
     "output_type": "stream",
     "text": [
      "{}\n"
     ]
    }
   ],
   "source": [
    "print(chatbot.get_dialogue_state())"
   ]
  },
  {
   "cell_type": "code",
   "execution_count": null,
   "metadata": {},
   "outputs": [],
   "source": []
  }
 ],
 "metadata": {
  "kernelspec": {
   "display_name": "pytorch",
   "language": "python",
   "name": "python3"
  },
  "language_info": {
   "codemirror_mode": {
    "name": "ipython",
    "version": 3
   },
   "file_extension": ".py",
   "mimetype": "text/x-python",
   "name": "python",
   "nbconvert_exporter": "python",
   "pygments_lexer": "ipython3",
   "version": "3.10.6"
  },
  "orig_nbformat": 4
 },
 "nbformat": 4,
 "nbformat_minor": 2
}
