{
 "cells": [
  {
   "cell_type": "markdown",
   "metadata": {},
   "source": [
    "# Task Bot Demo"
   ]
  },
  {
   "cell_type": "code",
   "execution_count": 1,
   "metadata": {},
   "outputs": [],
   "source": [
    "from botiverse import chat_gui\n",
    "from botiverse.bots import TaskBot"
   ]
  },
  {
   "cell_type": "markdown",
   "metadata": {},
   "source": [
    "```json\n",
    "{\n",
    "    {\n",
    "    \"text\": \"yes tonight at 7.30 pm for 2 people at the cheese cake factory\",\n",
    "    \"tokens\": [ \"yes\", \"tonight\", \"at\",... ]\n",
    "    },\n",
    "    {\n",
    "    \"dialogue_state\": [\n",
    "        {\n",
    "        \"slot\": \"num_people\",\n",
    "        \"value\": \"2\"\n",
    "        },\n",
    "        {\n",
    "        \"slot\": \"date\",\n",
    "        \"value\": \"tonight\"\n",
    "        },\n",
    "        {\n",
    "        \"slot\": \"restaurant_name\",\n",
    "        \"value\": \"cheese cake factory\"\n",
    "        },\n",
    "        {\n",
    "        \"slot\": \"time\",\n",
    "        \"value\": \"7.30 pm\"\n",
    "        }\n",
    "    ],\n",
    "    }\n",
    "    \"system_acts\": ...,\n",
    "    \"system_utterance\": ...,\n",
    "}\n",
    "    ```  "
   ]
  },
  {
   "attachments": {},
   "cell_type": "markdown",
   "metadata": {},
   "source": [
    "### Setup State Info"
   ]
  },
  {
   "cell_type": "markdown",
   "metadata": {},
   "source": [
    "#### 1. Set the Domain (i.e., task) and its Slots"
   ]
  },
  {
   "cell_type": "code",
   "execution_count": 2,
   "metadata": {},
   "outputs": [],
   "source": [
    "# The domains e.g. restaurant, hotel, etc.\n",
    "domains = [\"restaurant\"]\n",
    "\n",
    "# The names of the slots where each slot is prefixed with the domain name e.g. restaurant-name, hotel-name, etc.\n",
    "slot_list = [\n",
    "    \"restaurant-category\",\n",
    "    \"restaurant-rating\",\n",
    "    \"restaurant-num_people\",\n",
    "    \"restaurant-location\",\n",
    "    \"restaurant-restaurant_name\",\n",
    "    \"restaurant-time\",\n",
    "    \"restaurant-date\",\n",
    "    \"restaurant-price_range\",\n",
    "    \"restaurant-meal\"\n",
    "]"
   ]
  },
  {
   "cell_type": "markdown",
   "metadata": {},
   "source": [
    "#### 2. Set Initial Utterance and Chatbot Utterances per Slot"
   ]
  },
  {
   "cell_type": "code",
   "execution_count": 3,
   "metadata": {},
   "outputs": [],
   "source": [
    "# The utterances for the system to start the conversation\n",
    "start = [\n",
    "    {\n",
    "        'utterance': 'Hi I am Tody, I can help you reserve a restaurant?',\n",
    "        'slots': [],\n",
    "        'system_act': {}\n",
    "    }\n",
    "]\n",
    "\n",
    "# The templates for generating responses\n",
    "templates = [\n",
    "    {\n",
    "        'utterance': 'what type of food do you want and in what area?',\n",
    "        'slots': ['restaurant-location', 'restaurant-category'],\n",
    "        'system_act': {}\n",
    "    },\n",
    "    {\n",
    "        'utterance': 'what is your preferred price range and rating?',\n",
    "        'slots': ['restaurant-price_range', 'restaurant-rating'],\n",
    "        'system_act': {}\n",
    "    },\n",
    "    {\n",
    "        'utterance': 'how many people will be in your party?',\n",
    "        'slots': ['restaurant-num_people'],\n",
    "        'system_act': {}\n",
    "    },\n",
    "    {\n",
    "        'utterance': 'what time and date would you like to reserve a table for?',\n",
    "        'slots': ['restaurant-time', 'restaurant-date'],\n",
    "        'system_act': {}\n",
    "    },\n",
    "    {\n",
    "        'utterance': 'May I suggest kfc restaurant?',\n",
    "        'slots': ['restaurant-restaurant_name'],\n",
    "        'system_act': {'restaurant-restaurant_name': ['kfc']}\n",
    "    },\n",
    "    {\n",
    "        'utterance': 'ok done, here is your reservation number: 123456, your booking information is:',\n",
    "        'slots': [],\n",
    "        'system_act': {}\n",
    "    }\n",
    "]"
   ]
  },
  {
   "attachments": {},
   "cell_type": "markdown",
   "metadata": {},
   "source": [
    "### Initiate Chatbot"
   ]
  },
  {
   "cell_type": "code",
   "execution_count": 4,
   "metadata": {},
   "outputs": [
    {
     "name": "stderr",
     "output_type": "stream",
     "text": [
      "Some weights of the model checkpoint at bert-base-uncased were not used when initializing BertModel: ['cls.predictions.decoder.weight', 'cls.predictions.transform.LayerNorm.weight', 'cls.predictions.bias', 'cls.predictions.transform.dense.bias', 'cls.predictions.transform.dense.weight', 'cls.seq_relationship.weight', 'cls.predictions.transform.LayerNorm.bias', 'cls.seq_relationship.bias']\n",
      "- This IS expected if you are initializing BertModel from the checkpoint of a model trained on another task or with another architecture (e.g. initializing a BertForSequenceClassification model from a BertForPreTraining model).\n",
      "- This IS NOT expected if you are initializing BertModel from the checkpoint of a model that you expect to be exactly identical (initializing a BertForSequenceClassification model from a BertForSequenceClassification model).\n"
     ]
    }
   ],
   "source": [
    "chatbot = TaskBot(domains, slot_list, start, templates, verbose=True, append_state=True)"
   ]
  },
  {
   "cell_type": "markdown",
   "metadata": {},
   "source": [
    "### Load Pre-trained Model"
   ]
  },
  {
   "cell_type": "code",
   "execution_count": 5,
   "metadata": {},
   "outputs": [
    {
     "name": "stdout",
     "output_type": "stream",
     "text": [
      "Model already exists. Skipping download.\n",
      "Model loaded successfully.\n"
     ]
    }
   ],
   "source": [
    "chatbot.load_dst_model(pretrained='sim-R')"
   ]
  },
  {
   "attachments": {},
   "cell_type": "markdown",
   "metadata": {},
   "source": [
    "### Deploy the Chatbot\n"
   ]
  },
  {
   "cell_type": "code",
   "execution_count": 6,
   "metadata": {},
   "outputs": [
    {
     "name": "stdout",
     "output_type": "stream",
     "text": [
      " * Serving Flask app 'botiverse.gui.gui'\n",
      " * Debug mode: off\n"
     ]
    },
    {
     "name": "stderr",
     "output_type": "stream",
     "text": [
      "WARNING: This is a development server. Do not use it in a production deployment. Use a production WSGI server instead.\n",
      " * Running on http://127.0.0.1:5000\n",
      "Press CTRL+C to quit\n",
      "127.0.0.1 - - [27/Jul/2023 17:59:31] \"GET / HTTP/1.1\" 200 -\n",
      "127.0.0.1 - - [27/Jul/2023 17:59:31] \"GET /static/style.css HTTP/1.1\" 304 -\n",
      "127.0.0.1 - - [27/Jul/2023 17:59:31] \"GET /static/logo.png HTTP/1.1\" 304 -\n",
      "127.0.0.1 - - [27/Jul/2023 17:59:31] \"GET /static/icons/Task%20bot.png HTTP/1.1\" 304 -\n",
      "127.0.0.1 - - [27/Jul/2023 17:59:36] \"POST /get HTTP/1.1\" 200 -\n"
     ]
    },
    {
     "name": "stdout",
     "output_type": "stream",
     "text": [
      "State: {}\n"
     ]
    },
    {
     "name": "stderr",
     "output_type": "stream",
     "text": [
      "127.0.0.1 - - [27/Jul/2023 17:59:37] \"POST /get HTTP/1.1\" 200 -\n"
     ]
    },
    {
     "name": "stdout",
     "output_type": "stream",
     "text": [
      "State: {'restaurant-meal': 'lunch'}\n"
     ]
    },
    {
     "name": "stderr",
     "output_type": "stream",
     "text": [
      "127.0.0.1 - - [27/Jul/2023 17:59:46] \"POST /get HTTP/1.1\" 200 -\n"
     ]
    },
    {
     "name": "stdout",
     "output_type": "stream",
     "text": [
      "State: {'restaurant-meal': 'lunch', 'restaurant-category': 'egypt', 'restaurant-location': 'cairo'}\n"
     ]
    },
    {
     "name": "stderr",
     "output_type": "stream",
     "text": [
      "127.0.0.1 - - [27/Jul/2023 17:59:53] \"POST /get HTTP/1.1\" 200 -\n"
     ]
    },
    {
     "name": "stdout",
     "output_type": "stream",
     "text": [
      "State: {'restaurant-meal': 'lunch', 'restaurant-category': 'egypt', 'restaurant-location': 'cairo', 'restaurant-price_range': 'cheap', 'restaurant-rating': 'good'}\n"
     ]
    },
    {
     "name": "stderr",
     "output_type": "stream",
     "text": [
      "127.0.0.1 - - [27/Jul/2023 17:59:56] \"POST /get HTTP/1.1\" 200 -\n"
     ]
    },
    {
     "name": "stdout",
     "output_type": "stream",
     "text": [
      "State: {'restaurant-meal': 'lunch', 'restaurant-category': 'egypt', 'restaurant-location': 'cairo', 'restaurant-price_range': 'cheap', 'restaurant-rating': 'good', 'restaurant-num_people': '12'}\n"
     ]
    },
    {
     "name": "stderr",
     "output_type": "stream",
     "text": [
      "127.0.0.1 - - [27/Jul/2023 18:00:10] \"POST /get HTTP/1.1\" 200 -\n"
     ]
    },
    {
     "name": "stdout",
     "output_type": "stream",
     "text": [
      "State: {'restaurant-meal': 'lunch', 'restaurant-category': 'egypt', 'restaurant-location': 'cairo', 'restaurant-price_range': 'cheap', 'restaurant-rating': 'good', 'restaurant-num_people': '12', 'restaurant-date': 'tuesday', 'restaurant-time': '4pm'}\n"
     ]
    },
    {
     "name": "stderr",
     "output_type": "stream",
     "text": [
      "127.0.0.1 - - [27/Jul/2023 18:00:12] \"POST /get HTTP/1.1\" 200 -\n"
     ]
    },
    {
     "name": "stdout",
     "output_type": "stream",
     "text": [
      "State: {'restaurant-meal': 'lunch', 'restaurant-category': 'egypt', 'restaurant-location': 'cairo', 'restaurant-price_range': 'cheap', 'restaurant-rating': 'good', 'restaurant-num_people': '12', 'restaurant-date': 'tuesday', 'restaurant-time': '4pm'}\n"
     ]
    },
    {
     "name": "stderr",
     "output_type": "stream",
     "text": [
      "127.0.0.1 - - [27/Jul/2023 18:00:14] \"POST /get HTTP/1.1\" 200 -\n"
     ]
    },
    {
     "name": "stdout",
     "output_type": "stream",
     "text": [
      "State: {'restaurant-meal': 'lunch', 'restaurant-category': 'egypt', 'restaurant-location': 'cairo', 'restaurant-price_range': 'cheap', 'restaurant-rating': 'good', 'restaurant-num_people': '12', 'restaurant-date': 'tuesday', 'restaurant-time': '4pm', 'restaurant-restaurant_name': 'kfc'}\n"
     ]
    }
   ],
   "source": [
    "chat_gui('Task bot', chatbot.infer)"
   ]
  },
  {
   "cell_type": "markdown",
   "metadata": {},
   "source": [
    "#### Get Final State"
   ]
  },
  {
   "cell_type": "code",
   "execution_count": null,
   "metadata": {},
   "outputs": [
    {
     "name": "stdout",
     "output_type": "stream",
     "text": [
      "{}\n"
     ]
    }
   ],
   "source": [
    "print(chatbot.get_dialogue_state())"
   ]
  }
 ],
 "metadata": {
  "kernelspec": {
   "display_name": "pytorch",
   "language": "python",
   "name": "python3"
  },
  "language_info": {
   "codemirror_mode": {
    "name": "ipython",
    "version": 3
   },
   "file_extension": ".py",
   "mimetype": "text/x-python",
   "name": "python",
   "nbconvert_exporter": "python",
   "pygments_lexer": "ipython3",
   "version": "3.10.6"
  },
  "orig_nbformat": 4
 },
 "nbformat": 4,
 "nbformat_minor": 2
}
