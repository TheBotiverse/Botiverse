{
 "cells": [
  {
   "cell_type": "markdown",
   "metadata": {},
   "source": [
    "# Imports"
   ]
  },
  {
   "cell_type": "code",
   "execution_count": 172,
   "metadata": {},
   "outputs": [],
   "source": [
    "from botiverse import chat_gui\n",
    "from botiverse.bots import DeepTODS\n",
    "from botiverse.models import BERTConfig, TRIPPYConfig\n",
    "import gdown\n",
    "import os"
   ]
  },
  {
   "attachments": {},
   "cell_type": "markdown",
   "metadata": {},
   "source": [
    "# Download necessary files to run the example"
   ]
  },
  {
   "cell_type": "code",
   "execution_count": 173,
   "metadata": {},
   "outputs": [
    {
     "name": "stdout",
     "output_type": "stream",
     "text": [
      "Ontology already exists. Skipping download.\n"
     ]
    }
   ],
   "source": [
    "# Download ontology\n",
    "f_id = '1rPmf2RFT5BiFOrc96zqAjZiBUyZEjxbu'\n",
    "file_url = f'https://drive.google.com/uc?export=download&confirm=pbef&id={f_id}'\n",
    "output_file = 'ontology.json'\n",
    "if not os.path.exists(output_file):\n",
    "    gdown.download(file_url, output_file)\n",
    "    print('Ontology downloaded successfully.')\n",
    "else:\n",
    "    print('Ontology already exists. Skipping download.')"
   ]
  },
  {
   "cell_type": "code",
   "execution_count": 174,
   "metadata": {},
   "outputs": [
    {
     "name": "stdout",
     "output_type": "stream",
     "text": [
      "Label maps already exists. Skipping download.\n"
     ]
    }
   ],
   "source": [
    "# Download label maps\n",
    "f_id = '1PBKA6PyMDyQMYqmMycMb2rSeU1RHY6OF'\n",
    "file_url = f'https://drive.google.com/uc?export=download&confirm=pbef&id={f_id}'\n",
    "output_file = 'label_maps.json'\n",
    "if not os.path.exists(output_file):\n",
    "    gdown.download(file_url, output_file)\n",
    "    print('Label maps downloaded successfully.')\n",
    "else:\n",
    "    print('Label maps already exists. Skipping download.')"
   ]
  },
  {
   "cell_type": "code",
   "execution_count": 175,
   "metadata": {},
   "outputs": [
    {
     "name": "stdout",
     "output_type": "stream",
     "text": [
      "Model already exists. Skipping download.\n"
     ]
    }
   ],
   "source": [
    "# Download DST weights trained on MultiWOZ\n",
    "f_id = '1P88oxRs3ZolIS66nCXOyW9QmlOI32dz9'\n",
    "file_url = f'https://drive.google.com/uc?export=download&confirm=pbef&id={f_id}'\n",
    "output_file = 'model.pt'\n",
    "if not os.path.exists(output_file):\n",
    "    gdown.download(file_url, output_file)\n",
    "    print('Model downloaded successfully.')\n",
    "else:\n",
    "    print('Model already exists. Skipping download.')"
   ]
  },
  {
   "attachments": {},
   "cell_type": "markdown",
   "metadata": {},
   "source": [
    "# Const"
   ]
  },
  {
   "cell_type": "code",
   "execution_count": 176,
   "metadata": {},
   "outputs": [],
   "source": [
    "CHATBOT_NAME = 'Tody'\n",
    "\n",
    "DOMAINS = [\"hotel\", \"train\", \"restaurant\", \"attraction\", \"taxi\"]\n",
    "\n",
    "ONTOLOGY_PATH = './ontology.json'\n",
    "\n",
    "LABEL_MAPS_PATH = './label_maps.json'\n",
    "\n",
    "POLICY = 'Priority' # Priority or Random\n",
    "\n",
    "START = [\n",
    "    {\n",
    "        'utterance': 'Hi I am Tody, I can help you reserve a hotel or a taxi?',\n",
    "        'slots': [],\n",
    "        'system_act': {}\n",
    "    }\n",
    "]\n",
    "\n",
    "TEMPLATES = [\n",
    "    {\n",
    "        'utterance': 'Do you have a price reference?',\n",
    "        'slots': ['hotel-pricerange'],\n",
    "        'system_act': {}\n",
    "    },\n",
    "    {\n",
    "        'utterance': 'What day would you like to stay and how many days?',\n",
    "        'slots': ['hotel-book_day', 'hotel-book_stay'],\n",
    "        'system_act': {}\n",
    "    },\n",
    "    {\n",
    "        'utterance': 'Which area of town do you prefer to stay in?',\n",
    "        'slots': ['hotel-area'],\n",
    "        'system_act': {}\n",
    "    },\n",
    "    {\n",
    "        'utterance': 'I have one called the continental hotel.',\n",
    "        'slots': ['hotel-name'],\n",
    "        'system_act': {'hotel-name': ['continental hotel']}\n",
    "    },\n",
    "    {\n",
    "        'utterance': 'Do you need parking or internet?',\n",
    "        'slots': ['hotel-parking', 'hotel-internet'],\n",
    "        'system_act': {}\n",
    "    },\n",
    "    {\n",
    "        'utterance': 'How many people is the booking for?',\n",
    "        'slots': ['hotel-book_people'],\n",
    "        'system_act': {}\n",
    "    },\n",
    "    \n",
    "    {\n",
    "        'utterance': 'What is your desired destination?',\n",
    "        'slots': ['taxi-destination'],\n",
    "        'system_act': {}\n",
    "    },\n",
    "    {\n",
    "        'utterance': 'From where you will be departing, and what time do you want to leave?',\n",
    "        'slots': ['taxi-departure', 'taxi-leaveAt'],\n",
    "        'system_act': {}\n",
    "    }\n",
    "]\n",
    "\n",
    "NON_REFERABLE_SLOTS = ['hotel-stars', 'hotel-internet', 'hotel-parking']\n",
    "\n",
    "NON_REFERABLE_PAIRS = [('hotel-book_people','hotel-book_stay'), ('restaurant-book_people','hotel-book_stay')]\n",
    "\n",
    "FROM_SCRATCH = True\n",
    "\n",
    "MODEL_PATH = './model.pt'\n",
    "\n",
    "TRIPPY_CONFIG = TRIPPYConfig(multiwoz=True)\n",
    "\n",
    "BERT_CONFIG = BERTConfig()"
   ]
  },
  {
   "attachments": {},
   "cell_type": "markdown",
   "metadata": {},
   "source": [
    "# Build model & Load weights"
   ]
  },
  {
   "cell_type": "code",
   "execution_count": 177,
   "metadata": {},
   "outputs": [
    {
     "name": "stderr",
     "output_type": "stream",
     "text": [
      "Some weights of the model checkpoint at bert-base-uncased were not used when initializing BertModel: ['cls.predictions.transform.dense.weight', 'cls.predictions.transform.LayerNorm.bias', 'cls.predictions.bias', 'cls.predictions.transform.LayerNorm.weight', 'cls.predictions.decoder.weight', 'cls.predictions.transform.dense.bias', 'cls.seq_relationship.weight', 'cls.seq_relationship.bias']\n",
      "- This IS expected if you are initializing BertModel from the checkpoint of a model trained on another task or with another architecture (e.g. initializing a BertForSequenceClassification model from a BertForPreTraining model).\n",
      "- This IS NOT expected if you are initializing BertModel from the checkpoint of a model that you expect to be exactly identical (initializing a BertForSequenceClassification model from a BertForSequenceClassification model).\n"
     ]
    },
    {
     "name": "stdout",
     "output_type": "stream",
     "text": [
      "Model loaded successfully.\n"
     ]
    }
   ],
   "source": [
    "tods = DeepTODS(CHATBOT_NAME, DOMAINS, ONTOLOGY_PATH, LABEL_MAPS_PATH, POLICY, START, TEMPLATES, NON_REFERABLE_SLOTS, NON_REFERABLE_PAIRS, FROM_SCRATCH, BERT_CONFIG, TRIPPY_CONFIG)\n",
    "tods.load_dst_model(MODEL_PATH)"
   ]
  },
  {
   "attachments": {},
   "cell_type": "markdown",
   "metadata": {},
   "source": [
    "# Conversation"
   ]
  },
  {
   "cell_type": "code",
   "execution_count": 178,
   "metadata": {},
   "outputs": [],
   "source": [
    "# chat_gui = chat_gui(tods.infer)\n",
    "# chat_gui.run()"
   ]
  },
  {
   "cell_type": "code",
   "execution_count": 179,
   "metadata": {},
   "outputs": [
    {
     "name": "stdout",
     "output_type": "stream",
     "text": [
      "{}\n"
     ]
    }
   ],
   "source": [
    "tods.reset()\n",
    "print(tods.get_dialogue_state())"
   ]
  },
  {
   "cell_type": "code",
   "execution_count": 180,
   "metadata": {},
   "outputs": [
    {
     "name": "stdout",
     "output_type": "stream",
     "text": [
      "{}\n",
      "Hi I am Tody, I can help you reserve a hotel or a taxi?\n"
     ]
    }
   ],
   "source": [
    "response = tods.infer('')\n",
    "print(tods.get_dialogue_state())\n",
    "print(response)"
   ]
  },
  {
   "cell_type": "code",
   "execution_count": 181,
   "metadata": {},
   "outputs": [
    {
     "name": "stdout",
     "output_type": "stream",
     "text": [
      "{'hotel-area': 'center'}\n",
      "Do you have a price reference?\n"
     ]
    }
   ],
   "source": [
    "response = tods.infer('Hi Tody, I want to book a hotel in the city center.')\n",
    "print(tods.get_dialogue_state())\n",
    "print(response)"
   ]
  },
  {
   "cell_type": "code",
   "execution_count": 182,
   "metadata": {},
   "outputs": [
    {
     "name": "stdout",
     "output_type": "stream",
     "text": [
      "{'hotel-area': 'center', 'hotel-pricerange': 'moderate'}\n",
      "What day would you like to stay and how many days?\n"
     ]
    }
   ],
   "source": [
    "response = tods.infer('yes I want a moderate price range.')\n",
    "print(tods.get_dialogue_state())\n",
    "print(response)"
   ]
  },
  {
   "cell_type": "code",
   "execution_count": 183,
   "metadata": {},
   "outputs": [
    {
     "name": "stdout",
     "output_type": "stream",
     "text": [
      "{'hotel-area': 'center', 'hotel-pricerange': 'moderate', 'hotel-book_day': 'monday', 'hotel-book_stay': '2'}\n",
      "I have one called the continental hotel.\n"
     ]
    }
   ],
   "source": [
    "response = tods.infer('I want to check in on monday and I am staying for 2 days.')\n",
    "print(tods.get_dialogue_state())\n",
    "print(response)"
   ]
  },
  {
   "cell_type": "code",
   "execution_count": 184,
   "metadata": {},
   "outputs": [
    {
     "name": "stdout",
     "output_type": "stream",
     "text": [
      "{'hotel-area': 'center', 'hotel-pricerange': 'moderate', 'hotel-book_day': 'monday', 'hotel-book_stay': '2', 'hotel-name': '§§continental hotel'}\n",
      "Do you need parking or internet?\n"
     ]
    }
   ],
   "source": [
    "response = tods.infer('Ok book it please.')\n",
    "print(tods.get_dialogue_state())\n",
    "print(response)"
   ]
  },
  {
   "cell_type": "code",
   "execution_count": 185,
   "metadata": {},
   "outputs": [
    {
     "name": "stdout",
     "output_type": "stream",
     "text": [
      "{'hotel-area': 'center', 'hotel-pricerange': 'moderate', 'hotel-book_day': 'monday', 'hotel-book_stay': '2', 'hotel-name': '§§continental hotel', 'hotel-internet': 'yes', 'hotel-parking': 'yes'}\n",
      "How many people is the booking for?\n"
     ]
    }
   ],
   "source": [
    "response = tods.infer('Yes I need parking and internet.')\n",
    "print(tods.get_dialogue_state())\n",
    "print(response)"
   ]
  },
  {
   "cell_type": "code",
   "execution_count": 186,
   "metadata": {},
   "outputs": [
    {
     "name": "stdout",
     "output_type": "stream",
     "text": [
      "{'hotel-area': 'center', 'hotel-pricerange': 'moderate', 'hotel-book_day': 'monday', 'hotel-book_stay': '2', 'hotel-name': '§§continental hotel', 'hotel-internet': 'yes', 'hotel-parking': 'yes', 'hotel-book_people': '2'}\n",
      "What is your desired destination?\n"
     ]
    }
   ],
   "source": [
    "response = tods.infer('I am booking for 2 people.')\n",
    "print(tods.get_dialogue_state())\n",
    "print(response)"
   ]
  },
  {
   "cell_type": "code",
   "execution_count": 187,
   "metadata": {},
   "outputs": [
    {
     "name": "stdout",
     "output_type": "stream",
     "text": [
      "{'hotel-area': 'center', 'hotel-pricerange': 'moderate', 'hotel-book_day': 'monday', 'hotel-book_stay': '2', 'hotel-name': '§§continental hotel', 'hotel-internet': 'yes', 'hotel-parking': 'yes', 'hotel-book_people': '2', 'taxi-destination': '§§continental hotel'}\n",
      "From where you will be departing, and what time do you want to leave?\n"
     ]
    }
   ],
   "source": [
    "response = tods.infer('I want to book a taxi to go to the hotel.')\n",
    "print(tods.get_dialogue_state())\n",
    "print(response)"
   ]
  },
  {
   "cell_type": "code",
   "execution_count": 188,
   "metadata": {},
   "outputs": [
    {
     "name": "stdout",
     "output_type": "stream",
     "text": [
      "{'hotel-area': 'center', 'hotel-pricerange': 'moderate', 'hotel-book_day': 'monday', 'hotel-book_stay': '2', 'hotel-name': '§§continental hotel', 'hotel-internet': 'yes', 'hotel-parking': 'yes', 'hotel-book_people': '2', 'taxi-destination': '§§continental hotel', 'taxi-departure': 'ramses station', 'taxi-leaveAt': '10:00'}\n",
      "None\n"
     ]
    }
   ],
   "source": [
    "response = tods.infer('I am leavivng from the ramses station at 10 am')\n",
    "print(tods.get_dialogue_state())\n",
    "print(response)"
   ]
  }
 ],
 "metadata": {
  "kernelspec": {
   "display_name": "pytorch",
   "language": "python",
   "name": "python3"
  },
  "language_info": {
   "codemirror_mode": {
    "name": "ipython",
    "version": 3
   },
   "file_extension": ".py",
   "mimetype": "text/x-python",
   "name": "python",
   "nbconvert_exporter": "python",
   "pygments_lexer": "ipython3",
   "version": "3.10.6"
  },
  "orig_nbformat": 4
 },
 "nbformat": 4,
 "nbformat_minor": 2
}
