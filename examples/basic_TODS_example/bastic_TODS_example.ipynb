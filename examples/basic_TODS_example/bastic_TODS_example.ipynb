{
 "cells": [
  {
   "cell_type": "code",
   "execution_count": 15,
   "metadata": {},
   "outputs": [],
   "source": [
    "from botiverse.bots import BasicTODS"
   ]
  },
  {
   "cell_type": "code",
   "execution_count": 16,
   "metadata": {},
   "outputs": [],
   "source": [
    "NAME = \"boti\"\n",
    "\n",
    "domains_slots = {\"book-flight\": [\"source\", \"destination\", \"time\"]}\n",
    "\n",
    "templates = {\n",
    "                \"book-flight\":\n",
    "                {\n",
    "                    \"source\": [\"Where do you want to fly from?\",\n",
    "                               \"From where will you take the flight?\"],\n",
    "                    \"destination\": [\"What is your destination?\",\n",
    "                                    \"Where do you want to go?\"],\n",
    "                    \"time\": [\"What time do you want to leave?\"]\n",
    "                }\n",
    "            }\n",
    "\n",
    "domains_pattern = {\"book-flight\": r\"(i|I) want to (book|reserve) a? flights?\"}\n",
    "\n",
    "slots_pattern = {\n",
    "                    \"book-flight\":\n",
    "                    {\n",
    "                        \"source\": r\"from(?: city)? (cairo|giza)\",\n",
    "                        \"destination\": r\"to(?: city)? (cairo|giza)\",\n",
    "                        \"time\": r\"(saturday|sunday|monday|tuesday|wednesday|thursday|friday)\"\n",
    "                    }\n",
    "                }"
   ]
  },
  {
   "cell_type": "code",
   "execution_count": 17,
   "metadata": {},
   "outputs": [],
   "source": [
    "chatbot = BasicTODS(NAME, domains_slots, templates, domains_pattern, slots_pattern)"
   ]
  },
  {
   "cell_type": "code",
   "execution_count": 18,
   "metadata": {},
   "outputs": [
    {
     "name": "stdout",
     "output_type": "stream",
     "text": [
      "{'book-flight': {'source': None, 'destination': None, 'time': None}}\n"
     ]
    }
   ],
   "source": [
    "state = chatbot.get_dialogue_state()\n",
    "print(state)"
   ]
  },
  {
   "cell_type": "code",
   "execution_count": 19,
   "metadata": {},
   "outputs": [
    {
     "name": "stdout",
     "output_type": "stream",
     "text": [
      "{'book-flight': {'source': None, 'destination': None, 'time': None}}\n",
      "From where will you take the flight?\n"
     ]
    }
   ],
   "source": [
    "finished, response = chatbot.infer(\"I want to book a flight\")\n",
    "print(chatbot.get_dialogue_state())\n",
    "print(response)"
   ]
  },
  {
   "cell_type": "code",
   "execution_count": 20,
   "metadata": {},
   "outputs": [
    {
     "name": "stdout",
     "output_type": "stream",
     "text": [
      "{'book-flight': {'source': 'cairo', 'destination': 'giza', 'time': None}}\n",
      "What time do you want to leave?\n"
     ]
    }
   ],
   "source": [
    "finished, response = chatbot.infer(\"I want to go to giza from cairo\")\n",
    "print(chatbot.get_dialogue_state())\n",
    "print(response)"
   ]
  },
  {
   "cell_type": "code",
   "execution_count": 21,
   "metadata": {},
   "outputs": [
    {
     "name": "stdout",
     "output_type": "stream",
     "text": [
      "{'book-flight': {'source': 'cairo', 'destination': 'giza', 'time': 'monday'}}\n",
      "book-flight\n"
     ]
    }
   ],
   "source": [
    "finished, response = chatbot.infer(\"on monday\")\n",
    "print(chatbot.get_dialogue_state())\n",
    "print(response)"
   ]
  }
 ],
 "metadata": {
  "kernelspec": {
   "display_name": "pytorch",
   "language": "python",
   "name": "python3"
  },
  "language_info": {
   "codemirror_mode": {
    "name": "ipython",
    "version": 3
   },
   "file_extension": ".py",
   "mimetype": "text/x-python",
   "name": "python",
   "nbconvert_exporter": "python",
   "pygments_lexer": "ipython3",
   "version": "3.10.6"
  },
  "orig_nbformat": 4
 },
 "nbformat": 4,
 "nbformat_minor": 2
}
