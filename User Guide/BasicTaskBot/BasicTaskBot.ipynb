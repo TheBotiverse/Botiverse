{
 "cells": [
  {
   "cell_type": "markdown",
   "metadata": {},
   "source": [
    "# Basic Task Bot Guide"
   ]
  },
  {
   "cell_type": "markdown",
   "metadata": {},
   "source": [
    "We start by importing the basic task bot and the chat gui for later demonstration"
   ]
  },
  {
   "cell_type": "code",
   "execution_count": 1,
   "metadata": {},
   "outputs": [],
   "source": [
    "from botiverse import chat_gui\n",
    "from botiverse.bots import BasicTaskBot"
   ]
  },
  {
   "cell_type": "markdown",
   "metadata": {},
   "source": [
    "The basic task bot works by simply interpreting user responses to collect information. To do any task such as booka flight, all the bot needs is information. Each piece of information is called a slot and the whole task the bot performs is called a domain.\n",
    "\n",
    "We start by defining\n",
    "- The tasks the bot should be able to perform and the info needed for each task (the bot's objective is to correctly collet such information)\n",
    "- Some utterances for the bot to use when one of the pieces of information (slots) is missing\n",
    "- Patterns that when match user input indicate that a task should be performed (start collecting information)\n",
    "- Patterns that when match user input indicate that information pertaining to a slot has been provided\n",
    "\n",
    "The patterns form a grammar for the chatbot as the correspond to all the possible ways a user can interact with the bot. "
   ]
  },
  {
   "cell_type": "markdown",
   "metadata": {},
   "source": [
    "### Define the Grammar"
   ]
  },
  {
   "cell_type": "markdown",
   "metadata": {},
   "source": [
    "Let's showcase the basic task bot using an extremely simple example."
   ]
  },
  {
   "cell_type": "markdown",
   "metadata": {},
   "source": [
    "#### 1. Decide the Domains (i.e., tasks) and Slots in each"
   ]
  },
  {
   "cell_type": "markdown",
   "metadata": {},
   "source": [
    "Here we consider one task only which is booking a flight and which for the bot is equivalent to collecting information about the source, destination and day of the flight."
   ]
  },
  {
   "cell_type": "code",
   "execution_count": 2,
   "metadata": {},
   "outputs": [],
   "source": [
    "domains_slots = {\n",
    "    \"book-flight\": [\"source\", \"destination\", \"day\"]\n",
    "    }"
   ]
  },
  {
   "cell_type": "markdown",
   "metadata": {},
   "source": [
    "#### 2. Decide Chatbot Utterances per Slot"
   ]
  },
  {
   "cell_type": "markdown",
   "metadata": {},
   "source": [
    "Suppose a slot is empty, what should the chatbot say to request information from the user. We provide templates for each slot."
   ]
  },
  {
   "cell_type": "code",
   "execution_count": 3,
   "metadata": {},
   "outputs": [],
   "source": [
    "\n",
    "templates = {\n",
    "                \"book-flight\":\n",
    "                {\n",
    "                    \"source\": [\"Where do you want to fly from?\",\n",
    "                               \"From where will you take the flight?\"],\n",
    "                    \"destination\": [\"What is your destination?\",\n",
    "                                    \"Where do you want to go?\"],\n",
    "                    \"day\": [\"What day do you want to leave?\"]\n",
    "                }\n",
    "            }"
   ]
  },
  {
   "cell_type": "markdown",
   "metadata": {},
   "source": [
    "#### 3. Write Patterns that Initiate a Task"
   ]
  },
  {
   "cell_type": "markdown",
   "metadata": {},
   "source": [
    "Now the serious part is to write patterns that match user queries that correspond to initiating a task. We use a very simple example here."
   ]
  },
  {
   "cell_type": "code",
   "execution_count": 4,
   "metadata": {},
   "outputs": [],
   "source": [
    "domains_pattern = {\"book-flight\": r\"(i|I) want to (book|reserve) a? flights?\"}"
   ]
  },
  {
   "cell_type": "markdown",
   "metadata": {},
   "source": [
    "#### 4. Write Patterns to Interpret Answers"
   ]
  },
  {
   "cell_type": "markdown",
   "metadata": {},
   "source": [
    "Finally, we provide patterns to collect the needed information."
   ]
  },
  {
   "cell_type": "code",
   "execution_count": 5,
   "metadata": {},
   "outputs": [],
   "source": [
    "slots_pattern = {\n",
    "                    \"book-flight\":\n",
    "                    {\n",
    "                        \"source\": r\"from(?: city)? (cairo|giza)\",\n",
    "                        \"destination\": r\"to(?: city)? (cairo|giza)\",\n",
    "                        \"day\": r\"(saturday|sunday|monday|tuesday|wednesday|thursday|friday)\"\n",
    "                    }\n",
    "                }"
   ]
  },
  {
   "cell_type": "markdown",
   "metadata": {},
   "source": [
    "### Build the chatbot"
   ]
  },
  {
   "cell_type": "markdown",
   "metadata": {},
   "source": [
    "That's it, we can now make an instance of our chatbot and guess what, no training is needed at all!"
   ]
  },
  {
   "cell_type": "code",
   "execution_count": 6,
   "metadata": {},
   "outputs": [],
   "source": [
    "chatbot = BasicTaskBot(domains_slots, templates, domains_pattern, slots_pattern, verbose=True)"
   ]
  },
  {
   "cell_type": "markdown",
   "metadata": {},
   "source": [
    "### Deploy the Chatbot"
   ]
  },
  {
   "cell_type": "markdown",
   "metadata": {},
   "source": [
    "We can try out our chatbot using the GUI as follows"
   ]
  },
  {
   "cell_type": "code",
   "execution_count": 7,
   "metadata": {},
   "outputs": [
    {
     "name": "stdout",
     "output_type": "stream",
     "text": [
      " * Serving Flask app 'botiverse.gui.gui'\n",
      " * Debug mode: off\n"
     ]
    },
    {
     "name": "stderr",
     "output_type": "stream",
     "text": [
      "\u001b[31m\u001b[1mWARNING: This is a development server. Do not use it in a production deployment. Use a production WSGI server instead.\u001b[0m\n",
      " * Running on http://127.0.0.1:5000\n",
      "\u001b[33mPress CTRL+C to quit\u001b[0m\n"
     ]
    },
    {
     "data": {
      "text/plain": [
       "<botiverse.gui.gui.chat_gui at 0x106a484f0>"
      ]
     },
     "execution_count": 7,
     "metadata": {},
     "output_type": "execute_result"
    }
   ],
   "source": [
    "chat_gui('Task Bot', chatbot.infer)"
   ]
  },
  {
   "cell_type": "code",
   "execution_count": 2,
   "metadata": {},
   "outputs": [],
   "source": [
    "# convert to markdown\n",
    "import nbformat\n",
    "from nbconvert import MarkdownExporter\n",
    "# get the notebook filename \n",
    "with open('BasicTaskBot.ipynb', 'r') as file:\n",
    "    notebook_content = nbformat.read(file, as_version=4)\n",
    "\n",
    "# Initialize the Markdown exporter\n",
    "md_exporter = MarkdownExporter()\n",
    "\n",
    "# Convert the notebook to Markdown\n",
    "markdown_output, _ = md_exporter.from_notebook_node(notebook_content)\n",
    "\n",
    "# Save the Markdown content to a file\n",
    "with open('BasicTaskBot.md', 'w', encoding='utf-8') as file:\n",
    "    file.write(markdown_output)"
   ]
  }
 ],
 "metadata": {
  "kernelspec": {
   "display_name": "pytorch",
   "language": "python",
   "name": "python3"
  },
  "language_info": {
   "codemirror_mode": {
    "name": "ipython",
    "version": 3
   },
   "file_extension": ".py",
   "mimetype": "text/x-python",
   "name": "python",
   "nbconvert_exporter": "python",
   "pygments_lexer": "ipython3",
   "version": "3.9.16"
  },
  "orig_nbformat": 4
 },
 "nbformat": 4,
 "nbformat_minor": 2
}
