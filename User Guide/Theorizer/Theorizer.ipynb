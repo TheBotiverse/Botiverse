{
 "cells": [
  {
   "cell_type": "markdown",
   "metadata": {},
   "source": [
    "# Theorizer Guide"
   ]
  },
  {
   "cell_type": "code",
   "execution_count": null,
   "metadata": {},
   "outputs": [],
   "source": [
    "from botiverse.Theorizer.generate import generate\n",
    "import json"
   ]
  },
  {
   "cell_type": "markdown",
   "metadata": {},
   "source": [
    "Let's try the model (perhaps, untrained) on some data"
   ]
  },
  {
   "cell_type": "code",
   "execution_count": null,
   "metadata": {},
   "outputs": [],
   "source": [
    "context = \"Bob is eating a delicious cake in Vancouver.\" \n",
    "\n",
    "qa_dict = generate(context)\n",
    "print(json.dumps(qa_dict,indent=4))"
   ]
  },
  {
   "cell_type": "code",
   "execution_count": 2,
   "metadata": {},
   "outputs": [
    {
     "name": "stdout",
     "output_type": "stream",
     "text": [
      "[NbConvertApp] Converting notebook Theorizer.ipynb to markdown\n",
      "[NbConvertApp] Writing 18755 bytes to Theorizer.md\n",
      "[NbConvertApp] Converting notebook Theorizer.ipynb to rst\n",
      "[NbConvertApp] Writing 606 bytes to Theorizer.rst\n"
     ]
    }
   ],
   "source": [
    "!jupyter nbconvert --to markdown Theorizer.ipynb\n",
    "!jupyter nbconvert --to rst Theorizer.ipynb"
   ]
  }
 ],
 "metadata": {
  "kernelspec": {
   "display_name": "Python 3",
   "language": "python",
   "name": "python3"
  },
  "language_info": {
   "codemirror_mode": {
    "name": "ipython",
    "version": 3
   },
   "file_extension": ".py",
   "mimetype": "text/x-python",
   "name": "python",
   "nbconvert_exporter": "python",
   "pygments_lexer": "ipython3",
   "version": "3.9.16"
  },
  "orig_nbformat": 4
 },
 "nbformat": 4,
 "nbformat_minor": 2
}
