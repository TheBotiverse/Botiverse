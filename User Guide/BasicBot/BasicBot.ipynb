{
 "cells": [
  {
   "cell_type": "markdown",
   "metadata": {},
   "source": [
    "# Basic Bot Guide"
   ]
  },
  {
   "cell_type": "markdown",
   "metadata": {},
   "source": [
    "We start by importing the basic bot from `botiverse.bots` and gui for testing."
   ]
  },
  {
   "cell_type": "code",
   "execution_count": null,
   "metadata": {},
   "outputs": [],
   "source": [
    "from botiverse.bots import BasicBot\n",
    "from botiverse import chat_gui"
   ]
  },
  {
   "cell_type": "markdown",
   "metadata": {},
   "source": [
    "The following is a sample from a dataset of the type which the basic bot can deal with, you can find the whole dataset in the User Guide folder."
   ]
  },
  {
   "cell_type": "markdown",
   "metadata": {},
   "source": [
    "#### Dataset Sample"
   ]
  },
  {
   "cell_type": "markdown",
   "metadata": {},
   "source": [
    "```json\n",
    "    {\n",
    "      \"tag\": \"admissions\",\n",
    "      \"patterns\": [\n",
    "        \"How can I apply to the university?\",\n",
    "        \"What are the admission requirements?\",\n",
    "        \"Tell me about the application process\"\n",
    "      ],\n",
    "      \"responses\": [\n",
    "        \"To apply to our university....\",\n",
    "        \"To begin your application process, please refer to the 'Admissions'...\"\n",
    "      ]\n",
    "    }\n",
    "```"
   ]
  },
  {
   "cell_type": "markdown",
   "metadata": {},
   "source": [
    "### Read the Data"
   ]
  },
  {
   "cell_type": "markdown",
   "metadata": {},
   "source": [
    "We start by making an instance of the basic chatbot. `machine` is the underlying machine learning model to use. The basic bot supports `nn` and `svm` for now or any custom model that satisfies a similar fit and predict interface (as found in the documentation). `repr` is the representation to use for the data. The basic bot supports `tf-idf`, `glove`, `tf-idf-glove`, `bow` for now or any custom representation that satisfies a similar`transform` and `transform_list` interface"
   ]
  },
  {
   "cell_type": "code",
   "execution_count": null,
   "metadata": {},
   "outputs": [],
   "source": [
    "bot = BasicBot(machine='nn', repr='glove')"
   ]
  },
  {
   "cell_type": "markdown",
   "metadata": {},
   "source": [
    "After making an instance of the bot with a neural network model and with the GloVe as the word representation, we read let the chatbot read the data."
   ]
  },
  {
   "cell_type": "code",
   "execution_count": null,
   "metadata": {},
   "outputs": [],
   "source": [
    "bot.read_data('dataset.json')"
   ]
  },
  {
   "cell_type": "markdown",
   "metadata": {},
   "source": [
    "### Train and save the chatbot"
   ]
  },
  {
   "cell_type": "markdown",
   "metadata": {},
   "source": [
    "The chatbot can be trained at this point on the data has read. Generally, the train method can take all the hyperparameters that the `fit` method of the underlying model can take. In our case for `SVM` or `NN` it just uses good defaults."
   ]
  },
  {
   "cell_type": "code",
   "execution_count": null,
   "metadata": {},
   "outputs": [
    {
     "name": "stderr",
     "output_type": "stream",
     "text": [
      "Train Acc: 1.0: 100%|██████████| 240/240 [00:01<00:00, 183.84it/s] \n"
     ]
    }
   ],
   "source": [
    "bot.train()\n",
    "bot.save('BasicBot')"
   ]
  },
  {
   "cell_type": "markdown",
   "metadata": {},
   "source": [
    "### Infer"
   ]
  },
  {
   "cell_type": "markdown",
   "metadata": {},
   "source": [
    "Once the chatbot has been trained, the infer method can be called to get a response to a given input. In general, `infer` also take a `confidence` parameter to decide when the chatbot should say \"I don't know\""
   ]
  },
  {
   "cell_type": "code",
   "execution_count": null,
   "metadata": {},
   "outputs": [
    {
     "data": {
      "text/plain": [
       "\"The university campus provides a wide range of facilities to support academic, social, and recreational needs. From well-equipped classrooms and libraries to sports facilities and student clubs, there's something for everyone. Check out our website's 'Campus Life' section to discover more about the available amenities.\""
      ]
     },
     "execution_count": 5,
     "metadata": {},
     "output_type": "execute_result"
    }
   ],
   "source": [
    "bot.infer(\"Hello there! \")"
   ]
  },
  {
   "cell_type": "markdown",
   "metadata": {},
   "source": [
    "### Deploy the Chatbot"
   ]
  },
  {
   "cell_type": "markdown",
   "metadata": {},
   "source": [
    "To demonstrate working in a real backend, we consider first loading the bot from its file. The dataset is necessary as it includes the responses and is too small anyway."
   ]
  },
  {
   "cell_type": "code",
   "execution_count": null,
   "metadata": {},
   "outputs": [],
   "source": [
    "newbot = BasicBot(machine='nn', repr='glove')\n",
    "newbot.load('BasicBot', 'dataset.json')"
   ]
  },
  {
   "cell_type": "markdown",
   "metadata": {},
   "source": [
    "We can run the GUI by running the following. If server is not set to true then a much more humble version of the GUI will run locally using Python's `input()` and `print()` functions.\n",
    "\n"
   ]
  },
  {
   "cell_type": "code",
   "execution_count": null,
   "metadata": {},
   "outputs": [],
   "source": [
    "chat_gui('Basic Bot', bot.infer, server=True)"
   ]
  },
  {
   "cell_type": "markdown",
   "metadata": {},
   "source": [
    "### Using a Custom Model and Transform"
   ]
  },
  {
   "cell_type": "markdown",
   "metadata": {},
   "source": [
    "In this we demonstrate how a custom model or representation can be used with the basic bot. We start by importing a neural network and GloVe that satisfy the expected interfaces."
   ]
  },
  {
   "cell_type": "code",
   "execution_count": null,
   "metadata": {},
   "outputs": [],
   "source": [
    "from botiverse.models import NeuralNet\n",
    "from botiverse.preprocessors import GloVe"
   ]
  },
  {
   "cell_type": "markdown",
   "metadata": {},
   "source": [
    "We make instances of both to later pass to the chatbot"
   ]
  },
  {
   "cell_type": "code",
   "execution_count": null,
   "metadata": {},
   "outputs": [],
   "source": [
    "model = NeuralNet(structure=[50, 12, 8], activation='sigmoid')\n",
    "transform = GloVe()"
   ]
  },
  {
   "cell_type": "markdown",
   "metadata": {},
   "source": [
    "After passing them to the basic bot, we follow up with the normal pipeline."
   ]
  },
  {
   "cell_type": "code",
   "execution_count": null,
   "metadata": {},
   "outputs": [],
   "source": [
    "bot = BasicBot(machine=model, repr=transform)\n",
    "bot.read_data('dataset.json')"
   ]
  },
  {
   "cell_type": "markdown",
   "metadata": {},
   "source": [
    "Notice how the `train` method is flexible to take all the parameters needed by the model's fit."
   ]
  },
  {
   "cell_type": "code",
   "execution_count": null,
   "metadata": {},
   "outputs": [
    {
     "name": "stderr",
     "output_type": "stream",
     "text": [
      "Train Acc: 0.71: 100%|██████████| 30/30 [00:00<00:00, 220.55it/s]\n"
     ]
    }
   ],
   "source": [
    "bot.train(batch_size=1, epochs=30, λ = 0.02, eval_train=True, val_split=0.0)"
   ]
  },
  {
   "cell_type": "code",
   "execution_count": null,
   "metadata": {},
   "outputs": [
    {
     "data": {
      "text/plain": [
       "'Glad I could help! If you have any more questions, feel free to ask.'"
      ]
     },
     "execution_count": 16,
     "metadata": {},
     "output_type": "execute_result"
    }
   ],
   "source": [
    "newbot.infer(\"Thanks\")"
   ]
  },
  {
   "cell_type": "code",
   "execution_count": 11,
   "metadata": {},
   "outputs": [
    {
     "name": "stdout",
     "output_type": "stream",
     "text": [
      "[NbConvertApp] Converting notebook BasicBot.ipynb to markdown\n",
      "[NbConvertApp] Writing 4268 bytes to BasicBot.md\n",
      "[NbConvertApp] Converting notebook BasicBot.ipynb to rst\n",
      "[NbConvertApp] Writing 4704 bytes to BasicBot.rst\n"
     ]
    }
   ],
   "source": [
    "!jupyter nbconvert --to markdown BasicBot.ipynb\n",
    "!jupyter nbconvert --to rst BasicBot.ipynb"
   ]
  }
 ],
 "metadata": {
  "kernelspec": {
   "display_name": "M1",
   "language": "python",
   "name": "python3"
  },
  "language_info": {
   "codemirror_mode": {
    "name": "ipython",
    "version": 3
   },
   "file_extension": ".py",
   "mimetype": "text/x-python",
   "name": "python",
   "nbconvert_exporter": "python",
   "pygments_lexer": "ipython3",
   "version": "3.9.16"
  },
  "orig_nbformat": 4
 },
 "nbformat": 4,
 "nbformat_minor": 2
}
