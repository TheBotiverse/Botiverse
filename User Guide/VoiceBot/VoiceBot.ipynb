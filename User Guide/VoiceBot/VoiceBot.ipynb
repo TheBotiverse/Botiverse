{
 "cells": [
  {
   "cell_type": "markdown",
   "metadata": {},
   "source": [
    "# Voice Bot Guide"
   ]
  },
  {
   "cell_type": "code",
   "execution_count": null,
   "metadata": {},
   "outputs": [],
   "source": [
    "from botiverse.bots import VoiceBot"
   ]
  },
  {
   "cell_type": "markdown",
   "metadata": {},
   "source": [
    "The voice bot is one of the easiest modules to deal with from `botiverse.bots`, all it takes is to design a call finite state machine similar to `call.json` in the guide folder. The following is a sample from it."
   ]
  },
  {
   "cell_type": "markdown",
   "metadata": {},
   "source": [
    "### Dataset Sample"
   ]
  },
  {
   "cell_type": "markdown",
   "metadata": {},
   "source": [
    "  ```json\n",
    "{\n",
    "    \"A\":{\n",
    "    \"Bot\": \"Thanks for calling Botiverse Airlines. Would you like us to proceed in English or Spanish?\",\n",
    "    \"max_duration\": \"3\",\n",
    "    \"Options\": [\n",
    "        {\n",
    "            \"Intent\": \"English\",\n",
    "            \"Speak\": \"Okay. We will continue in English\",\n",
    "            \"Next\": \"B\"\n",
    "        },\n",
    "        {\n",
    "            \"Intent\": \"Spanish\",\n",
    "            \"Speak\": \"Sorry. But I do not speak spanish yet.\",\n",
    "            \"Next\": \"A\"\n",
    "        }\n",
    "    ]\n",
    "},\n",
    "}\n",
    "``` "
   ]
  },
  {
   "cell_type": "markdown",
   "metadata": {},
   "source": [
    "The voice bot always assumes that the first state in the `call.json` is `A` and that the last slot is `Z`."
   ]
  },
  {
   "cell_type": "markdown",
   "metadata": {},
   "source": [
    "### Load the Call Finite State Machine"
   ]
  },
  {
   "cell_type": "markdown",
   "metadata": {},
   "source": [
    "After the call finite state machine is designed, we simply pass it while initiating the voice bot"
   ]
  },
  {
   "cell_type": "code",
   "execution_count": null,
   "metadata": {},
   "outputs": [],
   "source": [
    "bot = VoiceBot('call.json')"
   ]
  },
  {
   "cell_type": "markdown",
   "metadata": {},
   "source": [
    "### Simulate a Call"
   ]
  },
  {
   "cell_type": "markdown",
   "metadata": {},
   "source": [
    "Then we follow up with `bot.simulate_call()` and the call starts. Whenever the bot says something `max_duration` time will be waited (and a progress bar shown) to record a response."
   ]
  },
  {
   "cell_type": "code",
   "execution_count": null,
   "metadata": {},
   "outputs": [],
   "source": [
    "bot.simulate_call()"
   ]
  },
  {
   "cell_type": "code",
   "execution_count": 1,
   "metadata": {},
   "outputs": [
    {
     "name": "stdout",
     "output_type": "stream",
     "text": [
      "[NbConvertApp] Converting notebook VoiceBot.ipynb to markdown\n",
      "[NbConvertApp] Writing 1404 bytes to VoiceBot.md\n",
      "[NbConvertApp] Converting notebook VoiceBot.ipynb to rst\n",
      "[NbConvertApp] Writing 1694 bytes to VoiceBot.rst\n"
     ]
    }
   ],
   "source": [
    "!jupyter nbconvert --to markdown VoiceBot.ipynb\n",
    "!jupyter nbconvert --to rst VoiceBot.ipynb"
   ]
  }
 ],
 "metadata": {
  "kernelspec": {
   "display_name": "M1",
   "language": "python",
   "name": "python3"
  },
  "language_info": {
   "codemirror_mode": {
    "name": "ipython",
    "version": 3
   },
   "file_extension": ".py",
   "mimetype": "text/x-python",
   "name": "python",
   "nbconvert_exporter": "python",
   "pygments_lexer": "ipython3",
   "version": "3.9.16"
  },
  "orig_nbformat": 4
 },
 "nbformat": 4,
 "nbformat_minor": 2
}
