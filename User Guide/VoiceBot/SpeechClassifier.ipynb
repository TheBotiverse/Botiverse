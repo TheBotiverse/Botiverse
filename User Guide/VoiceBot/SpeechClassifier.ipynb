{
 "cells": [
  {
   "cell_type": "markdown",
   "metadata": {},
   "source": [
    "# Speech Classification Guide"
   ]
  },
  {
   "cell_type": "markdown",
   "metadata": {},
   "source": [
    "Botiverse initially implemented a speech classifier that was destined to be used with the voice bot. The speech classifier is simply a model that takes a speech signal and outputs a class. \n",
    "\n",
    "We will import the speech classifier from `botiverse.bots`, its there because its a very simple bot of sorts that can understand some speech. We also import `voice_input` so we can later test it."
   ]
  },
  {
   "cell_type": "code",
   "execution_count": null,
   "metadata": {},
   "outputs": [],
   "source": [
    "from botiverse.bots import SpeechClassifier\n",
    "from botiverse.bots.VoiceBot.utils import voice_input"
   ]
  },
  {
   "cell_type": "markdown",
   "metadata": {},
   "source": [
    "In this guide, we will use the speech classifier to tackle the problem of generalizing from a few samples of synthetically generated speech data to real speech data."
   ]
  },
  {
   "cell_type": "markdown",
   "metadata": {},
   "source": [
    "### Synthetically Generate Voice Data"
   ]
  },
  {
   "cell_type": "markdown",
   "metadata": {},
   "source": [
    "The speech classifier can be trained on existing data, it takes the words or phrases to classify between and if no existing dataset folder is found while calling `generate_read_data`, it will synthetically generate data for each word while performing random useful audio transformations (can be customly passed) and corrupting the dataset with noise."
   ]
  },
  {
   "cell_type": "code",
   "execution_count": null,
   "metadata": {},
   "outputs": [],
   "source": [
    "S = SpeechClassifier(['Yes', 'No'], samplerate=16000, duration=0.9, machine='lstm', repr='wav2vec')\n",
    "X, y = S.generate_read_data(force_download_noise=False, n=5)"
   ]
  },
  {
   "cell_type": "markdown",
   "metadata": {},
   "source": [
    "While making an instance of the speech classifer we use `lstm` as the core model and `wav2vec` as a representation. The speech classifier also supports `spec` and `mfcc` representations but they make tasks like these (no data available) much harder."
   ]
  },
  {
   "cell_type": "markdown",
   "metadata": {},
   "source": [
    "#### Train the Model"
   ]
  },
  {
   "cell_type": "markdown",
   "metadata": {},
   "source": [
    "We train the model and pass all the necessary core model parameters (they are optional, and here the go to the `lstm`). The `patience` parameter decides when to stop training. If `patience` epochs have passed with no improvement, then take the model we had prior to those 100 epochs. Check the documentation for other parameters."
   ]
  },
  {
   "cell_type": "code",
   "execution_count": null,
   "metadata": {},
   "outputs": [],
   "source": [
    "S.fit(X, y, hidden=128, patience=100, α=0.01)\n",
    "#S.save('speechclassifier')"
   ]
  },
  {
   "cell_type": "markdown",
   "metadata": {},
   "source": [
    "We can optionally save the model as well and later load it as expected."
   ]
  },
  {
   "cell_type": "markdown",
   "metadata": {},
   "source": [
    "#### Predict"
   ]
  },
  {
   "cell_type": "markdown",
   "metadata": {},
   "source": [
    "In this, we record audio for 3 seconds and with a `voice_threshold` of 900 to later classify the record into either 'yes' or 'no'. The `voice_threshold` is helpful in not only recording when there is voice, that's why the output record will often be less than 3 seconds."
   ]
  },
  {
   "cell_type": "code",
   "execution_count": null,
   "metadata": {},
   "outputs": [],
   "source": [
    "audio_path = voice_input(record_time=3, voice_threshold=900)\n",
    "S.predict(audio_path)"
   ]
  },
  {
   "cell_type": "code",
   "execution_count": null,
   "metadata": {},
   "outputs": [],
   "source": [
    "# convert to markdown\n",
    "import nbformat\n",
    "from nbconvert import MarkdownExporter\n",
    "# get the notebook filename \n",
    "with open('SpeechClassifier.ipynb', 'r') as file:\n",
    "    notebook_content = nbformat.read(file, as_version=4)\n",
    "\n",
    "# Initialize the Markdown exporter\n",
    "md_exporter = MarkdownExporter()\n",
    "\n",
    "# Convert the notebook to Markdown\n",
    "markdown_output, _ = md_exporter.from_notebook_node(notebook_content)\n",
    "\n",
    "# Save the Markdown content to a file\n",
    "with open('SpeechClassifier.md', 'w', encoding='utf-8') as file:\n",
    "    file.write(markdown_output)"
   ]
  }
 ],
 "metadata": {
  "kernelspec": {
   "display_name": "M1",
   "language": "python",
   "name": "python3"
  },
  "language_info": {
   "codemirror_mode": {
    "name": "ipython",
    "version": 3
   },
   "file_extension": ".py",
   "mimetype": "text/x-python",
   "name": "python",
   "nbconvert_exporter": "python",
   "pygments_lexer": "ipython3",
   "version": "3.9.16"
  },
  "orig_nbformat": 4
 },
 "nbformat": 4,
 "nbformat_minor": 2
}
