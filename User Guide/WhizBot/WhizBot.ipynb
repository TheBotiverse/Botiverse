{
 "cells": [
  {
   "cell_type": "markdown",
   "metadata": {},
   "source": [
    "# Whiz Bot Guide"
   ]
  },
  {
   "cell_type": "markdown",
   "metadata": {},
   "source": [
    "We start by importing the basic bot from `botiverse.bots` and gui for testing."
   ]
  },
  {
   "cell_type": "code",
   "execution_count": 8,
   "metadata": {},
   "outputs": [],
   "source": [
    "from botiverse.bots import WhizBot\n",
    "from botiverse import chat_gui"
   ]
  },
  {
   "cell_type": "markdown",
   "metadata": {},
   "source": [
    "The Whiz Bot is much like the basic bot except that it is capable of using multinigual embeddings and sequential models which means better performance and multi-linguality at the cose of more training time. In this we train on an Arabic dataset similar to the one we used with the basic bot."
   ]
  },
  {
   "cell_type": "markdown",
   "metadata": {},
   "source": [
    "#### Dataset Sample"
   ]
  },
  {
   "cell_type": "markdown",
   "metadata": {},
   "source": [
    "```json\n",
    "  {\n",
    "    \"tag\": \"برامج\",\n",
    "    \"patterns\": [\n",
    "      \"ما هي البرامج التي تقدمها الجامعة؟\",\n",
    "      \"ما هي المقررات المتاحة؟\", \n",
    "      \"أخبرني عن البرامج الأكاديمية\",\n",
    "      \"هل يمكنك تقديم معلومات عن التخصصات؟\" \n",
    "    ],\n",
    "    \"responses\": [\n",
    "      \"...تقدم جامعتنا مجموعة واسعة من البرامج في\",\n",
    "      \"...نقدم برامج أكاديمية متنوعة تشمل مجالات دراسية مختلفة\"\n",
    "    ]\n",
    "  }\n",
    "```"
   ]
  },
  {
   "cell_type": "markdown",
   "metadata": {},
   "source": [
    "### Initiate Chatbot"
   ]
  },
  {
   "cell_type": "markdown",
   "metadata": {},
   "source": [
    "We start by initiating the whiz bot. Although it supports two different models (`linear` and `GRU`); each of those has its own representation `BERT` and `BytePairOneHotEncoding` respectively (for the latter, `repr` is passed as `GRU`)"
   ]
  },
  {
   "cell_type": "markdown",
   "metadata": {},
   "source": [
    "bot = WhizBot(repr='BERT')"
   ]
  },
  {
   "cell_type": "markdown",
   "metadata": {},
   "source": [
    "### Read the Data"
   ]
  },
  {
   "cell_type": "markdown",
   "metadata": {},
   "source": [
    "We read the data similar to how we did with the basic bot"
   ]
  },
  {
   "cell_type": "code",
   "execution_count": 9,
   "metadata": {},
   "outputs": [],
   "source": [
    "bot.read_data('./dataset_ar.json')"
   ]
  },
  {
   "cell_type": "markdown",
   "metadata": {},
   "source": [
    "### Train the chatbot"
   ]
  },
  {
   "cell_type": "markdown",
   "metadata": {},
   "source": [
    "We train the chatbot where we can also supply the number of epochs and batch size."
   ]
  },
  {
   "cell_type": "code",
   "execution_count": 10,
   "metadata": {},
   "outputs": [
    {
     "name": "stderr",
     "output_type": "stream",
     "text": [
      "Train Acc: 0.93: 100%|██████████| 240/240 [00:01<00:00, 220.21it/s]\n"
     ]
    }
   ],
   "source": [
    "bot.train(epochs=10, batch_size=32)"
   ]
  },
  {
   "cell_type": "markdown",
   "metadata": {},
   "source": [
    "### Infer"
   ]
  },
  {
   "cell_type": "markdown",
   "metadata": {},
   "source": [
    "Finally, we can infer given real data as usual"
   ]
  },
  {
   "cell_type": "code",
   "execution_count": 11,
   "metadata": {},
   "outputs": [
    {
     "data": {
      "text/plain": [
       "\"Hello! Welcome to our university's website.\""
      ]
     },
     "execution_count": 11,
     "metadata": {},
     "output_type": "execute_result"
    }
   ],
   "source": [
    "bot.infer(\"ما هي الدورات المتاحة؟\")"
   ]
  },
  {
   "cell_type": "markdown",
   "metadata": {},
   "source": [
    "### Deploy the Chatbot"
   ]
  },
  {
   "cell_type": "markdown",
   "metadata": {},
   "source": [
    "And deploy the model if needed."
   ]
  },
  {
   "cell_type": "code",
   "execution_count": null,
   "metadata": {},
   "outputs": [],
   "source": [
    "chat_gui(\"Whiz Bot\", bot.infer)"
   ]
  },
  {
   "cell_type": "code",
   "execution_count": null,
   "metadata": {},
   "outputs": [],
   "source": [
    "# convert to markdown\n",
    "import nbformat\n",
    "from nbconvert import MarkdownExporter\n",
    "# get the notebook filename \n",
    "with open('WhizBot.ipynb', 'r') as file:\n",
    "    notebook_content = nbformat.read(file, as_version=4)\n",
    "\n",
    "# Initialize the Markdown exporter\n",
    "md_exporter = MarkdownExporter()\n",
    "\n",
    "# Convert the notebook to Markdown\n",
    "markdown_output, _ = md_exporter.from_notebook_node(notebook_content)\n",
    "\n",
    "# Save the Markdown content to a file\n",
    "with open('WhizBot.md', 'w', encoding='utf-8') as file:\n",
    "    file.write(markdown_output)"
   ]
  },
  {
   "cell_type": "code",
   "execution_count": 2,
   "metadata": {},
   "outputs": [
    {
     "name": "stdout",
     "output_type": "stream",
     "text": [
      "[NbConvertApp] Converting notebook WhizBot.ipynb to markdown\n",
      "[NbConvertApp] Writing 2408 bytes to WhizBot.md\n",
      "[NbConvertApp] Converting notebook WhizBot.ipynb to rst\n",
      "[NbConvertApp] Writing 2857 bytes to WhizBot.rst\n"
     ]
    }
   ],
   "source": [
    "!jupyter nbconvert --to markdown WhizBot.ipynb\n",
    "!jupyter nbconvert --to rst WhizBot.ipynb"
   ]
  }
 ],
 "metadata": {
  "kernelspec": {
   "display_name": "M1",
   "language": "python",
   "name": "python3"
  },
  "language_info": {
   "codemirror_mode": {
    "name": "ipython",
    "version": 3
   },
   "file_extension": ".py",
   "mimetype": "text/x-python",
   "name": "python",
   "nbconvert_exporter": "python",
   "pygments_lexer": "ipython3",
   "version": "3.9.16"
  },
  "orig_nbformat": 4
 },
 "nbformat": 4,
 "nbformat_minor": 2
}
