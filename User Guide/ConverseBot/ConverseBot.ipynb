{
 "cells": [
  {
   "cell_type": "markdown",
   "metadata": {},
   "source": [
    "# Converse Bot Guide"
   ]
  },
  {
   "cell_type": "markdown",
   "metadata": {},
   "source": [
    "We start by importing the converse bot from `botiverse.bots` and as well import `chat_gui` for testing purposes"
   ]
  },
  {
   "cell_type": "code",
   "execution_count": 8,
   "metadata": {},
   "outputs": [],
   "source": [
    "from botiverse.bots import ConverseBot\n",
    "from botiverse import chat_gui"
   ]
  },
  {
   "cell_type": "markdown",
   "metadata": {},
   "source": [
    "The converse bot is based on the state-of-the-art model [Text-to-text Transfer Transformer (T5)](https://arxiv.org/abs/1910.10683) by Raffel et al. It was finetuned on a large corpus of conversations to be suitable as a chatbot here at Botiverse and is capable of being further finetuned using company data to simulate a chatbot the interacts similar to human agents.\n",
    "\n",
    "Hence, the starting point is a dataset of conversation by human agents similar to the following:"
   ]
  },
  {
   "cell_type": "markdown",
   "metadata": {},
   "source": [
    "#### Dataset Sample"
   ]
  },
  {
   "cell_type": "markdown",
   "metadata": {},
   "source": [
    "```json\n",
    "[\n",
    "  [\n",
    "    \"how long does it take for an order cancellation to process?\",\n",
    "    \"Great question! Generally, if an order hasn't begun processing, the ...\"\n",
    "  ],\n",
    "  [\n",
    "    \"how can I report an undelivered package with no tracking updates or news from the shipping company?\",\n",
    "    \"Greetings! Who is the carrier and what is the current status of your package listed here: [URL] ? ^TL\"\n",
    "  ],\n",
    "  [\n",
    "    \"i have been waiting for a parcel which has been dispatched and said to arrive on Friday ...?\",\n",
    "    \"Uh no! That is not what we expect! We would like to take a closer look into this, in ...\"\n",
    "  ],\n",
    "]\n",
    "```"
   ]
  },
  {
   "cell_type": "markdown",
   "metadata": {},
   "source": [
    "The json format is very easy to deal with and is just a list of questions and their answers by human agents as found in real conversations. The typical firm with sufficient experience can easily have a lot of this data. "
   ]
  },
  {
   "cell_type": "markdown",
   "metadata": {},
   "source": [
    "### Read the Data"
   ]
  },
  {
   "cell_type": "markdown",
   "metadata": {},
   "source": [
    "We start by reading the data"
   ]
  },
  {
   "cell_type": "code",
   "execution_count": 9,
   "metadata": {},
   "outputs": [],
   "source": [
    "bot = ConverseBot()\n",
    "bot.read_data(\"conversations.json\")"
   ]
  },
  {
   "cell_type": "markdown",
   "metadata": {},
   "source": [
    "### Train and save the chatbot"
   ]
  },
  {
   "cell_type": "markdown",
   "metadata": {},
   "source": [
    "And then training the model and saving it. The `train` method supports arguments for the number of epochs and the batch size and provides a way to measure the chatbots accuracy on the training data as it trains."
   ]
  },
  {
   "cell_type": "code",
   "execution_count": 10,
   "metadata": {},
   "outputs": [
    {
     "name": "stderr",
     "output_type": "stream",
     "text": [
      "Train Acc: 0.93: 100%|██████████| 240/240 [00:01<00:00, 220.21it/s]\n"
     ]
    }
   ],
   "source": [
    "bot.train(epochs=1, batch_size=1)\n",
    "bot.save_model(\"conversebot.pt\")"
   ]
  },
  {
   "cell_type": "markdown",
   "metadata": {},
   "source": [
    "### Infer"
   ]
  },
  {
   "cell_type": "markdown",
   "metadata": {},
   "source": [
    "Once trained we can use the `infer` method as usual. It takes a string for the user input and returns a string for the chatbot's response."
   ]
  },
  {
   "cell_type": "code",
   "execution_count": 11,
   "metadata": {},
   "outputs": [
    {
     "data": {
      "text/plain": [
       "\"Hello! Welcome to our university's website.\""
      ]
     },
     "execution_count": 11,
     "metadata": {},
     "output_type": "execute_result"
    }
   ],
   "source": [
    "bot.infer(\"What is Wikipedia?\")"
   ]
  },
  {
   "cell_type": "markdown",
   "metadata": {},
   "source": [
    "### Deploy the Chatbot"
   ]
  },
  {
   "cell_type": "markdown",
   "metadata": {},
   "source": [
    "Finally, we can deploy the chatbot as needed."
   ]
  },
  {
   "cell_type": "code",
   "execution_count": null,
   "metadata": {},
   "outputs": [],
   "source": [
    "chat_gui('Converse Bot', bot.infer, server=True)"
   ]
  },
  {
   "cell_type": "code",
   "execution_count": 1,
   "metadata": {},
   "outputs": [],
   "source": [
    "# convert to markdown\n",
    "import nbformat\n",
    "from nbconvert import MarkdownExporter\n",
    "# get the notebook filename \n",
    "with open('ConverseBot.ipynb', 'r') as file:\n",
    "    notebook_content = nbformat.read(file, as_version=4)\n",
    "\n",
    "# Initialize the Markdown exporter\n",
    "md_exporter = MarkdownExporter()\n",
    "\n",
    "# Convert the notebook to Markdown\n",
    "markdown_output, _ = md_exporter.from_notebook_node(notebook_content)\n",
    "\n",
    "# Save the Markdown content to a file\n",
    "with open('ConverseBot.md', 'w', encoding='utf-8') as file:\n",
    "    file.write(markdown_output)"
   ]
  }
 ],
 "metadata": {
  "kernelspec": {
   "display_name": "M1",
   "language": "python",
   "name": "python3"
  },
  "language_info": {
   "codemirror_mode": {
    "name": "ipython",
    "version": 3
   },
   "file_extension": ".py",
   "mimetype": "text/x-python",
   "name": "python",
   "nbconvert_exporter": "python",
   "pygments_lexer": "ipython3",
   "version": "3.9.16"
  },
  "orig_nbformat": 4
 },
 "nbformat": 4,
 "nbformat_minor": 2
}
